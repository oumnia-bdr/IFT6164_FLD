{
 "cells": [
  {
   "cell_type": "code",
   "execution_count": 1,
   "metadata": {},
   "outputs": [],
   "source": [
    "import torch\n",
    "import torch.nn as nn\n",
    "import torchvision\n",
    "from fld.features.InceptionFeatureExtractor import InceptionFeatureExtractor\n",
    "from fld.metrics.FLD import FLD\n",
    "from fld.metrics.FID import FID\n",
    "import torchvision.transforms as transforms\n",
    "from torchvision.datasets import ImageFolder\n",
    "import matplotlib.pyplot as plt\n",
    "import seaborn as sns\n",
    "import pandas as pd\n",
    "from PIL import Image\n",
    "from torch.utils.data import Dataset\n",
    "\n",
    "from fld.features.DINOv2FeatureExtractor import DINOv2FeatureExtractor\n",
    "from fld.features.InceptionFeatureExtractor import InceptionFeatureExtractor\n",
    "from fld.features.CLIPFeatureExtractor import CLIPFeatureExtractor\n",
    "from fld.metrics.FLD import FLD\n",
    "from fld.metrics.FID import FID"
   ]
  },
  {
   "cell_type": "code",
   "execution_count": 2,
   "metadata": {},
   "outputs": [
    {
     "name": "stdout",
     "output_type": "stream",
     "text": [
      "True\n",
      "12.1\n",
      "1\n",
      "NVIDIA GeForce RTX 3060 Laptop GPU\n"
     ]
    }
   ],
   "source": [
    "import torch\n",
    "print(torch.cuda.is_available())  #  return True if CUDA is enabled\n",
    "print(torch.version.cuda)  #  show the CUDA version PyTorch was compiled with\n",
    "print(torch.cuda.device_count())  # Number of available GPUs\n",
    "print(torch.cuda.get_device_name(0))  # Name of your GPU (if available)\n"
   ]
  },
  {
   "cell_type": "code",
   "execution_count": 6,
   "metadata": {},
   "outputs": [
    {
     "name": "stdout",
     "output_type": "stream",
     "text": [
      "Files already downloaded and verified\n",
      "Files already downloaded and verified\n"
     ]
    }
   ],
   "source": [
    "# ----------------------\n",
    "# Step 4: Load Datasets (CIFAR-10)\n",
    "# ----------------------\n",
    "\n",
    "train_dataset = torchvision.datasets.CIFAR10(root=r\"D:\\ift6164\\data\", train=True, download=True)\n",
    "train_dataset.name = \"CIFAR10_train\"  # Dataset needs a name to cache features\n",
    "\n",
    "test_dataset = torchvision.datasets.CIFAR10(root=r\"D:\\ift6164\\data\", train=False, download=True)\n",
    "test_dataset.name = \"CIFAR10_test\"\n"
   ]
  },
  {
   "cell_type": "code",
   "execution_count": 7,
   "metadata": {},
   "outputs": [],
   "source": [
    "# ----------------------\n",
    "# Step 4: Load GENERATED Datasets (CIFAR)\n",
    "# ----------------------\n",
    "\n",
    "# Path to generated CIFAR-10 images\n",
    "generated_images_path = \"D:/ift6164/gen_data/ckpt_pgfmpp\"\n",
    "# Load generated CIFAR-10 dataset \n",
    "generated_dataset = ImageFolder(root=generated_images_path)\n",
    "generated_dataset.name = \"Generated_pgfmpp_CIFAR10\""
   ]
  },
  {
   "cell_type": "code",
   "execution_count": 8,
   "metadata": {},
   "outputs": [
    {
     "name": "stderr",
     "output_type": "stream",
     "text": [
      "Using cache found in C:\\Users\\oumni/.cache\\torch\\hub\\facebookresearch_dinov2_main\n",
      "C:\\Users\\oumni/.cache\\torch\\hub\\facebookresearch_dinov2_main\\dinov2\\layers\\swiglu_ffn.py:51: UserWarning: xFormers is not available (SwiGLU)\n",
      "  warnings.warn(\"xFormers is not available (SwiGLU)\")\n",
      "C:\\Users\\oumni/.cache\\torch\\hub\\facebookresearch_dinov2_main\\dinov2\\layers\\attention.py:33: UserWarning: xFormers is not available (Attention)\n",
      "  warnings.warn(\"xFormers is not available (Attention)\")\n",
      "C:\\Users\\oumni/.cache\\torch\\hub\\facebookresearch_dinov2_main\\dinov2\\layers\\block.py:40: UserWarning: xFormers is not available (Block)\n",
      "  warnings.warn(\"xFormers is not available (Block)\")\n"
     ]
    }
   ],
   "source": [
    "feature_extractor_D = DINOv2FeatureExtractor()"
   ]
  },
  {
   "cell_type": "code",
   "execution_count": 9,
   "metadata": {},
   "outputs": [],
   "source": [
    "## define minor transformations\n",
    "def apply_gaussian_blur(img):\n",
    "    \"\"\"Apply a minor Gaussian Blur\"\"\"\n",
    "    return transforms.GaussianBlur(kernel_size=1, sigma=(0.0008, 0.002))(img)\n",
    "\n",
    "def apply_posterize(img):\n",
    "    \"\"\"Reduce color depth to simulate posterization\"\"\"\n",
    "    return transforms.functional.posterize(img, bits=5)\n",
    "\n",
    "def apply_jpeg_compression_75(img, quality=75):\n",
    "    \"\"\"Save and reload image with JPEG compression\"\"\"\n",
    "    img_pil = img.convert(\"RGB\")  # Convert to RGB mode if needed\n",
    "    img_pil.save(\"temp.jpg\", \"JPEG\", quality=quality, optimize=True)\n",
    "    return Image.open(\"temp.jpg\").convert(\"RGB\")\n",
    "\n",
    "def apply_jpeg_compression_90(img, quality=90):\n",
    "    \"\"\"Save and reload image with JPEG compression\"\"\"\n",
    "    img_pil = img.convert(\"RGB\")  # Convert to RGB mode if needed\n",
    "    img_pil.save(\"temp.jpg\", \"JPEG\", quality=quality, optimize=True)\n",
    "    return Image.open(\"temp.jpg\").convert(\"RGB\")\n",
    "\n",
    "def apply_resize(img):\n",
    "   return transforms.Resize(size=(299, 299), interpolation=transforms.InterpolationMode.BICUBIC)(img)\n",
    "\n",
    "\n",
    "## define  major transformations\n",
    "def apply_color_distortion(img):\n",
    "    \"\"\"Randomly adjust brightness, contrast, saturation, and hue\"\"\"\n",
    "    return transforms.ColorJitter(brightness=0.25, contrast=0.25, saturation=0.25, hue=0.1)(img)\n",
    "\n",
    "def apply_center_crop_30(img):\n",
    "    \"\"\"Crop the center region of the image\"\"\"\n",
    "    #return transforms.CenterCrop(size=(img.size[0] // 2, img.size[1] // 2))(img)\n",
    "    return transforms.CenterCrop(size=(img.size[0] * 0.3 , img.size[1] * 0.3))(img)\n",
    "\n",
    "def apply_center_crop_28(img):\n",
    "    \"\"\"Crop the center region of the image\"\"\"\n",
    "    #return transforms.CenterCrop(size=(img.size[0] // 2, img.size[1] // 2))(img)\n",
    "    return transforms.CenterCrop(size=(img.size[0] * 0.28 , img.size[1] * 0.28))(img)\n",
    "\n",
    "\n",
    "def apply_elastic_transform(img):\n",
    "    \"\"\"Apply elastic deformation (requires torchvision >= 0.11.0)\"\"\"\n",
    "    return transforms.ElasticTransform(alpha=25.0)(img)\n",
    "\n",
    "\n",
    "# Define the transformation dictionary\n",
    "all_transforms = {\n",
    "    \"Gaussian Blur\": apply_gaussian_blur,\n",
    "    \"Posterize\": apply_posterize,\n",
    "    \"JPG 75\": lambda img: apply_jpeg_compression_75(img),\n",
    "    \"JPG 90\": lambda img: apply_jpeg_compression_90(img),\n",
    "    \"Resize\": apply_resize,\n",
    "    \"Color Distort\": apply_color_distortion,\n",
    "    \"Center Crop 30\": apply_center_crop_30,\n",
    "    \"Center Crop 28\": apply_center_crop_28,\n",
    "    \"Elastic Transform\": apply_elastic_transform\n",
    "}"
   ]
  },
  {
   "cell_type": "code",
   "execution_count": 10,
   "metadata": {},
   "outputs": [],
   "source": [
    "# Function to apply transformations to a dataset\n",
    "def apply_transformations(dataset, transform_dict):\n",
    "    transformed_datasets = {}\n",
    "    for name, transform in transform_dict.items():\n",
    "        #transformed_datasets[name] = [transform(img) for img in dataset]\n",
    "        transformed_datasets[name] = [transform(img[0] if isinstance(img, tuple) else img) for img in dataset]\n",
    "    return transformed_datasets"
   ]
  },
  {
   "cell_type": "code",
   "execution_count": 11,
   "metadata": {},
   "outputs": [],
   "source": [
    "transformed_images = apply_transformations(generated_dataset, all_transforms)"
   ]
  },
  {
   "cell_type": "code",
   "execution_count": 12,
   "metadata": {},
   "outputs": [
    {
     "name": "stderr",
     "output_type": "stream",
     "text": [
      "Using cache found in C:\\Users\\oumni/.cache\\torch\\hub\\facebookresearch_dinov2_main\n"
     ]
    }
   ],
   "source": [
    "feature_extractor_D = DINOv2FeatureExtractor()"
   ]
  },
  {
   "cell_type": "code",
   "execution_count": 13,
   "metadata": {},
   "outputs": [
    {
     "name": "stderr",
     "output_type": "stream",
     "text": [
      "                                                 \r"
     ]
    }
   ],
   "source": [
    "train_feat_D = feature_extractor_D.get_dataset_features(train_dataset)"
   ]
  },
  {
   "cell_type": "code",
   "execution_count": 14,
   "metadata": {},
   "outputs": [
    {
     "name": "stderr",
     "output_type": "stream",
     "text": [
      "                                               \r"
     ]
    }
   ],
   "source": [
    "test_feat_D = feature_extractor_D.get_dataset_features(test_dataset)"
   ]
  },
  {
   "cell_type": "code",
   "execution_count": 15,
   "metadata": {},
   "outputs": [
    {
     "name": "stderr",
     "output_type": "stream",
     "text": [
      "                                               \r"
     ]
    }
   ],
   "source": [
    "gen_feat_D = feature_extractor_D.get_dataset_features(generated_dataset) "
   ]
  },
  {
   "cell_type": "code",
   "execution_count": 16,
   "metadata": {},
   "outputs": [],
   "source": [
    "# Minimal dataset wrapper for transformed images\n",
    "class TransformedDataset(Dataset):\n",
    "    def __init__(self, images):\n",
    "        self.images = images  # List of images\n",
    "\n",
    "    def __len__(self):\n",
    "        return len(self.images)\n",
    "\n",
    "    def __getitem__(self, idx):\n",
    "        return self.images[idx], 0  # Dummy label\n",
    "\n",
    "# Extract features for each transformed dataset\n",
    "def extract_features(transformed_datasets):\n",
    "    return {name: feature_extractor_D.get_dataset_features(TransformedDataset(images))\n",
    "            for name, images in transformed_datasets.items()}\n",
    "\n",
    "from torch.utils.data import Dataset, DataLoader\n",
    "from tqdm import tqdm\n",
    "import torch\n",
    "import numpy as np\n",
    "import torchvision.transforms as transforms\n",
    "\n",
    "\n",
    "DINO_INPUT_SIZE = 224\n",
    "\n",
    "# Minimal dataset wrapper for transformed images\n",
    "class TransformedDataset(Dataset):\n",
    "    def __init__(self, images):\n",
    "        self.transform = transforms.Compose([\n",
    "            transforms.Resize((DINO_INPUT_SIZE, DINO_INPUT_SIZE)),  # Resize to match model\n",
    "            transforms.ToTensor()  # Convert to tensor\n",
    "        ])\n",
    "        self.images = [self.transform(img) for img in images]  # Apply transformations\n",
    "\n",
    "    def __len__(self):\n",
    "        return len(self.images)\n",
    "\n",
    "    def __getitem__(self, idx):\n",
    "        return self.images[idx], 0  # Return (image, dummy label) tuple\n",
    "\n",
    "# Function to extract features with batch processing and resizing\n",
    "def extract_features(transformed_datasets, feature_extractor, batch_size=32):\n",
    "    transformed_features = {}\n",
    "\n",
    "    for name, images in transformed_datasets.items():\n",
    "        print(f\"\\n[INFO] Extracting features for: {name} ({len(images)} images)\")\n",
    "\n",
    "        dataset = TransformedDataset(images)  # Convert image list to dataset\n",
    "        dataloader = DataLoader(dataset, batch_size=batch_size, shuffle=False)\n",
    "\n",
    "        features_list = []\n",
    "        \n",
    "        for batch_idx, (img_batch, _) in enumerate(tqdm(dataloader, desc=f\"Processing {name}\", leave=True)):\n",
    "            img_batch = img_batch.to(\"cuda\" if torch.cuda.is_available() else \"cpu\")  # Move to GPU if available\n",
    "            \n",
    "            # Extract features for the batch\n",
    "            batch_features = feature_extractor.get_feature_batch(img_batch)\n",
    "            features_list.append(batch_features.cpu().numpy())\n",
    "\n",
    "            # Print progress every 10 batches\n",
    "            if batch_idx % 10 == 0:\n",
    "                print(f\" - Processed {batch_idx * batch_size}/{len(images)} images for {name}\")\n",
    "\n",
    "        # Combine all batches into a single feature matrix\n",
    "        transformed_features[name] = np.vstack(features_list)\n",
    "\n",
    "    return transformed_features\n",
    "\n"
   ]
  },
  {
   "cell_type": "code",
   "execution_count": 17,
   "metadata": {},
   "outputs": [
    {
     "name": "stdout",
     "output_type": "stream",
     "text": [
      "\n",
      "[INFO] Extracting features for: Gaussian Blur (10089 images)\n"
     ]
    },
    {
     "name": "stderr",
     "output_type": "stream",
     "text": [
      "Processing Gaussian Blur:   0%|          | 1/316 [00:00<03:53,  1.35it/s]"
     ]
    },
    {
     "name": "stdout",
     "output_type": "stream",
     "text": [
      " - Processed 0/10089 images for Gaussian Blur\n"
     ]
    },
    {
     "name": "stderr",
     "output_type": "stream",
     "text": [
      "Processing Gaussian Blur:   3%|▎         | 11/316 [00:05<02:35,  1.96it/s]"
     ]
    },
    {
     "name": "stdout",
     "output_type": "stream",
     "text": [
      " - Processed 320/10089 images for Gaussian Blur\n"
     ]
    },
    {
     "name": "stderr",
     "output_type": "stream",
     "text": [
      "Processing Gaussian Blur:   7%|▋         | 21/316 [00:11<02:31,  1.95it/s]"
     ]
    },
    {
     "name": "stdout",
     "output_type": "stream",
     "text": [
      " - Processed 640/10089 images for Gaussian Blur\n"
     ]
    },
    {
     "name": "stderr",
     "output_type": "stream",
     "text": [
      "Processing Gaussian Blur:  10%|▉         | 31/316 [00:16<02:24,  1.98it/s]"
     ]
    },
    {
     "name": "stdout",
     "output_type": "stream",
     "text": [
      " - Processed 960/10089 images for Gaussian Blur\n"
     ]
    },
    {
     "name": "stderr",
     "output_type": "stream",
     "text": [
      "Processing Gaussian Blur:  13%|█▎        | 41/316 [00:21<02:19,  1.97it/s]"
     ]
    },
    {
     "name": "stdout",
     "output_type": "stream",
     "text": [
      " - Processed 1280/10089 images for Gaussian Blur\n"
     ]
    },
    {
     "name": "stderr",
     "output_type": "stream",
     "text": [
      "Processing Gaussian Blur:  16%|█▌        | 51/316 [00:26<02:13,  1.99it/s]"
     ]
    },
    {
     "name": "stdout",
     "output_type": "stream",
     "text": [
      " - Processed 1600/10089 images for Gaussian Blur\n"
     ]
    },
    {
     "name": "stderr",
     "output_type": "stream",
     "text": [
      "Processing Gaussian Blur:  19%|█▉        | 61/316 [00:31<02:09,  1.97it/s]"
     ]
    },
    {
     "name": "stdout",
     "output_type": "stream",
     "text": [
      " - Processed 1920/10089 images for Gaussian Blur\n"
     ]
    },
    {
     "name": "stderr",
     "output_type": "stream",
     "text": [
      "Processing Gaussian Blur:  22%|██▏       | 71/316 [00:36<02:04,  1.97it/s]"
     ]
    },
    {
     "name": "stdout",
     "output_type": "stream",
     "text": [
      " - Processed 2240/10089 images for Gaussian Blur\n"
     ]
    },
    {
     "name": "stderr",
     "output_type": "stream",
     "text": [
      "Processing Gaussian Blur:  26%|██▌       | 81/316 [00:41<01:59,  1.97it/s]"
     ]
    },
    {
     "name": "stdout",
     "output_type": "stream",
     "text": [
      " - Processed 2560/10089 images for Gaussian Blur\n"
     ]
    },
    {
     "name": "stderr",
     "output_type": "stream",
     "text": [
      "Processing Gaussian Blur:  29%|██▉       | 91/316 [00:46<01:55,  1.96it/s]"
     ]
    },
    {
     "name": "stdout",
     "output_type": "stream",
     "text": [
      " - Processed 2880/10089 images for Gaussian Blur\n"
     ]
    },
    {
     "name": "stderr",
     "output_type": "stream",
     "text": [
      "Processing Gaussian Blur:  32%|███▏      | 101/316 [00:51<01:49,  1.97it/s]"
     ]
    },
    {
     "name": "stdout",
     "output_type": "stream",
     "text": [
      " - Processed 3200/10089 images for Gaussian Blur\n"
     ]
    },
    {
     "name": "stderr",
     "output_type": "stream",
     "text": [
      "Processing Gaussian Blur:  35%|███▌      | 111/316 [00:56<01:43,  1.97it/s]"
     ]
    },
    {
     "name": "stdout",
     "output_type": "stream",
     "text": [
      " - Processed 3520/10089 images for Gaussian Blur\n"
     ]
    },
    {
     "name": "stderr",
     "output_type": "stream",
     "text": [
      "Processing Gaussian Blur:  38%|███▊      | 121/316 [01:01<01:38,  1.97it/s]"
     ]
    },
    {
     "name": "stdout",
     "output_type": "stream",
     "text": [
      " - Processed 3840/10089 images for Gaussian Blur\n"
     ]
    },
    {
     "name": "stderr",
     "output_type": "stream",
     "text": [
      "Processing Gaussian Blur:  41%|████▏     | 131/316 [01:06<01:32,  1.99it/s]"
     ]
    },
    {
     "name": "stdout",
     "output_type": "stream",
     "text": [
      " - Processed 4160/10089 images for Gaussian Blur\n"
     ]
    },
    {
     "name": "stderr",
     "output_type": "stream",
     "text": [
      "Processing Gaussian Blur:  45%|████▍     | 141/316 [01:11<01:28,  1.98it/s]"
     ]
    },
    {
     "name": "stdout",
     "output_type": "stream",
     "text": [
      " - Processed 4480/10089 images for Gaussian Blur\n"
     ]
    },
    {
     "name": "stderr",
     "output_type": "stream",
     "text": [
      "Processing Gaussian Blur:  48%|████▊     | 151/316 [01:16<01:23,  1.98it/s]"
     ]
    },
    {
     "name": "stdout",
     "output_type": "stream",
     "text": [
      " - Processed 4800/10089 images for Gaussian Blur\n"
     ]
    },
    {
     "name": "stderr",
     "output_type": "stream",
     "text": [
      "Processing Gaussian Blur:  51%|█████     | 161/316 [01:21<01:18,  1.98it/s]"
     ]
    },
    {
     "name": "stdout",
     "output_type": "stream",
     "text": [
      " - Processed 5120/10089 images for Gaussian Blur\n"
     ]
    },
    {
     "name": "stderr",
     "output_type": "stream",
     "text": [
      "Processing Gaussian Blur:  54%|█████▍    | 171/316 [01:26<01:12,  1.99it/s]"
     ]
    },
    {
     "name": "stdout",
     "output_type": "stream",
     "text": [
      " - Processed 5440/10089 images for Gaussian Blur\n"
     ]
    },
    {
     "name": "stderr",
     "output_type": "stream",
     "text": [
      "Processing Gaussian Blur:  57%|█████▋    | 181/316 [01:30<00:49,  2.74it/s]"
     ]
    },
    {
     "name": "stdout",
     "output_type": "stream",
     "text": [
      " - Processed 5760/10089 images for Gaussian Blur\n"
     ]
    },
    {
     "name": "stderr",
     "output_type": "stream",
     "text": [
      "Processing Gaussian Blur:  60%|██████    | 191/316 [01:34<00:38,  3.24it/s]"
     ]
    },
    {
     "name": "stdout",
     "output_type": "stream",
     "text": [
      " - Processed 6080/10089 images for Gaussian Blur\n"
     ]
    },
    {
     "name": "stderr",
     "output_type": "stream",
     "text": [
      "Processing Gaussian Blur:  64%|██████▎   | 201/316 [01:37<00:35,  3.28it/s]"
     ]
    },
    {
     "name": "stdout",
     "output_type": "stream",
     "text": [
      " - Processed 6400/10089 images for Gaussian Blur\n"
     ]
    },
    {
     "name": "stderr",
     "output_type": "stream",
     "text": [
      "Processing Gaussian Blur:  67%|██████▋   | 211/316 [01:40<00:31,  3.32it/s]"
     ]
    },
    {
     "name": "stdout",
     "output_type": "stream",
     "text": [
      " - Processed 6720/10089 images for Gaussian Blur\n"
     ]
    },
    {
     "name": "stderr",
     "output_type": "stream",
     "text": [
      "Processing Gaussian Blur:  70%|██████▉   | 221/316 [01:43<00:28,  3.33it/s]"
     ]
    },
    {
     "name": "stdout",
     "output_type": "stream",
     "text": [
      " - Processed 7040/10089 images for Gaussian Blur\n"
     ]
    },
    {
     "name": "stderr",
     "output_type": "stream",
     "text": [
      "Processing Gaussian Blur:  73%|███████▎  | 231/316 [01:46<00:29,  2.88it/s]"
     ]
    },
    {
     "name": "stdout",
     "output_type": "stream",
     "text": [
      " - Processed 7360/10089 images for Gaussian Blur\n"
     ]
    },
    {
     "name": "stderr",
     "output_type": "stream",
     "text": [
      "Processing Gaussian Blur:  76%|███████▋  | 241/316 [01:49<00:23,  3.20it/s]"
     ]
    },
    {
     "name": "stdout",
     "output_type": "stream",
     "text": [
      " - Processed 7680/10089 images for Gaussian Blur\n"
     ]
    },
    {
     "name": "stderr",
     "output_type": "stream",
     "text": [
      "Processing Gaussian Blur:  79%|███████▉  | 251/316 [01:52<00:20,  3.24it/s]"
     ]
    },
    {
     "name": "stdout",
     "output_type": "stream",
     "text": [
      " - Processed 8000/10089 images for Gaussian Blur\n"
     ]
    },
    {
     "name": "stderr",
     "output_type": "stream",
     "text": [
      "Processing Gaussian Blur:  83%|████████▎ | 261/316 [01:55<00:17,  3.18it/s]"
     ]
    },
    {
     "name": "stdout",
     "output_type": "stream",
     "text": [
      " - Processed 8320/10089 images for Gaussian Blur\n"
     ]
    },
    {
     "name": "stderr",
     "output_type": "stream",
     "text": [
      "Processing Gaussian Blur:  86%|████████▌ | 271/316 [01:58<00:14,  3.13it/s]"
     ]
    },
    {
     "name": "stdout",
     "output_type": "stream",
     "text": [
      " - Processed 8640/10089 images for Gaussian Blur\n"
     ]
    },
    {
     "name": "stderr",
     "output_type": "stream",
     "text": [
      "Processing Gaussian Blur:  89%|████████▉ | 281/316 [02:02<00:11,  3.08it/s]"
     ]
    },
    {
     "name": "stdout",
     "output_type": "stream",
     "text": [
      " - Processed 8960/10089 images for Gaussian Blur\n"
     ]
    },
    {
     "name": "stderr",
     "output_type": "stream",
     "text": [
      "Processing Gaussian Blur:  92%|█████████▏| 291/316 [02:05<00:08,  2.84it/s]"
     ]
    },
    {
     "name": "stdout",
     "output_type": "stream",
     "text": [
      " - Processed 9280/10089 images for Gaussian Blur\n"
     ]
    },
    {
     "name": "stderr",
     "output_type": "stream",
     "text": [
      "Processing Gaussian Blur:  95%|█████████▌| 301/316 [02:08<00:04,  3.01it/s]"
     ]
    },
    {
     "name": "stdout",
     "output_type": "stream",
     "text": [
      " - Processed 9600/10089 images for Gaussian Blur\n"
     ]
    },
    {
     "name": "stderr",
     "output_type": "stream",
     "text": [
      "Processing Gaussian Blur:  98%|█████████▊| 311/316 [02:12<00:01,  3.04it/s]"
     ]
    },
    {
     "name": "stdout",
     "output_type": "stream",
     "text": [
      " - Processed 9920/10089 images for Gaussian Blur\n"
     ]
    },
    {
     "name": "stderr",
     "output_type": "stream",
     "text": [
      "Processing Gaussian Blur: 100%|██████████| 316/316 [02:13<00:00,  2.37it/s]\n"
     ]
    },
    {
     "name": "stdout",
     "output_type": "stream",
     "text": [
      "\n",
      "[INFO] Extracting features for: Posterize (10089 images)\n"
     ]
    },
    {
     "name": "stderr",
     "output_type": "stream",
     "text": [
      "Processing Posterize:   0%|          | 1/316 [00:01<05:18,  1.01s/it]"
     ]
    },
    {
     "name": "stdout",
     "output_type": "stream",
     "text": [
      " - Processed 0/10089 images for Posterize\n"
     ]
    },
    {
     "name": "stderr",
     "output_type": "stream",
     "text": [
      "Processing Posterize:   3%|▎         | 11/316 [00:06<02:47,  1.82it/s]"
     ]
    },
    {
     "name": "stdout",
     "output_type": "stream",
     "text": [
      " - Processed 320/10089 images for Posterize\n"
     ]
    },
    {
     "name": "stderr",
     "output_type": "stream",
     "text": [
      "Processing Posterize:   7%|▋         | 21/316 [00:11<02:24,  2.05it/s]"
     ]
    },
    {
     "name": "stdout",
     "output_type": "stream",
     "text": [
      " - Processed 640/10089 images for Posterize\n"
     ]
    },
    {
     "name": "stderr",
     "output_type": "stream",
     "text": [
      "Processing Posterize:  10%|▉         | 31/316 [00:16<02:35,  1.84it/s]"
     ]
    },
    {
     "name": "stdout",
     "output_type": "stream",
     "text": [
      " - Processed 960/10089 images for Posterize\n"
     ]
    },
    {
     "name": "stderr",
     "output_type": "stream",
     "text": [
      "Processing Posterize:  13%|█▎        | 41/316 [00:22<02:21,  1.94it/s]"
     ]
    },
    {
     "name": "stdout",
     "output_type": "stream",
     "text": [
      " - Processed 1280/10089 images for Posterize\n"
     ]
    },
    {
     "name": "stderr",
     "output_type": "stream",
     "text": [
      "Processing Posterize:  16%|█▌        | 51/316 [00:26<01:57,  2.26it/s]"
     ]
    },
    {
     "name": "stdout",
     "output_type": "stream",
     "text": [
      " - Processed 1600/10089 images for Posterize\n"
     ]
    },
    {
     "name": "stderr",
     "output_type": "stream",
     "text": [
      "Processing Posterize:  19%|█▉        | 61/316 [00:31<02:01,  2.09it/s]"
     ]
    },
    {
     "name": "stdout",
     "output_type": "stream",
     "text": [
      " - Processed 1920/10089 images for Posterize\n"
     ]
    },
    {
     "name": "stderr",
     "output_type": "stream",
     "text": [
      "Processing Posterize:  22%|██▏       | 71/316 [00:35<01:38,  2.48it/s]"
     ]
    },
    {
     "name": "stdout",
     "output_type": "stream",
     "text": [
      " - Processed 2240/10089 images for Posterize\n"
     ]
    },
    {
     "name": "stderr",
     "output_type": "stream",
     "text": [
      "Processing Posterize:  26%|██▌       | 81/316 [00:40<01:51,  2.11it/s]"
     ]
    },
    {
     "name": "stdout",
     "output_type": "stream",
     "text": [
      " - Processed 2560/10089 images for Posterize\n"
     ]
    },
    {
     "name": "stderr",
     "output_type": "stream",
     "text": [
      "Processing Posterize:  29%|██▉       | 91/316 [00:45<01:51,  2.01it/s]"
     ]
    },
    {
     "name": "stdout",
     "output_type": "stream",
     "text": [
      " - Processed 2880/10089 images for Posterize\n"
     ]
    },
    {
     "name": "stderr",
     "output_type": "stream",
     "text": [
      "Processing Posterize:  32%|███▏      | 101/316 [00:49<01:26,  2.49it/s]"
     ]
    },
    {
     "name": "stdout",
     "output_type": "stream",
     "text": [
      " - Processed 3200/10089 images for Posterize\n"
     ]
    },
    {
     "name": "stderr",
     "output_type": "stream",
     "text": [
      "Processing Posterize:  35%|███▌      | 111/316 [00:52<01:10,  2.90it/s]"
     ]
    },
    {
     "name": "stdout",
     "output_type": "stream",
     "text": [
      " - Processed 3520/10089 images for Posterize\n"
     ]
    },
    {
     "name": "stderr",
     "output_type": "stream",
     "text": [
      "Processing Posterize:  38%|███▊      | 121/316 [00:56<01:12,  2.68it/s]"
     ]
    },
    {
     "name": "stdout",
     "output_type": "stream",
     "text": [
      " - Processed 3840/10089 images for Posterize\n"
     ]
    },
    {
     "name": "stderr",
     "output_type": "stream",
     "text": [
      "Processing Posterize:  41%|████▏     | 131/316 [01:00<01:08,  2.71it/s]"
     ]
    },
    {
     "name": "stdout",
     "output_type": "stream",
     "text": [
      " - Processed 4160/10089 images for Posterize\n"
     ]
    },
    {
     "name": "stderr",
     "output_type": "stream",
     "text": [
      "Processing Posterize:  45%|████▍     | 141/316 [01:03<01:03,  2.76it/s]"
     ]
    },
    {
     "name": "stdout",
     "output_type": "stream",
     "text": [
      " - Processed 4480/10089 images for Posterize\n"
     ]
    },
    {
     "name": "stderr",
     "output_type": "stream",
     "text": [
      "Processing Posterize:  48%|████▊     | 151/316 [01:07<01:01,  2.69it/s]"
     ]
    },
    {
     "name": "stdout",
     "output_type": "stream",
     "text": [
      " - Processed 4800/10089 images for Posterize\n"
     ]
    },
    {
     "name": "stderr",
     "output_type": "stream",
     "text": [
      "Processing Posterize:  51%|█████     | 161/316 [01:11<00:55,  2.81it/s]"
     ]
    },
    {
     "name": "stdout",
     "output_type": "stream",
     "text": [
      " - Processed 5120/10089 images for Posterize\n"
     ]
    },
    {
     "name": "stderr",
     "output_type": "stream",
     "text": [
      "Processing Posterize:  54%|█████▍    | 171/316 [01:14<00:49,  2.95it/s]"
     ]
    },
    {
     "name": "stdout",
     "output_type": "stream",
     "text": [
      " - Processed 5440/10089 images for Posterize\n"
     ]
    },
    {
     "name": "stderr",
     "output_type": "stream",
     "text": [
      "Processing Posterize:  57%|█████▋    | 181/316 [01:19<00:59,  2.26it/s]"
     ]
    },
    {
     "name": "stdout",
     "output_type": "stream",
     "text": [
      " - Processed 5760/10089 images for Posterize\n"
     ]
    },
    {
     "name": "stderr",
     "output_type": "stream",
     "text": [
      "Processing Posterize:  60%|██████    | 191/316 [01:23<00:47,  2.61it/s]"
     ]
    },
    {
     "name": "stdout",
     "output_type": "stream",
     "text": [
      " - Processed 6080/10089 images for Posterize\n"
     ]
    },
    {
     "name": "stderr",
     "output_type": "stream",
     "text": [
      "Processing Posterize:  64%|██████▎   | 201/316 [01:26<00:46,  2.48it/s]"
     ]
    },
    {
     "name": "stdout",
     "output_type": "stream",
     "text": [
      " - Processed 6400/10089 images for Posterize\n"
     ]
    },
    {
     "name": "stderr",
     "output_type": "stream",
     "text": [
      "Processing Posterize:  67%|██████▋   | 211/316 [01:30<00:38,  2.70it/s]"
     ]
    },
    {
     "name": "stdout",
     "output_type": "stream",
     "text": [
      " - Processed 6720/10089 images for Posterize\n"
     ]
    },
    {
     "name": "stderr",
     "output_type": "stream",
     "text": [
      "Processing Posterize:  70%|██████▉   | 221/316 [01:35<00:44,  2.14it/s]"
     ]
    },
    {
     "name": "stdout",
     "output_type": "stream",
     "text": [
      " - Processed 7040/10089 images for Posterize\n"
     ]
    },
    {
     "name": "stderr",
     "output_type": "stream",
     "text": [
      "Processing Posterize:  73%|███████▎  | 231/316 [01:39<00:37,  2.27it/s]"
     ]
    },
    {
     "name": "stdout",
     "output_type": "stream",
     "text": [
      " - Processed 7360/10089 images for Posterize\n"
     ]
    },
    {
     "name": "stderr",
     "output_type": "stream",
     "text": [
      "Processing Posterize:  76%|███████▋  | 241/316 [01:43<00:30,  2.46it/s]"
     ]
    },
    {
     "name": "stdout",
     "output_type": "stream",
     "text": [
      " - Processed 7680/10089 images for Posterize\n"
     ]
    },
    {
     "name": "stderr",
     "output_type": "stream",
     "text": [
      "Processing Posterize:  79%|███████▉  | 251/316 [01:47<00:26,  2.44it/s]"
     ]
    },
    {
     "name": "stdout",
     "output_type": "stream",
     "text": [
      " - Processed 8000/10089 images for Posterize\n"
     ]
    },
    {
     "name": "stderr",
     "output_type": "stream",
     "text": [
      "Processing Posterize:  83%|████████▎ | 261/316 [01:51<00:21,  2.57it/s]"
     ]
    },
    {
     "name": "stdout",
     "output_type": "stream",
     "text": [
      " - Processed 8320/10089 images for Posterize\n"
     ]
    },
    {
     "name": "stderr",
     "output_type": "stream",
     "text": [
      "Processing Posterize:  86%|████████▌ | 271/316 [01:55<00:18,  2.39it/s]"
     ]
    },
    {
     "name": "stdout",
     "output_type": "stream",
     "text": [
      " - Processed 8640/10089 images for Posterize\n"
     ]
    },
    {
     "name": "stderr",
     "output_type": "stream",
     "text": [
      "Processing Posterize:  89%|████████▉ | 281/316 [01:59<00:13,  2.69it/s]"
     ]
    },
    {
     "name": "stdout",
     "output_type": "stream",
     "text": [
      " - Processed 8960/10089 images for Posterize\n"
     ]
    },
    {
     "name": "stderr",
     "output_type": "stream",
     "text": [
      "Processing Posterize:  92%|█████████▏| 291/316 [02:03<00:09,  2.63it/s]"
     ]
    },
    {
     "name": "stdout",
     "output_type": "stream",
     "text": [
      " - Processed 9280/10089 images for Posterize\n"
     ]
    },
    {
     "name": "stderr",
     "output_type": "stream",
     "text": [
      "Processing Posterize:  95%|█████████▌| 301/316 [02:08<00:07,  2.04it/s]"
     ]
    },
    {
     "name": "stdout",
     "output_type": "stream",
     "text": [
      " - Processed 9600/10089 images for Posterize\n"
     ]
    },
    {
     "name": "stderr",
     "output_type": "stream",
     "text": [
      "Processing Posterize:  98%|█████████▊| 311/316 [02:12<00:02,  2.48it/s]"
     ]
    },
    {
     "name": "stdout",
     "output_type": "stream",
     "text": [
      " - Processed 9920/10089 images for Posterize\n"
     ]
    },
    {
     "name": "stderr",
     "output_type": "stream",
     "text": [
      "Processing Posterize: 100%|██████████| 316/316 [02:14<00:00,  2.36it/s]\n"
     ]
    },
    {
     "name": "stdout",
     "output_type": "stream",
     "text": [
      "\n",
      "[INFO] Extracting features for: JPG 75 (10089 images)\n"
     ]
    },
    {
     "name": "stderr",
     "output_type": "stream",
     "text": [
      "Processing JPG 75:   0%|          | 1/316 [00:00<03:41,  1.42it/s]"
     ]
    },
    {
     "name": "stdout",
     "output_type": "stream",
     "text": [
      " - Processed 0/10089 images for JPG 75\n"
     ]
    },
    {
     "name": "stderr",
     "output_type": "stream",
     "text": [
      "Processing JPG 75:   3%|▎         | 11/316 [00:05<02:33,  1.99it/s]"
     ]
    },
    {
     "name": "stdout",
     "output_type": "stream",
     "text": [
      " - Processed 320/10089 images for JPG 75\n"
     ]
    },
    {
     "name": "stderr",
     "output_type": "stream",
     "text": [
      "Processing JPG 75:   7%|▋         | 21/316 [00:09<01:46,  2.78it/s]"
     ]
    },
    {
     "name": "stdout",
     "output_type": "stream",
     "text": [
      " - Processed 640/10089 images for JPG 75\n"
     ]
    },
    {
     "name": "stderr",
     "output_type": "stream",
     "text": [
      "Processing JPG 75:  10%|▉         | 31/316 [00:12<01:31,  3.12it/s]"
     ]
    },
    {
     "name": "stdout",
     "output_type": "stream",
     "text": [
      " - Processed 960/10089 images for JPG 75\n"
     ]
    },
    {
     "name": "stderr",
     "output_type": "stream",
     "text": [
      "Processing JPG 75:  13%|█▎        | 41/316 [00:16<01:39,  2.75it/s]"
     ]
    },
    {
     "name": "stdout",
     "output_type": "stream",
     "text": [
      " - Processed 1280/10089 images for JPG 75\n"
     ]
    },
    {
     "name": "stderr",
     "output_type": "stream",
     "text": [
      "Processing JPG 75:  16%|█▌        | 51/316 [00:19<01:20,  3.28it/s]"
     ]
    },
    {
     "name": "stdout",
     "output_type": "stream",
     "text": [
      " - Processed 1600/10089 images for JPG 75\n"
     ]
    },
    {
     "name": "stderr",
     "output_type": "stream",
     "text": [
      "Processing JPG 75:  19%|█▉        | 61/316 [00:22<01:19,  3.21it/s]"
     ]
    },
    {
     "name": "stdout",
     "output_type": "stream",
     "text": [
      " - Processed 1920/10089 images for JPG 75\n"
     ]
    },
    {
     "name": "stderr",
     "output_type": "stream",
     "text": [
      "Processing JPG 75:  22%|██▏       | 71/316 [00:25<01:14,  3.31it/s]"
     ]
    },
    {
     "name": "stdout",
     "output_type": "stream",
     "text": [
      " - Processed 2240/10089 images for JPG 75\n"
     ]
    },
    {
     "name": "stderr",
     "output_type": "stream",
     "text": [
      "Processing JPG 75:  26%|██▌       | 81/316 [00:28<01:10,  3.34it/s]"
     ]
    },
    {
     "name": "stdout",
     "output_type": "stream",
     "text": [
      " - Processed 2560/10089 images for JPG 75\n"
     ]
    },
    {
     "name": "stderr",
     "output_type": "stream",
     "text": [
      "Processing JPG 75:  29%|██▉       | 91/316 [00:31<01:07,  3.33it/s]"
     ]
    },
    {
     "name": "stdout",
     "output_type": "stream",
     "text": [
      " - Processed 2880/10089 images for JPG 75\n"
     ]
    },
    {
     "name": "stderr",
     "output_type": "stream",
     "text": [
      "Processing JPG 75:  32%|███▏      | 101/316 [00:34<01:04,  3.35it/s]"
     ]
    },
    {
     "name": "stdout",
     "output_type": "stream",
     "text": [
      " - Processed 3200/10089 images for JPG 75\n"
     ]
    },
    {
     "name": "stderr",
     "output_type": "stream",
     "text": [
      "Processing JPG 75:  35%|███▌      | 111/316 [00:37<01:00,  3.38it/s]"
     ]
    },
    {
     "name": "stdout",
     "output_type": "stream",
     "text": [
      " - Processed 3520/10089 images for JPG 75\n"
     ]
    },
    {
     "name": "stderr",
     "output_type": "stream",
     "text": [
      "Processing JPG 75:  38%|███▊      | 121/316 [00:40<00:58,  3.34it/s]"
     ]
    },
    {
     "name": "stdout",
     "output_type": "stream",
     "text": [
      " - Processed 3840/10089 images for JPG 75\n"
     ]
    },
    {
     "name": "stderr",
     "output_type": "stream",
     "text": [
      "Processing JPG 75:  41%|████▏     | 131/316 [00:43<00:54,  3.37it/s]"
     ]
    },
    {
     "name": "stdout",
     "output_type": "stream",
     "text": [
      " - Processed 4160/10089 images for JPG 75\n"
     ]
    },
    {
     "name": "stderr",
     "output_type": "stream",
     "text": [
      "Processing JPG 75:  45%|████▍     | 141/316 [00:46<00:53,  3.29it/s]"
     ]
    },
    {
     "name": "stdout",
     "output_type": "stream",
     "text": [
      " - Processed 4480/10089 images for JPG 75\n"
     ]
    },
    {
     "name": "stderr",
     "output_type": "stream",
     "text": [
      "Processing JPG 75:  48%|████▊     | 151/316 [00:49<00:50,  3.28it/s]"
     ]
    },
    {
     "name": "stdout",
     "output_type": "stream",
     "text": [
      " - Processed 4800/10089 images for JPG 75\n"
     ]
    },
    {
     "name": "stderr",
     "output_type": "stream",
     "text": [
      "Processing JPG 75:  51%|█████     | 161/316 [00:52<00:48,  3.17it/s]"
     ]
    },
    {
     "name": "stdout",
     "output_type": "stream",
     "text": [
      " - Processed 5120/10089 images for JPG 75\n"
     ]
    },
    {
     "name": "stderr",
     "output_type": "stream",
     "text": [
      "Processing JPG 75:  54%|█████▍    | 171/316 [00:55<00:45,  3.16it/s]"
     ]
    },
    {
     "name": "stdout",
     "output_type": "stream",
     "text": [
      " - Processed 5440/10089 images for JPG 75\n"
     ]
    },
    {
     "name": "stderr",
     "output_type": "stream",
     "text": [
      "Processing JPG 75:  57%|█████▋    | 181/316 [00:59<00:42,  3.17it/s]"
     ]
    },
    {
     "name": "stdout",
     "output_type": "stream",
     "text": [
      " - Processed 5760/10089 images for JPG 75\n"
     ]
    },
    {
     "name": "stderr",
     "output_type": "stream",
     "text": [
      "Processing JPG 75:  60%|██████    | 191/316 [01:02<00:39,  3.15it/s]"
     ]
    },
    {
     "name": "stdout",
     "output_type": "stream",
     "text": [
      " - Processed 6080/10089 images for JPG 75\n"
     ]
    },
    {
     "name": "stderr",
     "output_type": "stream",
     "text": [
      "Processing JPG 75:  64%|██████▎   | 201/316 [01:05<00:37,  3.07it/s]"
     ]
    },
    {
     "name": "stdout",
     "output_type": "stream",
     "text": [
      " - Processed 6400/10089 images for JPG 75\n"
     ]
    },
    {
     "name": "stderr",
     "output_type": "stream",
     "text": [
      "Processing JPG 75:  67%|██████▋   | 211/316 [01:08<00:33,  3.10it/s]"
     ]
    },
    {
     "name": "stdout",
     "output_type": "stream",
     "text": [
      " - Processed 6720/10089 images for JPG 75\n"
     ]
    },
    {
     "name": "stderr",
     "output_type": "stream",
     "text": [
      "Processing JPG 75:  70%|██████▉   | 221/316 [01:11<00:30,  3.09it/s]"
     ]
    },
    {
     "name": "stdout",
     "output_type": "stream",
     "text": [
      " - Processed 7040/10089 images for JPG 75\n"
     ]
    },
    {
     "name": "stderr",
     "output_type": "stream",
     "text": [
      "Processing JPG 75:  73%|███████▎  | 231/316 [01:15<00:27,  3.07it/s]"
     ]
    },
    {
     "name": "stdout",
     "output_type": "stream",
     "text": [
      " - Processed 7360/10089 images for JPG 75\n"
     ]
    },
    {
     "name": "stderr",
     "output_type": "stream",
     "text": [
      "Processing JPG 75:  76%|███████▋  | 241/316 [01:18<00:24,  3.11it/s]"
     ]
    },
    {
     "name": "stdout",
     "output_type": "stream",
     "text": [
      " - Processed 7680/10089 images for JPG 75\n"
     ]
    },
    {
     "name": "stderr",
     "output_type": "stream",
     "text": [
      "Processing JPG 75:  79%|███████▉  | 251/316 [01:21<00:20,  3.12it/s]"
     ]
    },
    {
     "name": "stdout",
     "output_type": "stream",
     "text": [
      " - Processed 8000/10089 images for JPG 75\n"
     ]
    },
    {
     "name": "stderr",
     "output_type": "stream",
     "text": [
      "Processing JPG 75:  83%|████████▎ | 261/316 [01:24<00:17,  3.12it/s]"
     ]
    },
    {
     "name": "stdout",
     "output_type": "stream",
     "text": [
      " - Processed 8320/10089 images for JPG 75\n"
     ]
    },
    {
     "name": "stderr",
     "output_type": "stream",
     "text": [
      "Processing JPG 75:  86%|████████▌ | 271/316 [01:28<00:15,  2.93it/s]"
     ]
    },
    {
     "name": "stdout",
     "output_type": "stream",
     "text": [
      " - Processed 8640/10089 images for JPG 75\n"
     ]
    },
    {
     "name": "stderr",
     "output_type": "stream",
     "text": [
      "Processing JPG 75:  89%|████████▉ | 281/316 [01:31<00:11,  3.05it/s]"
     ]
    },
    {
     "name": "stdout",
     "output_type": "stream",
     "text": [
      " - Processed 8960/10089 images for JPG 75\n"
     ]
    },
    {
     "name": "stderr",
     "output_type": "stream",
     "text": [
      "Processing JPG 75:  92%|█████████▏| 291/316 [01:34<00:08,  2.99it/s]"
     ]
    },
    {
     "name": "stdout",
     "output_type": "stream",
     "text": [
      " - Processed 9280/10089 images for JPG 75\n"
     ]
    },
    {
     "name": "stderr",
     "output_type": "stream",
     "text": [
      "Processing JPG 75:  95%|█████████▌| 301/316 [01:38<00:05,  2.95it/s]"
     ]
    },
    {
     "name": "stdout",
     "output_type": "stream",
     "text": [
      " - Processed 9600/10089 images for JPG 75\n"
     ]
    },
    {
     "name": "stderr",
     "output_type": "stream",
     "text": [
      "Processing JPG 75:  98%|█████████▊| 311/316 [01:41<00:01,  2.95it/s]"
     ]
    },
    {
     "name": "stdout",
     "output_type": "stream",
     "text": [
      " - Processed 9920/10089 images for JPG 75\n"
     ]
    },
    {
     "name": "stderr",
     "output_type": "stream",
     "text": [
      "Processing JPG 75: 100%|██████████| 316/316 [01:42<00:00,  3.07it/s]\n"
     ]
    },
    {
     "name": "stdout",
     "output_type": "stream",
     "text": [
      "\n",
      "[INFO] Extracting features for: JPG 90 (10089 images)\n"
     ]
    },
    {
     "name": "stderr",
     "output_type": "stream",
     "text": [
      "Processing JPG 90:   0%|          | 1/316 [00:00<05:06,  1.03it/s]"
     ]
    },
    {
     "name": "stdout",
     "output_type": "stream",
     "text": [
      " - Processed 0/10089 images for JPG 90\n"
     ]
    },
    {
     "name": "stderr",
     "output_type": "stream",
     "text": [
      "Processing JPG 90:   3%|▎         | 11/316 [00:05<01:57,  2.60it/s]"
     ]
    },
    {
     "name": "stdout",
     "output_type": "stream",
     "text": [
      " - Processed 320/10089 images for JPG 90\n"
     ]
    },
    {
     "name": "stderr",
     "output_type": "stream",
     "text": [
      "Processing JPG 90:   7%|▋         | 21/316 [00:08<02:00,  2.45it/s]"
     ]
    },
    {
     "name": "stdout",
     "output_type": "stream",
     "text": [
      " - Processed 640/10089 images for JPG 90\n"
     ]
    },
    {
     "name": "stderr",
     "output_type": "stream",
     "text": [
      "Processing JPG 90:  10%|▉         | 31/316 [00:13<01:51,  2.56it/s]"
     ]
    },
    {
     "name": "stdout",
     "output_type": "stream",
     "text": [
      " - Processed 960/10089 images for JPG 90\n"
     ]
    },
    {
     "name": "stderr",
     "output_type": "stream",
     "text": [
      "Processing JPG 90:  13%|█▎        | 41/316 [00:16<01:43,  2.65it/s]"
     ]
    },
    {
     "name": "stdout",
     "output_type": "stream",
     "text": [
      " - Processed 1280/10089 images for JPG 90\n"
     ]
    },
    {
     "name": "stderr",
     "output_type": "stream",
     "text": [
      "Processing JPG 90:  16%|█▌        | 51/316 [00:20<01:32,  2.86it/s]"
     ]
    },
    {
     "name": "stdout",
     "output_type": "stream",
     "text": [
      " - Processed 1600/10089 images for JPG 90\n"
     ]
    },
    {
     "name": "stderr",
     "output_type": "stream",
     "text": [
      "Processing JPG 90:  19%|█▉        | 61/316 [00:23<01:31,  2.79it/s]"
     ]
    },
    {
     "name": "stdout",
     "output_type": "stream",
     "text": [
      " - Processed 1920/10089 images for JPG 90\n"
     ]
    },
    {
     "name": "stderr",
     "output_type": "stream",
     "text": [
      "Processing JPG 90:  22%|██▏       | 71/316 [00:28<01:41,  2.41it/s]"
     ]
    },
    {
     "name": "stdout",
     "output_type": "stream",
     "text": [
      " - Processed 2240/10089 images for JPG 90\n"
     ]
    },
    {
     "name": "stderr",
     "output_type": "stream",
     "text": [
      "Processing JPG 90:  26%|██▌       | 81/316 [00:32<01:21,  2.90it/s]"
     ]
    },
    {
     "name": "stdout",
     "output_type": "stream",
     "text": [
      " - Processed 2560/10089 images for JPG 90\n"
     ]
    },
    {
     "name": "stderr",
     "output_type": "stream",
     "text": [
      "Processing JPG 90:  29%|██▉       | 91/316 [00:35<01:11,  3.15it/s]"
     ]
    },
    {
     "name": "stdout",
     "output_type": "stream",
     "text": [
      " - Processed 2880/10089 images for JPG 90\n"
     ]
    },
    {
     "name": "stderr",
     "output_type": "stream",
     "text": [
      "Processing JPG 90:  32%|███▏      | 101/316 [00:38<01:07,  3.19it/s]"
     ]
    },
    {
     "name": "stdout",
     "output_type": "stream",
     "text": [
      " - Processed 3200/10089 images for JPG 90\n"
     ]
    },
    {
     "name": "stderr",
     "output_type": "stream",
     "text": [
      "Processing JPG 90:  35%|███▌      | 111/316 [00:41<01:15,  2.73it/s]"
     ]
    },
    {
     "name": "stdout",
     "output_type": "stream",
     "text": [
      " - Processed 3520/10089 images for JPG 90\n"
     ]
    },
    {
     "name": "stderr",
     "output_type": "stream",
     "text": [
      "Processing JPG 90:  38%|███▊      | 121/316 [00:45<01:11,  2.74it/s]"
     ]
    },
    {
     "name": "stdout",
     "output_type": "stream",
     "text": [
      " - Processed 3840/10089 images for JPG 90\n"
     ]
    },
    {
     "name": "stderr",
     "output_type": "stream",
     "text": [
      "Processing JPG 90:  41%|████▏     | 131/316 [00:48<01:01,  3.01it/s]"
     ]
    },
    {
     "name": "stdout",
     "output_type": "stream",
     "text": [
      " - Processed 4160/10089 images for JPG 90\n"
     ]
    },
    {
     "name": "stderr",
     "output_type": "stream",
     "text": [
      "Processing JPG 90:  45%|████▍     | 141/316 [00:51<00:53,  3.24it/s]"
     ]
    },
    {
     "name": "stdout",
     "output_type": "stream",
     "text": [
      " - Processed 4480/10089 images for JPG 90\n"
     ]
    },
    {
     "name": "stderr",
     "output_type": "stream",
     "text": [
      "Processing JPG 90:  48%|████▊     | 151/316 [00:54<00:52,  3.11it/s]"
     ]
    },
    {
     "name": "stdout",
     "output_type": "stream",
     "text": [
      " - Processed 4800/10089 images for JPG 90\n"
     ]
    },
    {
     "name": "stderr",
     "output_type": "stream",
     "text": [
      "Processing JPG 90:  51%|█████     | 161/316 [00:58<00:50,  3.07it/s]"
     ]
    },
    {
     "name": "stdout",
     "output_type": "stream",
     "text": [
      " - Processed 5120/10089 images for JPG 90\n"
     ]
    },
    {
     "name": "stderr",
     "output_type": "stream",
     "text": [
      "Processing JPG 90:  54%|█████▍    | 171/316 [01:02<01:00,  2.42it/s]"
     ]
    },
    {
     "name": "stdout",
     "output_type": "stream",
     "text": [
      " - Processed 5440/10089 images for JPG 90\n"
     ]
    },
    {
     "name": "stderr",
     "output_type": "stream",
     "text": [
      "Processing JPG 90:  57%|█████▋    | 181/316 [01:06<00:49,  2.75it/s]"
     ]
    },
    {
     "name": "stdout",
     "output_type": "stream",
     "text": [
      " - Processed 5760/10089 images for JPG 90\n"
     ]
    },
    {
     "name": "stderr",
     "output_type": "stream",
     "text": [
      "Processing JPG 90:  60%|██████    | 191/316 [01:09<00:41,  3.05it/s]"
     ]
    },
    {
     "name": "stdout",
     "output_type": "stream",
     "text": [
      " - Processed 6080/10089 images for JPG 90\n"
     ]
    },
    {
     "name": "stderr",
     "output_type": "stream",
     "text": [
      "Processing JPG 90:  64%|██████▎   | 201/316 [01:13<00:43,  2.64it/s]"
     ]
    },
    {
     "name": "stdout",
     "output_type": "stream",
     "text": [
      " - Processed 6400/10089 images for JPG 90\n"
     ]
    },
    {
     "name": "stderr",
     "output_type": "stream",
     "text": [
      "Processing JPG 90:  67%|██████▋   | 211/316 [01:16<00:33,  3.15it/s]"
     ]
    },
    {
     "name": "stdout",
     "output_type": "stream",
     "text": [
      " - Processed 6720/10089 images for JPG 90\n"
     ]
    },
    {
     "name": "stderr",
     "output_type": "stream",
     "text": [
      "Processing JPG 90:  70%|██████▉   | 221/316 [01:19<00:28,  3.29it/s]"
     ]
    },
    {
     "name": "stdout",
     "output_type": "stream",
     "text": [
      " - Processed 7040/10089 images for JPG 90\n"
     ]
    },
    {
     "name": "stderr",
     "output_type": "stream",
     "text": [
      "Processing JPG 90:  73%|███████▎  | 231/316 [01:22<00:26,  3.20it/s]"
     ]
    },
    {
     "name": "stdout",
     "output_type": "stream",
     "text": [
      " - Processed 7360/10089 images for JPG 90\n"
     ]
    },
    {
     "name": "stderr",
     "output_type": "stream",
     "text": [
      "Processing JPG 90:  76%|███████▋  | 241/316 [01:25<00:22,  3.30it/s]"
     ]
    },
    {
     "name": "stdout",
     "output_type": "stream",
     "text": [
      " - Processed 7680/10089 images for JPG 90\n"
     ]
    },
    {
     "name": "stderr",
     "output_type": "stream",
     "text": [
      "Processing JPG 90:  79%|███████▉  | 251/316 [01:29<00:20,  3.11it/s]"
     ]
    },
    {
     "name": "stdout",
     "output_type": "stream",
     "text": [
      " - Processed 8000/10089 images for JPG 90\n"
     ]
    },
    {
     "name": "stderr",
     "output_type": "stream",
     "text": [
      "Processing JPG 90:  83%|████████▎ | 261/316 [01:32<00:17,  3.19it/s]"
     ]
    },
    {
     "name": "stdout",
     "output_type": "stream",
     "text": [
      " - Processed 8320/10089 images for JPG 90\n"
     ]
    },
    {
     "name": "stderr",
     "output_type": "stream",
     "text": [
      "Processing JPG 90:  86%|████████▌ | 271/316 [01:35<00:15,  2.94it/s]"
     ]
    },
    {
     "name": "stdout",
     "output_type": "stream",
     "text": [
      " - Processed 8640/10089 images for JPG 90\n"
     ]
    },
    {
     "name": "stderr",
     "output_type": "stream",
     "text": [
      "Processing JPG 90:  89%|████████▉ | 281/316 [01:38<00:11,  3.14it/s]"
     ]
    },
    {
     "name": "stdout",
     "output_type": "stream",
     "text": [
      " - Processed 8960/10089 images for JPG 90\n"
     ]
    },
    {
     "name": "stderr",
     "output_type": "stream",
     "text": [
      "Processing JPG 90:  92%|█████████▏| 291/316 [01:42<00:08,  3.06it/s]"
     ]
    },
    {
     "name": "stdout",
     "output_type": "stream",
     "text": [
      " - Processed 9280/10089 images for JPG 90\n"
     ]
    },
    {
     "name": "stderr",
     "output_type": "stream",
     "text": [
      "Processing JPG 90:  95%|█████████▌| 301/316 [01:45<00:04,  3.03it/s]"
     ]
    },
    {
     "name": "stdout",
     "output_type": "stream",
     "text": [
      " - Processed 9600/10089 images for JPG 90\n"
     ]
    },
    {
     "name": "stderr",
     "output_type": "stream",
     "text": [
      "Processing JPG 90:  98%|█████████▊| 311/316 [01:48<00:01,  3.05it/s]"
     ]
    },
    {
     "name": "stdout",
     "output_type": "stream",
     "text": [
      " - Processed 9920/10089 images for JPG 90\n"
     ]
    },
    {
     "name": "stderr",
     "output_type": "stream",
     "text": [
      "Processing JPG 90: 100%|██████████| 316/316 [01:50<00:00,  2.87it/s]\n"
     ]
    },
    {
     "name": "stdout",
     "output_type": "stream",
     "text": [
      "\n",
      "[INFO] Extracting features for: Resize (10089 images)\n"
     ]
    },
    {
     "name": "stderr",
     "output_type": "stream",
     "text": [
      "Processing Resize:   0%|          | 1/316 [00:00<05:14,  1.00it/s]"
     ]
    },
    {
     "name": "stdout",
     "output_type": "stream",
     "text": [
      " - Processed 0/10089 images for Resize\n"
     ]
    },
    {
     "name": "stderr",
     "output_type": "stream",
     "text": [
      "Processing Resize:   3%|▎         | 11/316 [00:06<02:39,  1.91it/s]"
     ]
    },
    {
     "name": "stdout",
     "output_type": "stream",
     "text": [
      " - Processed 320/10089 images for Resize\n"
     ]
    },
    {
     "name": "stderr",
     "output_type": "stream",
     "text": [
      "Processing Resize:   7%|▋         | 21/316 [00:12<03:16,  1.50it/s]"
     ]
    },
    {
     "name": "stdout",
     "output_type": "stream",
     "text": [
      " - Processed 640/10089 images for Resize\n"
     ]
    },
    {
     "name": "stderr",
     "output_type": "stream",
     "text": [
      "Processing Resize:  10%|▉         | 31/316 [00:25<05:01,  1.06s/it]"
     ]
    },
    {
     "name": "stdout",
     "output_type": "stream",
     "text": [
      " - Processed 960/10089 images for Resize\n"
     ]
    },
    {
     "name": "stderr",
     "output_type": "stream",
     "text": [
      "Processing Resize:  13%|█▎        | 41/316 [00:32<03:39,  1.25it/s]"
     ]
    },
    {
     "name": "stdout",
     "output_type": "stream",
     "text": [
      " - Processed 1280/10089 images for Resize\n"
     ]
    },
    {
     "name": "stderr",
     "output_type": "stream",
     "text": [
      "Processing Resize:  16%|█▌        | 51/316 [00:43<06:44,  1.53s/it]"
     ]
    },
    {
     "name": "stdout",
     "output_type": "stream",
     "text": [
      " - Processed 1600/10089 images for Resize\n"
     ]
    },
    {
     "name": "stderr",
     "output_type": "stream",
     "text": [
      "Processing Resize:  19%|█▉        | 61/316 [00:51<02:34,  1.65it/s]"
     ]
    },
    {
     "name": "stdout",
     "output_type": "stream",
     "text": [
      " - Processed 1920/10089 images for Resize\n"
     ]
    },
    {
     "name": "stderr",
     "output_type": "stream",
     "text": [
      "Processing Resize:  22%|██▏       | 71/316 [00:56<02:12,  1.85it/s]"
     ]
    },
    {
     "name": "stdout",
     "output_type": "stream",
     "text": [
      " - Processed 2240/10089 images for Resize\n"
     ]
    },
    {
     "name": "stderr",
     "output_type": "stream",
     "text": [
      "Processing Resize:  26%|██▌       | 81/316 [01:02<01:59,  1.97it/s]"
     ]
    },
    {
     "name": "stdout",
     "output_type": "stream",
     "text": [
      " - Processed 2560/10089 images for Resize\n"
     ]
    },
    {
     "name": "stderr",
     "output_type": "stream",
     "text": [
      "Processing Resize:  29%|██▉       | 91/316 [01:09<02:08,  1.75it/s]"
     ]
    },
    {
     "name": "stdout",
     "output_type": "stream",
     "text": [
      " - Processed 2880/10089 images for Resize\n"
     ]
    },
    {
     "name": "stderr",
     "output_type": "stream",
     "text": [
      "Processing Resize:  32%|███▏      | 101/316 [01:16<03:43,  1.04s/it]"
     ]
    },
    {
     "name": "stdout",
     "output_type": "stream",
     "text": [
      " - Processed 3200/10089 images for Resize\n"
     ]
    },
    {
     "name": "stderr",
     "output_type": "stream",
     "text": [
      "Processing Resize:  35%|███▌      | 111/316 [01:46<10:40,  3.12s/it]"
     ]
    },
    {
     "name": "stdout",
     "output_type": "stream",
     "text": [
      " - Processed 3520/10089 images for Resize\n"
     ]
    },
    {
     "name": "stderr",
     "output_type": "stream",
     "text": [
      "Processing Resize:  38%|███▊      | 121/316 [02:00<02:20,  1.39it/s]"
     ]
    },
    {
     "name": "stdout",
     "output_type": "stream",
     "text": [
      " - Processed 3840/10089 images for Resize\n"
     ]
    },
    {
     "name": "stderr",
     "output_type": "stream",
     "text": [
      "Processing Resize:  41%|████▏     | 131/316 [02:05<01:39,  1.86it/s]"
     ]
    },
    {
     "name": "stdout",
     "output_type": "stream",
     "text": [
      " - Processed 4160/10089 images for Resize\n"
     ]
    },
    {
     "name": "stderr",
     "output_type": "stream",
     "text": [
      "Processing Resize:  45%|████▍     | 141/316 [02:10<01:34,  1.85it/s]"
     ]
    },
    {
     "name": "stdout",
     "output_type": "stream",
     "text": [
      " - Processed 4480/10089 images for Resize\n"
     ]
    },
    {
     "name": "stderr",
     "output_type": "stream",
     "text": [
      "Processing Resize:  48%|████▊     | 151/316 [02:16<01:29,  1.85it/s]"
     ]
    },
    {
     "name": "stdout",
     "output_type": "stream",
     "text": [
      " - Processed 4800/10089 images for Resize\n"
     ]
    },
    {
     "name": "stderr",
     "output_type": "stream",
     "text": [
      "Processing Resize:  51%|█████     | 161/316 [02:22<01:33,  1.66it/s]"
     ]
    },
    {
     "name": "stdout",
     "output_type": "stream",
     "text": [
      " - Processed 5120/10089 images for Resize\n"
     ]
    },
    {
     "name": "stderr",
     "output_type": "stream",
     "text": [
      "Processing Resize:  54%|█████▍    | 171/316 [02:44<02:58,  1.23s/it]"
     ]
    },
    {
     "name": "stdout",
     "output_type": "stream",
     "text": [
      " - Processed 5440/10089 images for Resize\n"
     ]
    },
    {
     "name": "stderr",
     "output_type": "stream",
     "text": [
      "Processing Resize:  57%|█████▋    | 181/316 [02:49<00:55,  2.45it/s]"
     ]
    },
    {
     "name": "stdout",
     "output_type": "stream",
     "text": [
      " - Processed 5760/10089 images for Resize\n"
     ]
    },
    {
     "name": "stderr",
     "output_type": "stream",
     "text": [
      "Processing Resize:  60%|██████    | 191/316 [02:52<00:39,  3.18it/s]"
     ]
    },
    {
     "name": "stdout",
     "output_type": "stream",
     "text": [
      " - Processed 6080/10089 images for Resize\n"
     ]
    },
    {
     "name": "stderr",
     "output_type": "stream",
     "text": [
      "Processing Resize:  64%|██████▎   | 201/316 [02:55<00:34,  3.31it/s]"
     ]
    },
    {
     "name": "stdout",
     "output_type": "stream",
     "text": [
      " - Processed 6400/10089 images for Resize\n"
     ]
    },
    {
     "name": "stderr",
     "output_type": "stream",
     "text": [
      "Processing Resize:  67%|██████▋   | 211/316 [02:58<00:33,  3.18it/s]"
     ]
    },
    {
     "name": "stdout",
     "output_type": "stream",
     "text": [
      " - Processed 6720/10089 images for Resize\n"
     ]
    },
    {
     "name": "stderr",
     "output_type": "stream",
     "text": [
      "Processing Resize:  70%|██████▉   | 221/316 [03:01<00:29,  3.21it/s]"
     ]
    },
    {
     "name": "stdout",
     "output_type": "stream",
     "text": [
      " - Processed 7040/10089 images for Resize\n"
     ]
    },
    {
     "name": "stderr",
     "output_type": "stream",
     "text": [
      "Processing Resize:  73%|███████▎  | 231/316 [03:06<00:40,  2.09it/s]"
     ]
    },
    {
     "name": "stdout",
     "output_type": "stream",
     "text": [
      " - Processed 7360/10089 images for Resize\n"
     ]
    },
    {
     "name": "stderr",
     "output_type": "stream",
     "text": [
      "Processing Resize:  76%|███████▋  | 241/316 [03:11<00:38,  1.93it/s]"
     ]
    },
    {
     "name": "stdout",
     "output_type": "stream",
     "text": [
      " - Processed 7680/10089 images for Resize\n"
     ]
    },
    {
     "name": "stderr",
     "output_type": "stream",
     "text": [
      "Processing Resize:  79%|███████▉  | 251/316 [03:16<00:33,  1.94it/s]"
     ]
    },
    {
     "name": "stdout",
     "output_type": "stream",
     "text": [
      " - Processed 8000/10089 images for Resize\n"
     ]
    },
    {
     "name": "stderr",
     "output_type": "stream",
     "text": [
      "Processing Resize:  83%|████████▎ | 261/316 [03:21<00:27,  1.98it/s]"
     ]
    },
    {
     "name": "stdout",
     "output_type": "stream",
     "text": [
      " - Processed 8320/10089 images for Resize\n"
     ]
    },
    {
     "name": "stderr",
     "output_type": "stream",
     "text": [
      "Processing Resize:  86%|████████▌ | 271/316 [03:26<00:22,  1.97it/s]"
     ]
    },
    {
     "name": "stdout",
     "output_type": "stream",
     "text": [
      " - Processed 8640/10089 images for Resize\n"
     ]
    },
    {
     "name": "stderr",
     "output_type": "stream",
     "text": [
      "Processing Resize:  89%|████████▉ | 281/316 [03:31<00:17,  1.95it/s]"
     ]
    },
    {
     "name": "stdout",
     "output_type": "stream",
     "text": [
      " - Processed 8960/10089 images for Resize\n"
     ]
    },
    {
     "name": "stderr",
     "output_type": "stream",
     "text": [
      "Processing Resize:  92%|█████████▏| 291/316 [03:36<00:10,  2.36it/s]"
     ]
    },
    {
     "name": "stdout",
     "output_type": "stream",
     "text": [
      " - Processed 9280/10089 images for Resize\n"
     ]
    },
    {
     "name": "stderr",
     "output_type": "stream",
     "text": [
      "Processing Resize:  95%|█████████▌| 301/316 [03:39<00:04,  3.18it/s]"
     ]
    },
    {
     "name": "stdout",
     "output_type": "stream",
     "text": [
      " - Processed 9600/10089 images for Resize\n"
     ]
    },
    {
     "name": "stderr",
     "output_type": "stream",
     "text": [
      "Processing Resize:  98%|█████████▊| 311/316 [03:42<00:01,  3.33it/s]"
     ]
    },
    {
     "name": "stdout",
     "output_type": "stream",
     "text": [
      " - Processed 9920/10089 images for Resize\n"
     ]
    },
    {
     "name": "stderr",
     "output_type": "stream",
     "text": [
      "Processing Resize: 100%|██████████| 316/316 [03:44<00:00,  1.41it/s]\n"
     ]
    },
    {
     "name": "stdout",
     "output_type": "stream",
     "text": [
      "\n",
      "[INFO] Extracting features for: Color Distort (10089 images)\n"
     ]
    },
    {
     "name": "stderr",
     "output_type": "stream",
     "text": [
      "Processing Color Distort:   0%|          | 1/316 [00:01<10:29,  2.00s/it]"
     ]
    },
    {
     "name": "stdout",
     "output_type": "stream",
     "text": [
      " - Processed 0/10089 images for Color Distort\n"
     ]
    },
    {
     "name": "stderr",
     "output_type": "stream",
     "text": [
      "Processing Color Distort:   3%|▎         | 11/316 [00:06<02:07,  2.38it/s]"
     ]
    },
    {
     "name": "stdout",
     "output_type": "stream",
     "text": [
      " - Processed 320/10089 images for Color Distort\n"
     ]
    },
    {
     "name": "stderr",
     "output_type": "stream",
     "text": [
      "Processing Color Distort:   7%|▋         | 21/316 [00:10<01:51,  2.63it/s]"
     ]
    },
    {
     "name": "stdout",
     "output_type": "stream",
     "text": [
      " - Processed 640/10089 images for Color Distort\n"
     ]
    },
    {
     "name": "stderr",
     "output_type": "stream",
     "text": [
      "Processing Color Distort:  10%|▉         | 31/316 [00:13<01:29,  3.20it/s]"
     ]
    },
    {
     "name": "stdout",
     "output_type": "stream",
     "text": [
      " - Processed 960/10089 images for Color Distort\n"
     ]
    },
    {
     "name": "stderr",
     "output_type": "stream",
     "text": [
      "Processing Color Distort:  13%|█▎        | 41/316 [00:16<01:22,  3.32it/s]"
     ]
    },
    {
     "name": "stdout",
     "output_type": "stream",
     "text": [
      " - Processed 1280/10089 images for Color Distort\n"
     ]
    },
    {
     "name": "stderr",
     "output_type": "stream",
     "text": [
      "Processing Color Distort:  16%|█▌        | 51/316 [00:19<01:17,  3.43it/s]"
     ]
    },
    {
     "name": "stdout",
     "output_type": "stream",
     "text": [
      " - Processed 1600/10089 images for Color Distort\n"
     ]
    },
    {
     "name": "stderr",
     "output_type": "stream",
     "text": [
      "Processing Color Distort:  19%|█▉        | 61/316 [00:22<01:24,  3.02it/s]"
     ]
    },
    {
     "name": "stdout",
     "output_type": "stream",
     "text": [
      " - Processed 1920/10089 images for Color Distort\n"
     ]
    },
    {
     "name": "stderr",
     "output_type": "stream",
     "text": [
      "Processing Color Distort:  22%|██▏       | 71/316 [00:26<01:44,  2.34it/s]"
     ]
    },
    {
     "name": "stdout",
     "output_type": "stream",
     "text": [
      " - Processed 2240/10089 images for Color Distort\n"
     ]
    },
    {
     "name": "stderr",
     "output_type": "stream",
     "text": [
      "Processing Color Distort:  26%|██▌       | 81/316 [00:30<01:31,  2.57it/s]"
     ]
    },
    {
     "name": "stdout",
     "output_type": "stream",
     "text": [
      " - Processed 2560/10089 images for Color Distort\n"
     ]
    },
    {
     "name": "stderr",
     "output_type": "stream",
     "text": [
      "Processing Color Distort:  29%|██▉       | 91/316 [00:34<01:19,  2.81it/s]"
     ]
    },
    {
     "name": "stdout",
     "output_type": "stream",
     "text": [
      " - Processed 2880/10089 images for Color Distort\n"
     ]
    },
    {
     "name": "stderr",
     "output_type": "stream",
     "text": [
      "Processing Color Distort:  32%|███▏      | 101/316 [00:38<01:31,  2.35it/s]"
     ]
    },
    {
     "name": "stdout",
     "output_type": "stream",
     "text": [
      " - Processed 3200/10089 images for Color Distort\n"
     ]
    },
    {
     "name": "stderr",
     "output_type": "stream",
     "text": [
      "Processing Color Distort:  35%|███▌      | 111/316 [00:42<01:22,  2.50it/s]"
     ]
    },
    {
     "name": "stdout",
     "output_type": "stream",
     "text": [
      " - Processed 3520/10089 images for Color Distort\n"
     ]
    },
    {
     "name": "stderr",
     "output_type": "stream",
     "text": [
      "Processing Color Distort:  38%|███▊      | 121/316 [00:47<01:20,  2.42it/s]"
     ]
    },
    {
     "name": "stdout",
     "output_type": "stream",
     "text": [
      " - Processed 3840/10089 images for Color Distort\n"
     ]
    },
    {
     "name": "stderr",
     "output_type": "stream",
     "text": [
      "Processing Color Distort:  41%|████▏     | 131/316 [00:50<01:05,  2.83it/s]"
     ]
    },
    {
     "name": "stdout",
     "output_type": "stream",
     "text": [
      " - Processed 4160/10089 images for Color Distort\n"
     ]
    },
    {
     "name": "stderr",
     "output_type": "stream",
     "text": [
      "Processing Color Distort:  45%|████▍     | 141/316 [00:54<00:59,  2.95it/s]"
     ]
    },
    {
     "name": "stdout",
     "output_type": "stream",
     "text": [
      " - Processed 4480/10089 images for Color Distort\n"
     ]
    },
    {
     "name": "stderr",
     "output_type": "stream",
     "text": [
      "Processing Color Distort:  48%|████▊     | 151/316 [00:57<00:53,  3.09it/s]"
     ]
    },
    {
     "name": "stdout",
     "output_type": "stream",
     "text": [
      " - Processed 4800/10089 images for Color Distort\n"
     ]
    },
    {
     "name": "stderr",
     "output_type": "stream",
     "text": [
      "Processing Color Distort:  51%|█████     | 161/316 [01:00<00:51,  2.98it/s]"
     ]
    },
    {
     "name": "stdout",
     "output_type": "stream",
     "text": [
      " - Processed 5120/10089 images for Color Distort\n"
     ]
    },
    {
     "name": "stderr",
     "output_type": "stream",
     "text": [
      "Processing Color Distort:  54%|█████▍    | 171/316 [01:04<00:52,  2.75it/s]"
     ]
    },
    {
     "name": "stdout",
     "output_type": "stream",
     "text": [
      " - Processed 5440/10089 images for Color Distort\n"
     ]
    },
    {
     "name": "stderr",
     "output_type": "stream",
     "text": [
      "Processing Color Distort:  57%|█████▋    | 181/316 [01:08<00:57,  2.35it/s]"
     ]
    },
    {
     "name": "stdout",
     "output_type": "stream",
     "text": [
      " - Processed 5760/10089 images for Color Distort\n"
     ]
    },
    {
     "name": "stderr",
     "output_type": "stream",
     "text": [
      "Processing Color Distort:  60%|██████    | 191/316 [01:12<00:46,  2.67it/s]"
     ]
    },
    {
     "name": "stdout",
     "output_type": "stream",
     "text": [
      " - Processed 6080/10089 images for Color Distort\n"
     ]
    },
    {
     "name": "stderr",
     "output_type": "stream",
     "text": [
      "Processing Color Distort:  64%|██████▎   | 201/316 [01:15<00:39,  2.92it/s]"
     ]
    },
    {
     "name": "stdout",
     "output_type": "stream",
     "text": [
      " - Processed 6400/10089 images for Color Distort\n"
     ]
    },
    {
     "name": "stderr",
     "output_type": "stream",
     "text": [
      "Processing Color Distort:  67%|██████▋   | 211/316 [01:19<00:38,  2.72it/s]"
     ]
    },
    {
     "name": "stdout",
     "output_type": "stream",
     "text": [
      " - Processed 6720/10089 images for Color Distort\n"
     ]
    },
    {
     "name": "stderr",
     "output_type": "stream",
     "text": [
      "Processing Color Distort:  70%|██████▉   | 221/316 [01:22<00:32,  2.96it/s]"
     ]
    },
    {
     "name": "stdout",
     "output_type": "stream",
     "text": [
      " - Processed 7040/10089 images for Color Distort\n"
     ]
    },
    {
     "name": "stderr",
     "output_type": "stream",
     "text": [
      "Processing Color Distort:  73%|███████▎  | 231/316 [01:25<00:26,  3.16it/s]"
     ]
    },
    {
     "name": "stdout",
     "output_type": "stream",
     "text": [
      " - Processed 7360/10089 images for Color Distort\n"
     ]
    },
    {
     "name": "stderr",
     "output_type": "stream",
     "text": [
      "Processing Color Distort:  76%|███████▋  | 241/316 [01:29<00:25,  2.94it/s]"
     ]
    },
    {
     "name": "stdout",
     "output_type": "stream",
     "text": [
      " - Processed 7680/10089 images for Color Distort\n"
     ]
    },
    {
     "name": "stderr",
     "output_type": "stream",
     "text": [
      "Processing Color Distort:  79%|███████▉  | 251/316 [01:32<00:20,  3.15it/s]"
     ]
    },
    {
     "name": "stdout",
     "output_type": "stream",
     "text": [
      " - Processed 8000/10089 images for Color Distort\n"
     ]
    },
    {
     "name": "stderr",
     "output_type": "stream",
     "text": [
      "Processing Color Distort:  83%|████████▎ | 261/316 [01:35<00:16,  3.27it/s]"
     ]
    },
    {
     "name": "stdout",
     "output_type": "stream",
     "text": [
      " - Processed 8320/10089 images for Color Distort\n"
     ]
    },
    {
     "name": "stderr",
     "output_type": "stream",
     "text": [
      "Processing Color Distort:  86%|████████▌ | 271/316 [01:38<00:13,  3.31it/s]"
     ]
    },
    {
     "name": "stdout",
     "output_type": "stream",
     "text": [
      " - Processed 8640/10089 images for Color Distort\n"
     ]
    },
    {
     "name": "stderr",
     "output_type": "stream",
     "text": [
      "Processing Color Distort:  89%|████████▉ | 281/316 [01:41<00:10,  3.22it/s]"
     ]
    },
    {
     "name": "stdout",
     "output_type": "stream",
     "text": [
      " - Processed 8960/10089 images for Color Distort\n"
     ]
    },
    {
     "name": "stderr",
     "output_type": "stream",
     "text": [
      "Processing Color Distort:  92%|█████████▏| 291/316 [01:44<00:07,  3.18it/s]"
     ]
    },
    {
     "name": "stdout",
     "output_type": "stream",
     "text": [
      " - Processed 9280/10089 images for Color Distort\n"
     ]
    },
    {
     "name": "stderr",
     "output_type": "stream",
     "text": [
      "Processing Color Distort:  95%|█████████▌| 301/316 [01:47<00:04,  3.10it/s]"
     ]
    },
    {
     "name": "stdout",
     "output_type": "stream",
     "text": [
      " - Processed 9600/10089 images for Color Distort\n"
     ]
    },
    {
     "name": "stderr",
     "output_type": "stream",
     "text": [
      "Processing Color Distort:  98%|█████████▊| 311/316 [01:51<00:01,  3.08it/s]"
     ]
    },
    {
     "name": "stdout",
     "output_type": "stream",
     "text": [
      " - Processed 9920/10089 images for Color Distort\n"
     ]
    },
    {
     "name": "stderr",
     "output_type": "stream",
     "text": [
      "Processing Color Distort: 100%|██████████| 316/316 [01:52<00:00,  2.81it/s]\n"
     ]
    },
    {
     "name": "stdout",
     "output_type": "stream",
     "text": [
      "\n",
      "[INFO] Extracting features for: Center Crop 30 (10089 images)\n"
     ]
    },
    {
     "name": "stderr",
     "output_type": "stream",
     "text": [
      "Processing Center Crop 30:   0%|          | 1/316 [00:00<03:54,  1.35it/s]"
     ]
    },
    {
     "name": "stdout",
     "output_type": "stream",
     "text": [
      " - Processed 0/10089 images for Center Crop 30\n"
     ]
    },
    {
     "name": "stderr",
     "output_type": "stream",
     "text": [
      "Processing Center Crop 30:   3%|▎         | 11/316 [00:06<02:42,  1.88it/s]"
     ]
    },
    {
     "name": "stdout",
     "output_type": "stream",
     "text": [
      " - Processed 320/10089 images for Center Crop 30\n"
     ]
    },
    {
     "name": "stderr",
     "output_type": "stream",
     "text": [
      "Processing Center Crop 30:   7%|▋         | 21/316 [00:10<02:05,  2.36it/s]"
     ]
    },
    {
     "name": "stdout",
     "output_type": "stream",
     "text": [
      " - Processed 640/10089 images for Center Crop 30\n"
     ]
    },
    {
     "name": "stderr",
     "output_type": "stream",
     "text": [
      "Processing Center Crop 30:  10%|▉         | 31/316 [00:14<01:40,  2.84it/s]"
     ]
    },
    {
     "name": "stdout",
     "output_type": "stream",
     "text": [
      " - Processed 960/10089 images for Center Crop 30\n"
     ]
    },
    {
     "name": "stderr",
     "output_type": "stream",
     "text": [
      "Processing Center Crop 30:  13%|█▎        | 41/316 [00:17<01:25,  3.21it/s]"
     ]
    },
    {
     "name": "stdout",
     "output_type": "stream",
     "text": [
      " - Processed 1280/10089 images for Center Crop 30\n"
     ]
    },
    {
     "name": "stderr",
     "output_type": "stream",
     "text": [
      "Processing Center Crop 30:  16%|█▌        | 51/316 [00:20<01:23,  3.19it/s]"
     ]
    },
    {
     "name": "stdout",
     "output_type": "stream",
     "text": [
      " - Processed 1600/10089 images for Center Crop 30\n"
     ]
    },
    {
     "name": "stderr",
     "output_type": "stream",
     "text": [
      "Processing Center Crop 30:  19%|█▉        | 61/316 [00:23<01:20,  3.15it/s]"
     ]
    },
    {
     "name": "stdout",
     "output_type": "stream",
     "text": [
      " - Processed 1920/10089 images for Center Crop 30\n"
     ]
    },
    {
     "name": "stderr",
     "output_type": "stream",
     "text": [
      "Processing Center Crop 30:  22%|██▏       | 71/316 [00:26<01:17,  3.18it/s]"
     ]
    },
    {
     "name": "stdout",
     "output_type": "stream",
     "text": [
      " - Processed 2240/10089 images for Center Crop 30\n"
     ]
    },
    {
     "name": "stderr",
     "output_type": "stream",
     "text": [
      "Processing Center Crop 30:  26%|██▌       | 81/316 [00:29<01:13,  3.19it/s]"
     ]
    },
    {
     "name": "stdout",
     "output_type": "stream",
     "text": [
      " - Processed 2560/10089 images for Center Crop 30\n"
     ]
    },
    {
     "name": "stderr",
     "output_type": "stream",
     "text": [
      "Processing Center Crop 30:  29%|██▉       | 91/316 [00:33<01:13,  3.07it/s]"
     ]
    },
    {
     "name": "stdout",
     "output_type": "stream",
     "text": [
      " - Processed 2880/10089 images for Center Crop 30\n"
     ]
    },
    {
     "name": "stderr",
     "output_type": "stream",
     "text": [
      "Processing Center Crop 30:  32%|███▏      | 101/316 [00:37<01:29,  2.39it/s]"
     ]
    },
    {
     "name": "stdout",
     "output_type": "stream",
     "text": [
      " - Processed 3200/10089 images for Center Crop 30\n"
     ]
    },
    {
     "name": "stderr",
     "output_type": "stream",
     "text": [
      "Processing Center Crop 30:  35%|███▌      | 111/316 [00:40<01:13,  2.79it/s]"
     ]
    },
    {
     "name": "stdout",
     "output_type": "stream",
     "text": [
      " - Processed 3520/10089 images for Center Crop 30\n"
     ]
    },
    {
     "name": "stderr",
     "output_type": "stream",
     "text": [
      "Processing Center Crop 30:  38%|███▊      | 121/316 [00:44<01:02,  3.14it/s]"
     ]
    },
    {
     "name": "stdout",
     "output_type": "stream",
     "text": [
      " - Processed 3840/10089 images for Center Crop 30\n"
     ]
    },
    {
     "name": "stderr",
     "output_type": "stream",
     "text": [
      "Processing Center Crop 30:  41%|████▏     | 131/316 [00:47<00:57,  3.20it/s]"
     ]
    },
    {
     "name": "stdout",
     "output_type": "stream",
     "text": [
      " - Processed 4160/10089 images for Center Crop 30\n"
     ]
    },
    {
     "name": "stderr",
     "output_type": "stream",
     "text": [
      "Processing Center Crop 30:  45%|████▍     | 141/316 [00:50<00:55,  3.18it/s]"
     ]
    },
    {
     "name": "stdout",
     "output_type": "stream",
     "text": [
      " - Processed 4480/10089 images for Center Crop 30\n"
     ]
    },
    {
     "name": "stderr",
     "output_type": "stream",
     "text": [
      "Processing Center Crop 30:  48%|████▊     | 151/316 [00:53<00:55,  2.96it/s]"
     ]
    },
    {
     "name": "stdout",
     "output_type": "stream",
     "text": [
      " - Processed 4800/10089 images for Center Crop 30\n"
     ]
    },
    {
     "name": "stderr",
     "output_type": "stream",
     "text": [
      "Processing Center Crop 30:  51%|█████     | 161/316 [00:56<00:49,  3.11it/s]"
     ]
    },
    {
     "name": "stdout",
     "output_type": "stream",
     "text": [
      " - Processed 5120/10089 images for Center Crop 30\n"
     ]
    },
    {
     "name": "stderr",
     "output_type": "stream",
     "text": [
      "Processing Center Crop 30:  54%|█████▍    | 171/316 [01:00<00:46,  3.14it/s]"
     ]
    },
    {
     "name": "stdout",
     "output_type": "stream",
     "text": [
      " - Processed 5440/10089 images for Center Crop 30\n"
     ]
    },
    {
     "name": "stderr",
     "output_type": "stream",
     "text": [
      "Processing Center Crop 30:  57%|█████▋    | 181/316 [01:03<00:43,  3.09it/s]"
     ]
    },
    {
     "name": "stdout",
     "output_type": "stream",
     "text": [
      " - Processed 5760/10089 images for Center Crop 30\n"
     ]
    },
    {
     "name": "stderr",
     "output_type": "stream",
     "text": [
      "Processing Center Crop 30:  60%|██████    | 191/316 [01:06<00:41,  3.04it/s]"
     ]
    },
    {
     "name": "stdout",
     "output_type": "stream",
     "text": [
      " - Processed 6080/10089 images for Center Crop 30\n"
     ]
    },
    {
     "name": "stderr",
     "output_type": "stream",
     "text": [
      "Processing Center Crop 30:  64%|██████▎   | 201/316 [01:10<00:39,  2.88it/s]"
     ]
    },
    {
     "name": "stdout",
     "output_type": "stream",
     "text": [
      " - Processed 6400/10089 images for Center Crop 30\n"
     ]
    },
    {
     "name": "stderr",
     "output_type": "stream",
     "text": [
      "Processing Center Crop 30:  67%|██████▋   | 211/316 [01:13<00:35,  2.99it/s]"
     ]
    },
    {
     "name": "stdout",
     "output_type": "stream",
     "text": [
      " - Processed 6720/10089 images for Center Crop 30\n"
     ]
    },
    {
     "name": "stderr",
     "output_type": "stream",
     "text": [
      "Processing Center Crop 30:  70%|██████▉   | 221/316 [01:16<00:31,  2.99it/s]"
     ]
    },
    {
     "name": "stdout",
     "output_type": "stream",
     "text": [
      " - Processed 7040/10089 images for Center Crop 30\n"
     ]
    },
    {
     "name": "stderr",
     "output_type": "stream",
     "text": [
      "Processing Center Crop 30:  73%|███████▎  | 231/316 [01:20<00:29,  2.92it/s]"
     ]
    },
    {
     "name": "stdout",
     "output_type": "stream",
     "text": [
      " - Processed 7360/10089 images for Center Crop 30\n"
     ]
    },
    {
     "name": "stderr",
     "output_type": "stream",
     "text": [
      "Processing Center Crop 30:  76%|███████▋  | 241/316 [01:23<00:25,  2.89it/s]"
     ]
    },
    {
     "name": "stdout",
     "output_type": "stream",
     "text": [
      " - Processed 7680/10089 images for Center Crop 30\n"
     ]
    },
    {
     "name": "stderr",
     "output_type": "stream",
     "text": [
      "Processing Center Crop 30:  79%|███████▉  | 251/316 [01:27<00:22,  2.86it/s]"
     ]
    },
    {
     "name": "stdout",
     "output_type": "stream",
     "text": [
      " - Processed 8000/10089 images for Center Crop 30\n"
     ]
    },
    {
     "name": "stderr",
     "output_type": "stream",
     "text": [
      "Processing Center Crop 30:  83%|████████▎ | 261/316 [01:30<00:19,  2.83it/s]"
     ]
    },
    {
     "name": "stdout",
     "output_type": "stream",
     "text": [
      " - Processed 8320/10089 images for Center Crop 30\n"
     ]
    },
    {
     "name": "stderr",
     "output_type": "stream",
     "text": [
      "Processing Center Crop 30:  86%|████████▌ | 271/316 [01:34<00:16,  2.75it/s]"
     ]
    },
    {
     "name": "stdout",
     "output_type": "stream",
     "text": [
      " - Processed 8640/10089 images for Center Crop 30\n"
     ]
    },
    {
     "name": "stderr",
     "output_type": "stream",
     "text": [
      "Processing Center Crop 30:  89%|████████▉ | 281/316 [01:37<00:12,  2.80it/s]"
     ]
    },
    {
     "name": "stdout",
     "output_type": "stream",
     "text": [
      " - Processed 8960/10089 images for Center Crop 30\n"
     ]
    },
    {
     "name": "stderr",
     "output_type": "stream",
     "text": [
      "Processing Center Crop 30:  92%|█████████▏| 291/316 [01:41<00:08,  2.83it/s]"
     ]
    },
    {
     "name": "stdout",
     "output_type": "stream",
     "text": [
      " - Processed 9280/10089 images for Center Crop 30\n"
     ]
    },
    {
     "name": "stderr",
     "output_type": "stream",
     "text": [
      "Processing Center Crop 30:  95%|█████████▌| 301/316 [01:44<00:05,  2.77it/s]"
     ]
    },
    {
     "name": "stdout",
     "output_type": "stream",
     "text": [
      " - Processed 9600/10089 images for Center Crop 30\n"
     ]
    },
    {
     "name": "stderr",
     "output_type": "stream",
     "text": [
      "Processing Center Crop 30:  98%|█████████▊| 311/316 [01:48<00:01,  2.83it/s]"
     ]
    },
    {
     "name": "stdout",
     "output_type": "stream",
     "text": [
      " - Processed 9920/10089 images for Center Crop 30\n"
     ]
    },
    {
     "name": "stderr",
     "output_type": "stream",
     "text": [
      "Processing Center Crop 30: 100%|██████████| 316/316 [01:50<00:00,  2.87it/s]\n"
     ]
    },
    {
     "name": "stdout",
     "output_type": "stream",
     "text": [
      "\n",
      "[INFO] Extracting features for: Center Crop 28 (10089 images)\n"
     ]
    },
    {
     "name": "stderr",
     "output_type": "stream",
     "text": [
      "Processing Center Crop 28:   0%|          | 1/316 [00:01<05:31,  1.05s/it]"
     ]
    },
    {
     "name": "stdout",
     "output_type": "stream",
     "text": [
      " - Processed 0/10089 images for Center Crop 28\n"
     ]
    },
    {
     "name": "stderr",
     "output_type": "stream",
     "text": [
      "Processing Center Crop 28:   3%|▎         | 11/316 [00:06<02:48,  1.81it/s]"
     ]
    },
    {
     "name": "stdout",
     "output_type": "stream",
     "text": [
      " - Processed 320/10089 images for Center Crop 28\n"
     ]
    },
    {
     "name": "stderr",
     "output_type": "stream",
     "text": [
      "Processing Center Crop 28:   7%|▋         | 21/316 [00:10<01:52,  2.63it/s]"
     ]
    },
    {
     "name": "stdout",
     "output_type": "stream",
     "text": [
      " - Processed 640/10089 images for Center Crop 28\n"
     ]
    },
    {
     "name": "stderr",
     "output_type": "stream",
     "text": [
      "Processing Center Crop 28:  10%|▉         | 31/316 [00:14<01:48,  2.62it/s]"
     ]
    },
    {
     "name": "stdout",
     "output_type": "stream",
     "text": [
      " - Processed 960/10089 images for Center Crop 28\n"
     ]
    },
    {
     "name": "stderr",
     "output_type": "stream",
     "text": [
      "Processing Center Crop 28:  13%|█▎        | 41/316 [00:17<01:37,  2.82it/s]"
     ]
    },
    {
     "name": "stdout",
     "output_type": "stream",
     "text": [
      " - Processed 1280/10089 images for Center Crop 28\n"
     ]
    },
    {
     "name": "stderr",
     "output_type": "stream",
     "text": [
      "Processing Center Crop 28:  16%|█▌        | 51/316 [00:21<01:25,  3.09it/s]"
     ]
    },
    {
     "name": "stdout",
     "output_type": "stream",
     "text": [
      " - Processed 1600/10089 images for Center Crop 28\n"
     ]
    },
    {
     "name": "stderr",
     "output_type": "stream",
     "text": [
      "Processing Center Crop 28:  19%|█▉        | 61/316 [00:24<01:24,  3.00it/s]"
     ]
    },
    {
     "name": "stdout",
     "output_type": "stream",
     "text": [
      " - Processed 1920/10089 images for Center Crop 28\n"
     ]
    },
    {
     "name": "stderr",
     "output_type": "stream",
     "text": [
      "Processing Center Crop 28:  22%|██▏       | 71/316 [00:27<01:21,  3.00it/s]"
     ]
    },
    {
     "name": "stdout",
     "output_type": "stream",
     "text": [
      " - Processed 2240/10089 images for Center Crop 28\n"
     ]
    },
    {
     "name": "stderr",
     "output_type": "stream",
     "text": [
      "Processing Center Crop 28:  26%|██▌       | 81/316 [00:31<01:22,  2.83it/s]"
     ]
    },
    {
     "name": "stdout",
     "output_type": "stream",
     "text": [
      " - Processed 2560/10089 images for Center Crop 28\n"
     ]
    },
    {
     "name": "stderr",
     "output_type": "stream",
     "text": [
      "Processing Center Crop 28:  29%|██▉       | 91/316 [00:34<01:17,  2.91it/s]"
     ]
    },
    {
     "name": "stdout",
     "output_type": "stream",
     "text": [
      " - Processed 2880/10089 images for Center Crop 28\n"
     ]
    },
    {
     "name": "stderr",
     "output_type": "stream",
     "text": [
      "Processing Center Crop 28:  32%|███▏      | 101/316 [00:38<01:12,  2.95it/s]"
     ]
    },
    {
     "name": "stdout",
     "output_type": "stream",
     "text": [
      " - Processed 3200/10089 images for Center Crop 28\n"
     ]
    },
    {
     "name": "stderr",
     "output_type": "stream",
     "text": [
      "Processing Center Crop 28:  35%|███▌      | 111/316 [00:41<01:13,  2.80it/s]"
     ]
    },
    {
     "name": "stdout",
     "output_type": "stream",
     "text": [
      " - Processed 3520/10089 images for Center Crop 28\n"
     ]
    },
    {
     "name": "stderr",
     "output_type": "stream",
     "text": [
      "Processing Center Crop 28:  38%|███▊      | 121/316 [00:45<01:16,  2.54it/s]"
     ]
    },
    {
     "name": "stdout",
     "output_type": "stream",
     "text": [
      " - Processed 3840/10089 images for Center Crop 28\n"
     ]
    },
    {
     "name": "stderr",
     "output_type": "stream",
     "text": [
      "Processing Center Crop 28:  41%|████▏     | 131/316 [00:49<01:20,  2.31it/s]"
     ]
    },
    {
     "name": "stdout",
     "output_type": "stream",
     "text": [
      " - Processed 4160/10089 images for Center Crop 28\n"
     ]
    },
    {
     "name": "stderr",
     "output_type": "stream",
     "text": [
      "Processing Center Crop 28:  45%|████▍     | 141/316 [00:53<01:14,  2.35it/s]"
     ]
    },
    {
     "name": "stdout",
     "output_type": "stream",
     "text": [
      " - Processed 4480/10089 images for Center Crop 28\n"
     ]
    },
    {
     "name": "stderr",
     "output_type": "stream",
     "text": [
      "Processing Center Crop 28:  48%|████▊     | 151/316 [00:57<01:00,  2.72it/s]"
     ]
    },
    {
     "name": "stdout",
     "output_type": "stream",
     "text": [
      " - Processed 4800/10089 images for Center Crop 28\n"
     ]
    },
    {
     "name": "stderr",
     "output_type": "stream",
     "text": [
      "Processing Center Crop 28:  51%|█████     | 161/316 [01:00<00:49,  3.16it/s]"
     ]
    },
    {
     "name": "stdout",
     "output_type": "stream",
     "text": [
      " - Processed 5120/10089 images for Center Crop 28\n"
     ]
    },
    {
     "name": "stderr",
     "output_type": "stream",
     "text": [
      "Processing Center Crop 28:  54%|█████▍    | 171/316 [01:04<00:48,  3.01it/s]"
     ]
    },
    {
     "name": "stdout",
     "output_type": "stream",
     "text": [
      " - Processed 5440/10089 images for Center Crop 28\n"
     ]
    },
    {
     "name": "stderr",
     "output_type": "stream",
     "text": [
      "Processing Center Crop 28:  57%|█████▋    | 181/316 [01:07<00:46,  2.88it/s]"
     ]
    },
    {
     "name": "stdout",
     "output_type": "stream",
     "text": [
      " - Processed 5760/10089 images for Center Crop 28\n"
     ]
    },
    {
     "name": "stderr",
     "output_type": "stream",
     "text": [
      "Processing Center Crop 28:  60%|██████    | 191/316 [01:11<00:42,  2.92it/s]"
     ]
    },
    {
     "name": "stdout",
     "output_type": "stream",
     "text": [
      " - Processed 6080/10089 images for Center Crop 28\n"
     ]
    },
    {
     "name": "stderr",
     "output_type": "stream",
     "text": [
      "Processing Center Crop 28:  64%|██████▎   | 201/316 [01:14<00:38,  3.02it/s]"
     ]
    },
    {
     "name": "stdout",
     "output_type": "stream",
     "text": [
      " - Processed 6400/10089 images for Center Crop 28\n"
     ]
    },
    {
     "name": "stderr",
     "output_type": "stream",
     "text": [
      "Processing Center Crop 28:  67%|██████▋   | 211/316 [01:17<00:35,  2.96it/s]"
     ]
    },
    {
     "name": "stdout",
     "output_type": "stream",
     "text": [
      " - Processed 6720/10089 images for Center Crop 28\n"
     ]
    },
    {
     "name": "stderr",
     "output_type": "stream",
     "text": [
      "Processing Center Crop 28:  70%|██████▉   | 221/316 [01:21<00:32,  2.95it/s]"
     ]
    },
    {
     "name": "stdout",
     "output_type": "stream",
     "text": [
      " - Processed 7040/10089 images for Center Crop 28\n"
     ]
    },
    {
     "name": "stderr",
     "output_type": "stream",
     "text": [
      "Processing Center Crop 28:  73%|███████▎  | 231/316 [01:24<00:29,  2.86it/s]"
     ]
    },
    {
     "name": "stdout",
     "output_type": "stream",
     "text": [
      " - Processed 7360/10089 images for Center Crop 28\n"
     ]
    },
    {
     "name": "stderr",
     "output_type": "stream",
     "text": [
      "Processing Center Crop 28:  76%|███████▋  | 241/316 [01:28<00:26,  2.84it/s]"
     ]
    },
    {
     "name": "stdout",
     "output_type": "stream",
     "text": [
      " - Processed 7680/10089 images for Center Crop 28\n"
     ]
    },
    {
     "name": "stderr",
     "output_type": "stream",
     "text": [
      "Processing Center Crop 28:  79%|███████▉  | 251/316 [01:31<00:23,  2.75it/s]"
     ]
    },
    {
     "name": "stdout",
     "output_type": "stream",
     "text": [
      " - Processed 8000/10089 images for Center Crop 28\n"
     ]
    },
    {
     "name": "stderr",
     "output_type": "stream",
     "text": [
      "Processing Center Crop 28:  83%|████████▎ | 261/316 [01:35<00:20,  2.65it/s]"
     ]
    },
    {
     "name": "stdout",
     "output_type": "stream",
     "text": [
      " - Processed 8320/10089 images for Center Crop 28\n"
     ]
    },
    {
     "name": "stderr",
     "output_type": "stream",
     "text": [
      "Processing Center Crop 28:  86%|████████▌ | 271/316 [01:39<00:18,  2.41it/s]"
     ]
    },
    {
     "name": "stdout",
     "output_type": "stream",
     "text": [
      " - Processed 8640/10089 images for Center Crop 28\n"
     ]
    },
    {
     "name": "stderr",
     "output_type": "stream",
     "text": [
      "Processing Center Crop 28:  89%|████████▉ | 281/316 [01:43<00:12,  2.81it/s]"
     ]
    },
    {
     "name": "stdout",
     "output_type": "stream",
     "text": [
      " - Processed 8960/10089 images for Center Crop 28\n"
     ]
    },
    {
     "name": "stderr",
     "output_type": "stream",
     "text": [
      "Processing Center Crop 28:  92%|█████████▏| 291/316 [01:46<00:08,  2.82it/s]"
     ]
    },
    {
     "name": "stdout",
     "output_type": "stream",
     "text": [
      " - Processed 9280/10089 images for Center Crop 28\n"
     ]
    },
    {
     "name": "stderr",
     "output_type": "stream",
     "text": [
      "Processing Center Crop 28:  95%|█████████▌| 301/316 [01:50<00:05,  2.55it/s]"
     ]
    },
    {
     "name": "stdout",
     "output_type": "stream",
     "text": [
      " - Processed 9600/10089 images for Center Crop 28\n"
     ]
    },
    {
     "name": "stderr",
     "output_type": "stream",
     "text": [
      "Processing Center Crop 28:  98%|█████████▊| 311/316 [01:54<00:01,  2.59it/s]"
     ]
    },
    {
     "name": "stdout",
     "output_type": "stream",
     "text": [
      " - Processed 9920/10089 images for Center Crop 28\n"
     ]
    },
    {
     "name": "stderr",
     "output_type": "stream",
     "text": [
      "Processing Center Crop 28: 100%|██████████| 316/316 [01:56<00:00,  2.72it/s]\n"
     ]
    },
    {
     "name": "stdout",
     "output_type": "stream",
     "text": [
      "\n",
      "[INFO] Extracting features for: Elastic Transform (10089 images)\n"
     ]
    },
    {
     "name": "stderr",
     "output_type": "stream",
     "text": [
      "Processing Elastic Transform:   0%|          | 1/316 [00:03<19:06,  3.64s/it]"
     ]
    },
    {
     "name": "stdout",
     "output_type": "stream",
     "text": [
      " - Processed 0/10089 images for Elastic Transform\n"
     ]
    },
    {
     "name": "stderr",
     "output_type": "stream",
     "text": [
      "Processing Elastic Transform:   3%|▎         | 11/316 [00:10<03:40,  1.39it/s]"
     ]
    },
    {
     "name": "stdout",
     "output_type": "stream",
     "text": [
      " - Processed 320/10089 images for Elastic Transform\n"
     ]
    },
    {
     "name": "stderr",
     "output_type": "stream",
     "text": [
      "Processing Elastic Transform:   7%|▋         | 21/316 [00:15<02:39,  1.85it/s]"
     ]
    },
    {
     "name": "stdout",
     "output_type": "stream",
     "text": [
      " - Processed 640/10089 images for Elastic Transform\n"
     ]
    },
    {
     "name": "stderr",
     "output_type": "stream",
     "text": [
      "Processing Elastic Transform:  10%|▉         | 31/316 [00:21<02:36,  1.82it/s]"
     ]
    },
    {
     "name": "stdout",
     "output_type": "stream",
     "text": [
      " - Processed 960/10089 images for Elastic Transform\n"
     ]
    },
    {
     "name": "stderr",
     "output_type": "stream",
     "text": [
      "Processing Elastic Transform:  13%|█▎        | 41/316 [00:25<01:53,  2.41it/s]"
     ]
    },
    {
     "name": "stdout",
     "output_type": "stream",
     "text": [
      " - Processed 1280/10089 images for Elastic Transform\n"
     ]
    },
    {
     "name": "stderr",
     "output_type": "stream",
     "text": [
      "Processing Elastic Transform:  16%|█▌        | 51/316 [00:29<01:27,  3.03it/s]"
     ]
    },
    {
     "name": "stdout",
     "output_type": "stream",
     "text": [
      " - Processed 1600/10089 images for Elastic Transform\n"
     ]
    },
    {
     "name": "stderr",
     "output_type": "stream",
     "text": [
      "Processing Elastic Transform:  19%|█▉        | 61/316 [00:32<01:22,  3.08it/s]"
     ]
    },
    {
     "name": "stdout",
     "output_type": "stream",
     "text": [
      " - Processed 1920/10089 images for Elastic Transform\n"
     ]
    },
    {
     "name": "stderr",
     "output_type": "stream",
     "text": [
      "Processing Elastic Transform:  22%|██▏       | 71/316 [00:35<01:17,  3.14it/s]"
     ]
    },
    {
     "name": "stdout",
     "output_type": "stream",
     "text": [
      " - Processed 2240/10089 images for Elastic Transform\n"
     ]
    },
    {
     "name": "stderr",
     "output_type": "stream",
     "text": [
      "Processing Elastic Transform:  26%|██▌       | 81/316 [00:39<01:15,  3.13it/s]"
     ]
    },
    {
     "name": "stdout",
     "output_type": "stream",
     "text": [
      " - Processed 2560/10089 images for Elastic Transform\n"
     ]
    },
    {
     "name": "stderr",
     "output_type": "stream",
     "text": [
      "Processing Elastic Transform:  29%|██▉       | 91/316 [00:42<01:14,  3.03it/s]"
     ]
    },
    {
     "name": "stdout",
     "output_type": "stream",
     "text": [
      " - Processed 2880/10089 images for Elastic Transform\n"
     ]
    },
    {
     "name": "stderr",
     "output_type": "stream",
     "text": [
      "Processing Elastic Transform:  32%|███▏      | 101/316 [00:45<01:15,  2.84it/s]"
     ]
    },
    {
     "name": "stdout",
     "output_type": "stream",
     "text": [
      " - Processed 3200/10089 images for Elastic Transform\n"
     ]
    },
    {
     "name": "stderr",
     "output_type": "stream",
     "text": [
      "Processing Elastic Transform:  35%|███▌      | 111/316 [00:49<01:09,  2.94it/s]"
     ]
    },
    {
     "name": "stdout",
     "output_type": "stream",
     "text": [
      " - Processed 3520/10089 images for Elastic Transform\n"
     ]
    },
    {
     "name": "stderr",
     "output_type": "stream",
     "text": [
      "Processing Elastic Transform:  38%|███▊      | 121/316 [00:52<01:07,  2.90it/s]"
     ]
    },
    {
     "name": "stdout",
     "output_type": "stream",
     "text": [
      " - Processed 3840/10089 images for Elastic Transform\n"
     ]
    },
    {
     "name": "stderr",
     "output_type": "stream",
     "text": [
      "Processing Elastic Transform:  41%|████▏     | 131/316 [00:56<01:20,  2.30it/s]"
     ]
    },
    {
     "name": "stdout",
     "output_type": "stream",
     "text": [
      " - Processed 4160/10089 images for Elastic Transform\n"
     ]
    },
    {
     "name": "stderr",
     "output_type": "stream",
     "text": [
      "Processing Elastic Transform:  45%|████▍     | 141/316 [01:01<01:18,  2.23it/s]"
     ]
    },
    {
     "name": "stdout",
     "output_type": "stream",
     "text": [
      " - Processed 4480/10089 images for Elastic Transform\n"
     ]
    },
    {
     "name": "stderr",
     "output_type": "stream",
     "text": [
      "Processing Elastic Transform:  48%|████▊     | 151/316 [01:04<00:56,  2.91it/s]"
     ]
    },
    {
     "name": "stdout",
     "output_type": "stream",
     "text": [
      " - Processed 4800/10089 images for Elastic Transform\n"
     ]
    },
    {
     "name": "stderr",
     "output_type": "stream",
     "text": [
      "Processing Elastic Transform:  51%|█████     | 161/316 [01:08<00:53,  2.88it/s]"
     ]
    },
    {
     "name": "stdout",
     "output_type": "stream",
     "text": [
      " - Processed 5120/10089 images for Elastic Transform\n"
     ]
    },
    {
     "name": "stderr",
     "output_type": "stream",
     "text": [
      "Processing Elastic Transform:  54%|█████▍    | 171/316 [01:11<00:59,  2.42it/s]"
     ]
    },
    {
     "name": "stdout",
     "output_type": "stream",
     "text": [
      " - Processed 5440/10089 images for Elastic Transform\n"
     ]
    },
    {
     "name": "stderr",
     "output_type": "stream",
     "text": [
      "Processing Elastic Transform:  57%|█████▋    | 181/316 [01:15<00:50,  2.69it/s]"
     ]
    },
    {
     "name": "stdout",
     "output_type": "stream",
     "text": [
      " - Processed 5760/10089 images for Elastic Transform\n"
     ]
    },
    {
     "name": "stderr",
     "output_type": "stream",
     "text": [
      "Processing Elastic Transform:  60%|██████    | 191/316 [01:19<00:43,  2.88it/s]"
     ]
    },
    {
     "name": "stdout",
     "output_type": "stream",
     "text": [
      " - Processed 6080/10089 images for Elastic Transform\n"
     ]
    },
    {
     "name": "stderr",
     "output_type": "stream",
     "text": [
      "Processing Elastic Transform:  64%|██████▎   | 201/316 [01:22<00:40,  2.81it/s]"
     ]
    },
    {
     "name": "stdout",
     "output_type": "stream",
     "text": [
      " - Processed 6400/10089 images for Elastic Transform\n"
     ]
    },
    {
     "name": "stderr",
     "output_type": "stream",
     "text": [
      "Processing Elastic Transform:  67%|██████▋   | 211/316 [01:26<00:36,  2.84it/s]"
     ]
    },
    {
     "name": "stdout",
     "output_type": "stream",
     "text": [
      " - Processed 6720/10089 images for Elastic Transform\n"
     ]
    },
    {
     "name": "stderr",
     "output_type": "stream",
     "text": [
      "Processing Elastic Transform:  70%|██████▉   | 221/316 [01:29<00:34,  2.77it/s]"
     ]
    },
    {
     "name": "stdout",
     "output_type": "stream",
     "text": [
      " - Processed 7040/10089 images for Elastic Transform\n"
     ]
    },
    {
     "name": "stderr",
     "output_type": "stream",
     "text": [
      "Processing Elastic Transform:  73%|███████▎  | 231/316 [01:33<00:31,  2.69it/s]"
     ]
    },
    {
     "name": "stdout",
     "output_type": "stream",
     "text": [
      " - Processed 7360/10089 images for Elastic Transform\n"
     ]
    },
    {
     "name": "stderr",
     "output_type": "stream",
     "text": [
      "Processing Elastic Transform:  76%|███████▋  | 241/316 [01:37<00:32,  2.29it/s]"
     ]
    },
    {
     "name": "stdout",
     "output_type": "stream",
     "text": [
      " - Processed 7680/10089 images for Elastic Transform\n"
     ]
    },
    {
     "name": "stderr",
     "output_type": "stream",
     "text": [
      "Processing Elastic Transform:  79%|███████▉  | 251/316 [01:41<00:23,  2.77it/s]"
     ]
    },
    {
     "name": "stdout",
     "output_type": "stream",
     "text": [
      " - Processed 8000/10089 images for Elastic Transform\n"
     ]
    },
    {
     "name": "stderr",
     "output_type": "stream",
     "text": [
      "Processing Elastic Transform:  83%|████████▎ | 261/316 [01:45<00:23,  2.29it/s]"
     ]
    },
    {
     "name": "stdout",
     "output_type": "stream",
     "text": [
      " - Processed 8320/10089 images for Elastic Transform\n"
     ]
    },
    {
     "name": "stderr",
     "output_type": "stream",
     "text": [
      "Processing Elastic Transform:  86%|████████▌ | 271/316 [01:50<00:24,  1.85it/s]"
     ]
    },
    {
     "name": "stdout",
     "output_type": "stream",
     "text": [
      " - Processed 8640/10089 images for Elastic Transform\n"
     ]
    },
    {
     "name": "stderr",
     "output_type": "stream",
     "text": [
      "Processing Elastic Transform:  89%|████████▉ | 281/316 [01:54<00:12,  2.82it/s]"
     ]
    },
    {
     "name": "stdout",
     "output_type": "stream",
     "text": [
      " - Processed 8960/10089 images for Elastic Transform\n"
     ]
    },
    {
     "name": "stderr",
     "output_type": "stream",
     "text": [
      "Processing Elastic Transform:  92%|█████████▏| 291/316 [01:57<00:09,  2.70it/s]"
     ]
    },
    {
     "name": "stdout",
     "output_type": "stream",
     "text": [
      " - Processed 9280/10089 images for Elastic Transform\n"
     ]
    },
    {
     "name": "stderr",
     "output_type": "stream",
     "text": [
      "Processing Elastic Transform:  95%|█████████▌| 301/316 [02:01<00:06,  2.31it/s]"
     ]
    },
    {
     "name": "stdout",
     "output_type": "stream",
     "text": [
      " - Processed 9600/10089 images for Elastic Transform\n"
     ]
    },
    {
     "name": "stderr",
     "output_type": "stream",
     "text": [
      "Processing Elastic Transform:  98%|█████████▊| 311/316 [02:06<00:02,  2.25it/s]"
     ]
    },
    {
     "name": "stdout",
     "output_type": "stream",
     "text": [
      " - Processed 9920/10089 images for Elastic Transform\n"
     ]
    },
    {
     "name": "stderr",
     "output_type": "stream",
     "text": [
      "Processing Elastic Transform: 100%|██████████| 316/316 [02:08<00:00,  2.47it/s]\n"
     ]
    }
   ],
   "source": [
    "transformed_feats_D = extract_features(transformed_images, feature_extractor_D, batch_size=32)"
   ]
  },
  {
   "cell_type": "code",
   "execution_count": 18,
   "metadata": {},
   "outputs": [
    {
     "name": "stdout",
     "output_type": "stream",
     "text": [
      "random mixing\n"
     ]
    }
   ],
   "source": [
    "print(\"random mixing\")\n",
    "def generate_mixed_dataset(generated_features, train_features, copy_percentage):\n",
    "    \"\"\"Generates a mixed dataset by replacing a percentage of generated samples with training samples.\"\"\"\n",
    "    num_copied = int(copy_percentage * len(generated_features))\n",
    "    num_copied = min(num_copied, len(train_features))  # Ensure we don't copy more than available\n",
    "\n",
    "    if num_copied > 0:\n",
    "        copied_train_indices = np.random.choice(len(train_features), num_copied, replace=False)\n",
    "        copied_train = train_features[copied_train_indices]\n",
    "    else:\n",
    "        copied_train = np.empty((0, generated_features.shape[1]))  # Empty array with correct shape\n",
    "\n",
    "    remaining_generated = generated_features[num_copied:] if num_copied < len(generated_features) else np.empty((0, generated_features.shape[1]))\n",
    "\n",
    "    # Stack the copied training samples with remaining generated ones\n",
    "    mixed_dataset = np.vstack([copied_train, remaining_generated])\n",
    "\n",
    "    return torch.from_numpy(mixed_dataset).float()  # Convert to PyTorch tensor\n"
   ]
  },
  {
   "cell_type": "code",
   "execution_count": 19,
   "metadata": {},
   "outputs": [],
   "source": [
    "copy_percentages = np.linspace(0, 1, 10)  # 0% to 100% copies"
   ]
  },
  {
   "cell_type": "code",
   "execution_count": 20,
   "metadata": {},
   "outputs": [
    {
     "data": {
      "text/plain": [
       "array([0.        , 0.11111111, 0.22222222, 0.33333333, 0.44444444,\n",
       "       0.55555556, 0.66666667, 0.77777778, 0.88888889, 1.        ])"
      ]
     },
     "execution_count": 20,
     "metadata": {},
     "output_type": "execute_result"
    }
   ],
   "source": [
    "copy_percentages"
   ]
  },
  {
   "cell_type": "code",
   "execution_count": 21,
   "metadata": {},
   "outputs": [],
   "source": [
    "# Initialize result storage\n",
    "results = {metric: {t: [] for t in transformed_images.keys()} for metric in [\"FLD Gap\", \"FID Gap\", \"AuthPct\", \"CT\"]}"
   ]
  },
  {
   "cell_type": "code",
   "execution_count": 22,
   "metadata": {},
   "outputs": [],
   "source": [
    "from fld.metrics.AuthPct import AuthPct\n",
    "from fld.metrics.CTTest import CTTest"
   ]
  },
  {
   "cell_type": "code",
   "execution_count": 23,
   "metadata": {},
   "outputs": [],
   "source": [
    "fld_metric = FLD()\n",
    "fid_metric = FID()\n",
    "CTTest_metric = CTTest()\n",
    "AuthPct_metric = AuthPct()\n"
   ]
  },
  {
   "cell_type": "code",
   "execution_count": 24,
   "metadata": {},
   "outputs": [],
   "source": [
    "# Ensure all feature inputs are PyTorch tensors\n",
    "def ensure_tensor(features):\n",
    "    \"\"\"Convert NumPy array to PyTorch tensor if needed.\"\"\"\n",
    "    if isinstance(features, np.ndarray):\n",
    "        return torch.tensor(features, dtype=torch.float32)\n",
    "    \n",
    "    return features  # If it's already a tensor, return as-is\n",
    "# Function to ensure NumPy data is `float64` for Scikit-learn operations (e.g., CTTest)\n",
    "def ensure_numpy(data):\n",
    "    \"\"\"Ensure data is converted to NumPy array with dtype=float64 for sklearn compatibility.\"\"\"\n",
    "    if isinstance(data, torch.Tensor):\n",
    "        return data.cpu().numpy().astype(np.float64)  # Explicitly convert to float64 for sklearn\n",
    "    return np.array(data, dtype=np.float64)\n"
   ]
  },
  {
   "cell_type": "code",
   "execution_count": null,
   "metadata": {},
   "outputs": [],
   "source": []
  },
  {
   "cell_type": "code",
   "execution_count": 25,
   "metadata": {},
   "outputs": [
    {
     "name": "stdout",
     "output_type": "stream",
     "text": [
      "\n",
      "[INFO] Evaluating for 0% copied samples\n"
     ]
    },
    {
     "name": "stderr",
     "output_type": "stream",
     "text": [
      "                                               \r"
     ]
    },
    {
     "name": "stdout",
     "output_type": "stream",
     "text": [
      "cell 0 unrepresented by Qm\n"
     ]
    },
    {
     "name": "stderr",
     "output_type": "stream",
     "text": [
      "                                               \r"
     ]
    },
    {
     "name": "stdout",
     "output_type": "stream",
     "text": [
      "\n",
      "[INFO] Evaluating for 11% copied samples\n"
     ]
    },
    {
     "name": "stderr",
     "output_type": "stream",
     "text": [
      "                                               \r"
     ]
    },
    {
     "name": "stdout",
     "output_type": "stream",
     "text": [
      "\n",
      "[INFO] Evaluating for 22% copied samples\n"
     ]
    },
    {
     "name": "stderr",
     "output_type": "stream",
     "text": [
      "                                               \r"
     ]
    },
    {
     "name": "stdout",
     "output_type": "stream",
     "text": [
      "\n",
      "[INFO] Evaluating for 33% copied samples\n"
     ]
    },
    {
     "name": "stderr",
     "output_type": "stream",
     "text": [
      "                                               \r"
     ]
    },
    {
     "name": "stdout",
     "output_type": "stream",
     "text": [
      "\n",
      "[INFO] Evaluating for 44% copied samples\n"
     ]
    },
    {
     "name": "stderr",
     "output_type": "stream",
     "text": [
      "                                               \r"
     ]
    },
    {
     "name": "stdout",
     "output_type": "stream",
     "text": [
      "\n",
      "[INFO] Evaluating for 56% copied samples\n"
     ]
    },
    {
     "name": "stderr",
     "output_type": "stream",
     "text": [
      "                                               \r"
     ]
    },
    {
     "name": "stdout",
     "output_type": "stream",
     "text": [
      "\n",
      "[INFO] Evaluating for 67% copied samples\n"
     ]
    },
    {
     "name": "stderr",
     "output_type": "stream",
     "text": [
      "                                               \r"
     ]
    },
    {
     "name": "stdout",
     "output_type": "stream",
     "text": [
      "\n",
      "[INFO] Evaluating for 78% copied samples\n"
     ]
    },
    {
     "name": "stderr",
     "output_type": "stream",
     "text": [
      "                                               \r"
     ]
    },
    {
     "name": "stdout",
     "output_type": "stream",
     "text": [
      "\n",
      "[INFO] Evaluating for 89% copied samples\n"
     ]
    },
    {
     "name": "stderr",
     "output_type": "stream",
     "text": [
      "                                               \r"
     ]
    },
    {
     "name": "stdout",
     "output_type": "stream",
     "text": [
      "\n",
      "[INFO] Evaluating for 100% copied samples\n"
     ]
    },
    {
     "name": "stderr",
     "output_type": "stream",
     "text": [
      "c:\\Users\\oumni\\PycharmProjects\\ift6164\\FLD_MAIN\\fld\\fld\\metrics\\FLD.py:59: UserWarning: Very high FLD gen gap value: your generated data is likely completely memorized.\n",
      "  warnings.warn(\n",
      "c:\\Users\\oumni\\PycharmProjects\\ift6164\\FLD_MAIN\\fld\\fld\\metrics\\FLD.py:59: UserWarning: Very high FLD gen gap value: your generated data is likely completely memorized.\n",
      "  warnings.warn(\n",
      "c:\\Users\\oumni\\PycharmProjects\\ift6164\\FLD_MAIN\\fld\\fld\\metrics\\FLD.py:59: UserWarning: Very high FLD gen gap value: your generated data is likely completely memorized.\n",
      "  warnings.warn(\n",
      "c:\\Users\\oumni\\PycharmProjects\\ift6164\\FLD_MAIN\\fld\\fld\\metrics\\FLD.py:59: UserWarning: Very high FLD gen gap value: your generated data is likely completely memorized.\n",
      "  warnings.warn(\n",
      "c:\\Users\\oumni\\PycharmProjects\\ift6164\\FLD_MAIN\\fld\\fld\\metrics\\FLD.py:59: UserWarning: Very high FLD gen gap value: your generated data is likely completely memorized.\n",
      "  warnings.warn(\n",
      "c:\\Users\\oumni\\PycharmProjects\\ift6164\\FLD_MAIN\\fld\\fld\\metrics\\FLD.py:59: UserWarning: Very high FLD gen gap value: your generated data is likely completely memorized.\n",
      "  warnings.warn(\n",
      "c:\\Users\\oumni\\PycharmProjects\\ift6164\\FLD_MAIN\\fld\\fld\\metrics\\FLD.py:59: UserWarning: Very high FLD gen gap value: your generated data is likely completely memorized.\n",
      "  warnings.warn(\n",
      "c:\\Users\\oumni\\PycharmProjects\\ift6164\\FLD_MAIN\\fld\\fld\\metrics\\FLD.py:59: UserWarning: Very high FLD gen gap value: your generated data is likely completely memorized.\n",
      "  warnings.warn(\n",
      "c:\\Users\\oumni\\PycharmProjects\\ift6164\\FLD_MAIN\\fld\\fld\\metrics\\FLD.py:59: UserWarning: Very high FLD gen gap value: your generated data is likely completely memorized.\n",
      "  warnings.warn(\n"
     ]
    }
   ],
   "source": [
    "# Compute metrics for different copy percentages  \n",
    "for copy_pct in copy_percentages:\n",
    "    print(f\"\\n[INFO] Evaluating for {copy_pct*100:.0f}% copied samples\")\n",
    "    \n",
    "    for transform_name, transformed_feats in transformed_feats_D.items():\n",
    "        \n",
    "        \n",
    "        # Create the mixed dataset\n",
    "        mixed_dataset = generate_mixed_dataset(transformed_feats, train_feat_D, copy_pct)\n",
    "        \n",
    "\n",
    "        # Compute FLD generalization gap\n",
    "        fld_gen_gap = FLD(\"gap\").compute_metric(ensure_tensor(train_feat_D), ensure_tensor(test_feat_D), ensure_tensor(mixed_dataset))        \n",
    "\n",
    "        # Compute FID generalization gap\n",
    "        #fid_gen_gap = fid_metric.compute_metric(ensure_tensor(train_feat_D),None, ensure_tensor(mixed_dataset)) - fid_metric.compute_metric(ensure_tensor(test_feat_D), None, ensure_tensor(mixed_dataset))\n",
    "        # For other metrics\n",
    "        fid_gen_gap = fid_metric.compute_metric(ensure_tensor(mixed_dataset), None, ensure_tensor(train_feat_D)) - fid_metric.compute_metric(ensure_tensor(mixed_dataset), None, ensure_tensor(test_feat_D))\n",
    "\n",
    "\n",
    "\n",
    "        # Compute CT metric\n",
    "        # Convert to NumPy float64 for Scikit-learn (CTTest requires float64)\n",
    "        mixed_dataset_np = ensure_numpy(mixed_dataset)\n",
    "        train_feat_np = ensure_numpy(train_feat_D)\n",
    "        test_feat_np = ensure_numpy(test_feat_D)\n",
    "        \n",
    "        ct_value = CTTest_metric.compute_metric(train_feat_np, test_feat_np, mixed_dataset_np)\n",
    "        # Compute authenticity percentage\n",
    "        auth_pct = AuthPct_metric.compute_metric(ensure_tensor(train_feat_D), None, ensure_tensor(mixed_dataset))\n",
    "\n",
    "        \n",
    "        results[\"FLD Gap\"][transform_name].append(fld_gen_gap)\n",
    "        results[\"FID Gap\"][transform_name].append(fid_gen_gap)\n",
    "        results[\"AuthPct\"][transform_name].append(auth_pct)        \n",
    "        results[\"CT\"][transform_name].append(ct_value)      \n"
   ]
  },
  {
   "cell_type": "code",
   "execution_count": 26,
   "metadata": {},
   "outputs": [
    {
     "data": {
      "image/png": "[encoded data removed]",
      "text/plain": [
       "<Figure size 1600x400 with 4 Axes>"
      ]
     },
     "metadata": {},
     "output_type": "display_data"
    }
   ],
   "source": [
    "import matplotlib.pyplot as plt\n",
    "import seaborn as sns\n",
    "\n",
    "# Define colors and markers for transformations\n",
    "transform_styles = {\n",
    "    \"Original\": {\"color\": \"blue\", \"marker\": \"o\"},\n",
    "    \"Gaussian Blur\": {\"color\": \"green\", \"marker\": \"D\"},\n",
    "    \"Posterize\": {\"color\": \"orange\", \"marker\": \"s\"},\n",
    "    \"JPG 75\": {\"color\": \"pink\", \"marker\": \"v\"},\n",
    "    \"JPG 90\": {\"color\": \"purple\", \"marker\": \"^\"},\n",
    "    \"Resize\": {\"color\": \"red\", \"marker\": \"x\"},\n",
    "    \"Color Distort\": {\"color\": \"gray\", \"marker\": \"<\"},\n",
    "    \"Center Crop 30\": {\"color\": \"brown\", \"marker\": \">\"},\n",
    "    \"Center Crop 28\": {\"color\": \"yellow\", \"marker\": \"p\"},\n",
    "    \"Elastic Transform\": {\"color\": \"cyan\", \"marker\": \"h\"}\n",
    "}\n",
    "\n",
    "# Create subplots\n",
    "fig, axes = plt.subplots(1, 4, figsize=(16, 4))\n",
    "metrics = [\"FLD Gap\", \"FID Gap\", \"AuthPct\", \"CT\"]\n",
    "titles = [\"Generalization Gap FLD\", \"Generalization Gap FID\", \"AuthPct\", r\"$C_{\\tau}$\"]\n",
    "\n",
    "for i, metric in enumerate(metrics):\n",
    "    ax = axes[i]\n",
    "    \n",
    "    for transform_name, values in results[metric].items():\n",
    "        style = transform_styles.get(transform_name, {\"color\": \"black\", \"marker\": \"o\"})\n",
    "        ax.plot(copy_percentages * 100, values, label=transform_name, \n",
    "                marker=style[\"marker\"], color=style[\"color\"], linestyle=\"-\")\n",
    "\n",
    "    ax.axhline(0, linestyle=\"--\", color=\"red\", label=\"Overfit line (below is overfit)\")\n",
    "    ax.set_xlabel(\"% copied samples\")\n",
    "    ax.set_title(titles[i])\n",
    "    ax.legend(fontsize=8, loc=\"best\")\n",
    "    \n",
    "plt.tight_layout()\n",
    "plt.show()\n"
   ]
  },
  {
   "cell_type": "code",
   "execution_count": 27,
   "metadata": {},
   "outputs": [
    {
     "data": {
      "image/png": "[encoded data removed]",
      "text/plain": [
       "<Figure size 1600x400 with 4 Axes>"
      ]
     },
     "metadata": {},
     "output_type": "display_data"
    }
   ],
   "source": [
    "import matplotlib.pyplot as plt\n",
    "import seaborn as sns\n",
    "import numpy as np\n",
    "\n",
    "# Define colors and markers for transformations\n",
    "transform_styles = {\n",
    "    \"Original\": {\"color\": \"blue\", \"marker\": \"o\"},\n",
    "    \"Gaussian Blur\": {\"color\": \"green\", \"marker\": \"D\"},\n",
    "    \"Posterize\": {\"color\": \"orange\", \"marker\": \"s\"},\n",
    "    \"JPG 75\": {\"color\": \"pink\", \"marker\": \"v\"},\n",
    "    \"JPG 90\": {\"color\": \"purple\", \"marker\": \"^\"},\n",
    "    \"Resize\": {\"color\": \"red\", \"marker\": \"x\"},\n",
    "    \"Color Distort\": {\"color\": \"gray\", \"marker\": \"<\"},\n",
    "    \"Center Crop 30\": {\"color\": \"brown\", \"marker\": \">\"},\n",
    "    \"Center Crop 28\": {\"color\": \"yellow\", \"marker\": \"p\"},\n",
    "    \"Elastic Transform\": {\"color\": \"cyan\", \"marker\": \"h\"}\n",
    "}\n",
    "\n",
    "# Create subplots\n",
    "fig, axes = plt.subplots(1, 4, figsize=(16, 4))\n",
    "metrics = [\"FLD Gap\", \"FID Gap\", \"AuthPct\", \"CT\"]\n",
    "titles = [\"Generalization Gap FLD\", \"Generalization Gap FID\", \"AuthPct\", r\"$C_{\\tau}$\"]\n",
    "\n",
    "for i, metric in enumerate(metrics):\n",
    "    ax = axes[i]\n",
    "    \n",
    "    for transform_name, values in results[metric].items():\n",
    "        style = transform_styles.get(transform_name, {\"color\": \"black\", \"marker\": \"o\"})\n",
    "        ax.plot(copy_percentages * 100, values, label=transform_name, \n",
    "                marker=style[\"marker\"], color=style[\"color\"], linestyle=\"-\")\n",
    "\n",
    "    ax.axhline(0, linestyle=\"--\", color=\"red\", label=\"Overfit line (below is overfit)\")\n",
    "    ax.set_xlabel(\"% copied samples\")\n",
    "    ax.set_title(titles[i])\n",
    "\n",
    "    # Ensure proper y-axis range and ticks for FLD Gap\n",
    "    if metric == \"FLD Gap\":\n",
    "        ax.set_ylim(-25, 2)  # Set limits from -25 to 2 for better visibility\n",
    "        ax.set_yticks(np.arange(0, -500, -10))  # Display ticks from 0 to -25\n",
    "\n",
    "    ax.legend(fontsize=8, loc=\"best\")\n",
    "\n",
    "plt.tight_layout()\n",
    "plt.show()\n"
   ]
  },
  {
   "cell_type": "code",
   "execution_count": 51,
   "metadata": {},
   "outputs": [
    {
     "ename": "KeyboardInterrupt",
     "evalue": "",
     "output_type": "error",
     "traceback": [
      "\u001b[1;31m---------------------------------------------------------------------------\u001b[0m",
      "\u001b[1;31mKeyboardInterrupt\u001b[0m                         Traceback (most recent call last)",
      "Cell \u001b[1;32mIn[51], line 22\u001b[0m\n\u001b[0;32m     19\u001b[0m     \u001b[38;5;28;01mreturn\u001b[39;00m np\u001b[38;5;241m.\u001b[39marray(O_j)\n\u001b[0;32m     21\u001b[0m \u001b[38;5;66;03m# Example usage\u001b[39;00m\n\u001b[1;32m---> 22\u001b[0m O_j_scores \u001b[38;5;241m=\u001b[39m \u001b[43mcompute_memorization_score\u001b[49m\u001b[43m(\u001b[49m\u001b[43mtrain_feat_D\u001b[49m\u001b[43m,\u001b[49m\u001b[43m \u001b[49m\u001b[43mgen_feat_D\u001b[49m\u001b[43m)\u001b[49m\n",
      "Cell \u001b[1;32mIn[51], line 14\u001b[0m, in \u001b[0;36mcompute_memorization_score\u001b[1;34m(train_features, gen_features, sigma_sq)\u001b[0m\n\u001b[0;32m      9\u001b[0m O_j \u001b[38;5;241m=\u001b[39m []\n\u001b[0;32m     11\u001b[0m \u001b[38;5;28;01mfor\u001b[39;00m gen_sample \u001b[38;5;129;01min\u001b[39;00m gen_features:\n\u001b[0;32m     12\u001b[0m     \u001b[38;5;66;03m# Compute likelihood for each train sample\u001b[39;00m\n\u001b[0;32m     13\u001b[0m     likelihoods \u001b[38;5;241m=\u001b[39m [\n\u001b[1;32m---> 14\u001b[0m         \u001b[43mmultivariate_normal\u001b[49m\u001b[38;5;241;43m.\u001b[39;49m\u001b[43mpdf\u001b[49m\u001b[43m(\u001b[49m\u001b[43mtrain_sample\u001b[49m\u001b[43m,\u001b[49m\u001b[43m \u001b[49m\u001b[43mmean\u001b[49m\u001b[38;5;241;43m=\u001b[39;49m\u001b[43mgen_sample\u001b[49m\u001b[43m,\u001b[49m\u001b[43m \u001b[49m\u001b[43mcov\u001b[49m\u001b[38;5;241;43m=\u001b[39;49m\u001b[43msigma_sq\u001b[49m\u001b[43m \u001b[49m\u001b[38;5;241;43m*\u001b[39;49m\u001b[43m \u001b[49m\u001b[43mnp\u001b[49m\u001b[38;5;241;43m.\u001b[39;49m\u001b[43meye\u001b[49m\u001b[43m(\u001b[49m\u001b[38;5;28;43mlen\u001b[39;49m\u001b[43m(\u001b[49m\u001b[43mgen_sample\u001b[49m\u001b[43m)\u001b[49m\u001b[43m)\u001b[49m\u001b[43m)\u001b[49m\n\u001b[0;32m     15\u001b[0m         \u001b[38;5;28;01mfor\u001b[39;00m train_sample \u001b[38;5;129;01min\u001b[39;00m train_features\n\u001b[0;32m     16\u001b[0m     ]\n\u001b[0;32m     17\u001b[0m     O_j\u001b[38;5;241m.\u001b[39mappend(np\u001b[38;5;241m.\u001b[39mmax(likelihoods))  \u001b[38;5;66;03m# Take max likelihood\u001b[39;00m\n\u001b[0;32m     19\u001b[0m \u001b[38;5;28;01mreturn\u001b[39;00m np\u001b[38;5;241m.\u001b[39marray(O_j)\n",
      "File \u001b[1;32mc:\\Users\\oumni\\PycharmProjects\\ift6164\\FLD_MAIN\\fld\\venv\\Lib\\site-packages\\scipy\\stats\\_multivariate.py:588\u001b[0m, in \u001b[0;36mmultivariate_normal_gen.pdf\u001b[1;34m(self, x, mean, cov, allow_singular)\u001b[0m\n\u001b[0;32m    569\u001b[0m \u001b[38;5;28;01mdef\u001b[39;00m\u001b[38;5;250m \u001b[39m\u001b[38;5;21mpdf\u001b[39m(\u001b[38;5;28mself\u001b[39m, x, mean\u001b[38;5;241m=\u001b[39m\u001b[38;5;28;01mNone\u001b[39;00m, cov\u001b[38;5;241m=\u001b[39m\u001b[38;5;241m1\u001b[39m, allow_singular\u001b[38;5;241m=\u001b[39m\u001b[38;5;28;01mFalse\u001b[39;00m):\n\u001b[0;32m    570\u001b[0m \u001b[38;5;250m    \u001b[39m\u001b[38;5;124;03m\"\"\"Multivariate normal probability density function.\u001b[39;00m\n\u001b[0;32m    571\u001b[0m \n\u001b[0;32m    572\u001b[0m \u001b[38;5;124;03m    Parameters\u001b[39;00m\n\u001b[1;32m   (...)\u001b[0m\n\u001b[0;32m    586\u001b[0m \n\u001b[0;32m    587\u001b[0m \u001b[38;5;124;03m    \"\"\"\u001b[39;00m\n\u001b[1;32m--> 588\u001b[0m     params \u001b[38;5;241m=\u001b[39m \u001b[38;5;28;43mself\u001b[39;49m\u001b[38;5;241;43m.\u001b[39;49m\u001b[43m_process_parameters\u001b[49m\u001b[43m(\u001b[49m\u001b[43mmean\u001b[49m\u001b[43m,\u001b[49m\u001b[43m \u001b[49m\u001b[43mcov\u001b[49m\u001b[43m,\u001b[49m\u001b[43m \u001b[49m\u001b[43mallow_singular\u001b[49m\u001b[43m)\u001b[49m\n\u001b[0;32m    589\u001b[0m     dim, mean, cov_object \u001b[38;5;241m=\u001b[39m params\n\u001b[0;32m    590\u001b[0m     x \u001b[38;5;241m=\u001b[39m \u001b[38;5;28mself\u001b[39m\u001b[38;5;241m.\u001b[39m_process_quantiles(x, dim)\n",
      "File \u001b[1;32mc:\\Users\\oumni\\PycharmProjects\\ift6164\\FLD_MAIN\\fld\\venv\\Lib\\site-packages\\scipy\\stats\\_multivariate.py:425\u001b[0m, in \u001b[0;36mmultivariate_normal_gen._process_parameters\u001b[1;34m(self, mean, cov, allow_singular)\u001b[0m\n\u001b[0;32m    418\u001b[0m dim, mean, cov \u001b[38;5;241m=\u001b[39m \u001b[38;5;28mself\u001b[39m\u001b[38;5;241m.\u001b[39m_process_parameters_psd(\u001b[38;5;28;01mNone\u001b[39;00m, mean, cov)\n\u001b[0;32m    419\u001b[0m \u001b[38;5;66;03m# After input validation, some methods then processed the arrays\u001b[39;00m\n\u001b[0;32m    420\u001b[0m \u001b[38;5;66;03m# with a `_PSD` object and used that to perform computation.\u001b[39;00m\n\u001b[0;32m    421\u001b[0m \u001b[38;5;66;03m# To avoid branching statements in each method depending on whether\u001b[39;00m\n\u001b[0;32m    422\u001b[0m \u001b[38;5;66;03m# `cov` is an array or `Covariance` object, we always process the\u001b[39;00m\n\u001b[0;32m    423\u001b[0m \u001b[38;5;66;03m# array with `_PSD`, and then use wrapper that satisfies the\u001b[39;00m\n\u001b[0;32m    424\u001b[0m \u001b[38;5;66;03m# `Covariance` interface, `CovViaPSD`.\u001b[39;00m\n\u001b[1;32m--> 425\u001b[0m psd \u001b[38;5;241m=\u001b[39m \u001b[43m_PSD\u001b[49m\u001b[43m(\u001b[49m\u001b[43mcov\u001b[49m\u001b[43m,\u001b[49m\u001b[43m \u001b[49m\u001b[43mallow_singular\u001b[49m\u001b[38;5;241;43m=\u001b[39;49m\u001b[43mallow_singular\u001b[49m\u001b[43m)\u001b[49m\n\u001b[0;32m    426\u001b[0m cov_object \u001b[38;5;241m=\u001b[39m _covariance\u001b[38;5;241m.\u001b[39mCovViaPSD(psd)\n\u001b[0;32m    427\u001b[0m \u001b[38;5;28;01mreturn\u001b[39;00m dim, mean, cov_object\n",
      "File \u001b[1;32mc:\\Users\\oumni\\PycharmProjects\\ift6164\\FLD_MAIN\\fld\\venv\\Lib\\site-packages\\scipy\\stats\\_multivariate.py:180\u001b[0m, in \u001b[0;36m_PSD.__init__\u001b[1;34m(self, M, cond, rcond, lower, check_finite, allow_singular)\u001b[0m\n\u001b[0;32m    178\u001b[0m     \u001b[38;5;28;01mraise\u001b[39;00m np\u001b[38;5;241m.\u001b[39mlinalg\u001b[38;5;241m.\u001b[39mLinAlgError(msg)\n\u001b[0;32m    179\u001b[0m s_pinv \u001b[38;5;241m=\u001b[39m _pinv_1d(s, eps)\n\u001b[1;32m--> 180\u001b[0m U \u001b[38;5;241m=\u001b[39m \u001b[43mnp\u001b[49m\u001b[38;5;241;43m.\u001b[39;49m\u001b[43mmultiply\u001b[49m\u001b[43m(\u001b[49m\u001b[43mu\u001b[49m\u001b[43m,\u001b[49m\u001b[43m \u001b[49m\u001b[43mnp\u001b[49m\u001b[38;5;241;43m.\u001b[39;49m\u001b[43msqrt\u001b[49m\u001b[43m(\u001b[49m\u001b[43ms_pinv\u001b[49m\u001b[43m)\u001b[49m\u001b[43m)\u001b[49m\n\u001b[0;32m    182\u001b[0m \u001b[38;5;66;03m# Save the eigenvector basis, and tolerance for testing support\u001b[39;00m\n\u001b[0;32m    183\u001b[0m \u001b[38;5;28mself\u001b[39m\u001b[38;5;241m.\u001b[39meps \u001b[38;5;241m=\u001b[39m \u001b[38;5;241m1e3\u001b[39m\u001b[38;5;241m*\u001b[39meps\n",
      "\u001b[1;31mKeyboardInterrupt\u001b[0m: "
     ]
    }
   ],
   "source": [
    "import numpy as np\n",
    "import torch\n",
    "from scipy.stats import multivariate_normal\n",
    "\n",
    "def compute_memorization_score(train_features, gen_features, sigma_sq=0.01):\n",
    "    \"\"\"\n",
    "    Computes memorization score O_j for each generated sample.\n",
    "    \"\"\"\n",
    "    O_j = []\n",
    "    \n",
    "    for gen_sample in gen_features:\n",
    "        # Compute likelihood for each train sample\n",
    "        likelihoods = [\n",
    "            multivariate_normal.pdf(train_sample, mean=gen_sample, cov=sigma_sq * np.eye(len(gen_sample)))\n",
    "            for train_sample in train_features\n",
    "        ]\n",
    "        O_j.append(np.max(likelihoods))  # Take max likelihood\n",
    "\n",
    "    return np.array(O_j)\n",
    "\n",
    "# Example usage\n",
    "O_j_scores = compute_memorization_score(train_feat_D, gen_feat_D)\n"
   ]
  },
  {
   "cell_type": "code",
   "execution_count": 52,
   "metadata": {},
   "outputs": [
    {
     "ename": "NameError",
     "evalue": "name 'O_j_scores' is not defined",
     "output_type": "error",
     "traceback": [
      "\u001b[1;31m---------------------------------------------------------------------------\u001b[0m",
      "\u001b[1;31mNameError\u001b[0m                                 Traceback (most recent call last)",
      "Cell \u001b[1;32mIn[52], line 1\u001b[0m\n\u001b[1;32m----> 1\u001b[0m \u001b[43mO_j_scores\u001b[49m\n",
      "\u001b[1;31mNameError\u001b[0m: name 'O_j_scores' is not defined"
     ]
    }
   ],
   "source": [
    "O_j_scores"
   ]
  },
  {
   "cell_type": "code",
   "execution_count": null,
   "metadata": {},
   "outputs": [],
   "source": [
    "from fld.metrics.FLD import FLD\n",
    "\n",
    "# Compute FLD scores\n",
    "fld_train = FLD(\"train\").compute_metric(train_feat_D, test_feat_D, gen_feat_D)\n",
    "fld_test = FLD(\"test\").compute_metric(train_feat_D, test_feat_D, gen_feat_D)\n",
    "\n",
    "# Compute FLD Gap\n",
    "fld_gap = fld_train - fld_test\n",
    "print(f\"FLD Generalization Gap: {fld_gap:.3f}\")\n"
   ]
  },
  {
   "cell_type": "code",
   "execution_count": null,
   "metadata": {},
   "outputs": [],
   "source": [
    "def compute_fidelity_score(test_features, gen_features, sigma_sq=0.01):\n",
    "    \"\"\"\n",
    "    Computes fidelity score Q_j for each generated sample.\n",
    "    \"\"\"\n",
    "    Q_j = []\n",
    "    \n",
    "    for gen_sample in gen_features:\n",
    "        # Compute likelihood for each test sample\n",
    "        likelihoods = [\n",
    "            multivariate_normal.pdf(gen_sample, mean=test_sample, cov=sigma_sq * np.eye(len(gen_sample)))\n",
    "            for test_sample in test_features\n",
    "        ]\n",
    "        Q_j.append(np.mean(likelihoods))  # Take mean likelihood\n",
    "\n",
    "    return np.array(Q_j)\n",
    "\n",
    "# Example usage\n",
    "Q_j_scores = compute_fidelity_score(test_feat_D, gen_feat_D)\n"
   ]
  },
  {
   "cell_type": "code",
   "execution_count": null,
   "metadata": {},
   "outputs": [],
   "source": [
    "import matplotlib.pyplot as plt\n",
    "\n",
    "# Sort generated samples by O_j (memorization)\n",
    "sorted_Oj_indices = np.argsort(O_j_scores)[::-1]  # Descending order\n",
    "top_memorized = gen_feat_D[sorted_Oj_indices[:10]]  # Top memorized samples\n",
    "\n",
    "# Sort by Q_j (fidelity)\n",
    "sorted_Qj_indices = np.argsort(Q_j_scores)  # Ascending order (low scores = low fidelity)\n",
    "worst_fidelity = gen_feat_D[sorted_Qj_indices[:10]]  # Worst fidelity samples\n",
    "\n",
    "# Visualization\n",
    "fig, axes = plt.subplots(2, 10, figsize=(15, 3))\n",
    "for i, img in enumerate(top_memorized):\n",
    "    axes[0, i].imshow(img.reshape(32, 32, 3))  # Assuming CIFAR10 images\n",
    "    axes[0, i].axis(\"off\")\n",
    "\n",
    "for i, img in enumerate(worst_fidelity):\n",
    "    axes[1, i].imshow(img.reshape(32, 32, 3))\n",
    "    axes[1, i].axis(\"off\")\n",
    "\n",
    "axes[0, 0].set_title(\"Most Memorized\")\n",
    "axes[1, 0].set_title(\"Worst Fidelity\")\n",
    "plt.show()\n"
   ]
  },
  {
   "cell_type": "code",
   "execution_count": null,
   "metadata": {},
   "outputs": [],
   "source": []
  },
  {
   "cell_type": "code",
   "execution_count": null,
   "metadata": {},
   "outputs": [],
   "source": []
  },
  {
   "cell_type": "code",
   "execution_count": 55,
   "metadata": {},
   "outputs": [
    {
     "data": {
      "text/plain": [
       "tensor([[ 0.3088, -0.9796,  2.2129,  ..., -1.5779, -2.6371,  0.1833],\n",
       "        [ 0.3279, -1.2939,  1.9073,  ...,  0.2000,  2.9318,  0.1698],\n",
       "        [ 0.9680,  0.9783, -1.9156,  ..., -1.6928, -2.7901,  1.6597],\n",
       "        ...,\n",
       "        [ 1.3777, -0.9608, -4.5788,  ...,  0.3335, -2.7292, -1.9799],\n",
       "        [-0.1811, -1.9159, -2.6187,  ...,  0.8794,  2.8082,  2.2205],\n",
       "        [-0.8831, -0.3573,  2.0622,  ..., -1.2137, -2.1847,  0.0618]])"
      ]
     },
     "execution_count": 55,
     "metadata": {},
     "output_type": "execute_result"
    }
   ],
   "source": [
    "gen_feat_D"
   ]
  },
  {
   "cell_type": "code",
   "execution_count": 57,
   "metadata": {},
   "outputs": [
    {
     "data": {
      "text/plain": [
       "10089"
      ]
     },
     "execution_count": 57,
     "metadata": {},
     "output_type": "execute_result"
    }
   ],
   "source": [
    "len(gen_feat_D)"
   ]
  },
  {
   "cell_type": "code",
   "execution_count": 56,
   "metadata": {},
   "outputs": [
    {
     "data": {
      "text/plain": [
       "tensor([[-5.3939e-01, -1.7548e+00,  6.0167e-01,  ..., -2.9145e-01,\n",
       "         -3.1981e-01,  1.2117e-02],\n",
       "        [-7.8420e-01, -1.7298e+00, -1.6507e+00,  ..., -1.4103e-01,\n",
       "          1.4092e-01, -2.8189e+00],\n",
       "        [ 7.2837e-01,  3.0657e-01, -2.3025e+00,  ..., -2.1207e+00,\n",
       "         -1.8389e+00,  3.1588e-01],\n",
       "        ...,\n",
       "        [-2.5170e-01,  8.0840e-01,  4.1461e-01,  ..., -2.3844e+00,\n",
       "          1.9521e+00, -1.9543e+00],\n",
       "        [ 5.2407e-01, -1.4660e+00, -1.7672e+00,  ..., -8.3424e-01,\n",
       "         -5.2776e-01, -1.0173e-01],\n",
       "        [-1.1598e+00, -1.6850e+00, -7.0374e-04,  ...,  1.0751e-01,\n",
       "         -1.8629e+00, -2.0755e-01]])"
      ]
     },
     "execution_count": 56,
     "metadata": {},
     "output_type": "execute_result"
    }
   ],
   "source": [
    "train_feat_D"
   ]
  },
  {
   "cell_type": "code",
   "execution_count": 69,
   "metadata": {},
   "outputs": [],
   "source": [
    "import torch\n",
    "from fld.MoG import MoG\n",
    "from fld.utils import shuffle\n",
    "\n",
    "DEVICE = torch.device(\"cuda\" if torch.cuda.is_available() else \"cpu\")\n",
    "BATCH_SIZE = 10000\n",
    "\n",
    "def compute_memorization_scores(train_feat_D, gen_feat_D, batch_size=BATCH_SIZE):\n",
    "    \"\"\"\n",
    "    Computes memorization scores (O_j) using FLD's Mixture of Gaussians (MoG).\n",
    "    \n",
    "    - A **higher** O_j means the generated sample is **highly memorized**.\n",
    "    - MoG is fit to the training features and evaluates how closely generated samples match.\n",
    "    \n",
    "    Parameters:\n",
    "        train_feat_D (torch.Tensor): Training set features.\n",
    "        gen_feat_D (torch.Tensor): Generated set features.\n",
    "        batch_size (int): Batch size for processing.\n",
    "\n",
    "    Returns:\n",
    "        torch.Tensor: Memorization scores O_j for each generated sample.\n",
    "    \"\"\"\n",
    "    \n",
    "    # Move features to device\n",
    "    train_feat_D, gen_feat_D = train_feat_D.to(DEVICE), gen_feat_D.to(DEVICE)\n",
    "    \n",
    "    # Fit a Mixture of Gaussians (MoG) model centered at generated samples\n",
    "    mog_gen = MoG(gen_feat_D)\n",
    "    mog_gen.fit(train_feat_D)\n",
    "\n",
    "    # Initialize memorization scores (low default value)\n",
    "    scores = float(\"-inf\") * torch.ones((len(gen_feat_D),), device=DEVICE)\n",
    "\n",
    "    # Compute max likelihood across training samples\n",
    "    for batch in train_feat_D.split(batch_size):\n",
    "        dists = mog_gen.dists(batch)  # Compute distances\n",
    "        pairwise_lls = mog_gen.pairwise_lls_from_dists(dists, mog_gen.log_sigmas)  # Convert to likelihood\n",
    "        scores = torch.maximum(scores, pairwise_lls.max(dim=0).values)  # Take max LL\n",
    "\n",
    "    return scores / train_feat_D.shape[1]  # Normalize by feature dimension\n"
   ]
  },
  {
   "cell_type": "code",
   "execution_count": 71,
   "metadata": {},
   "outputs": [
    {
     "name": "stderr",
     "output_type": "stream",
     "text": [
      "                                               \r"
     ]
    },
    {
     "name": "stdout",
     "output_type": "stream",
     "text": [
      "Top 10 Memorization Scores: [-1.7106298 -2.8996453 -1.8078737 -2.6780972 -2.0330443 -1.8408102\n",
      " -1.598957  -1.930867  -1.8288782 -1.9564604]\n"
     ]
    }
   ],
   "source": [
    "# Compute O_j scores using the MoG-based memorization metric\n",
    "O_j_scores = compute_memorization_scores(train_feat_D, gen_feat_D)\n",
    "print(\"Top 10 Memorization Scores:\", O_j_scores[:10].cpu().numpy())  # Print first 10 scores"
   ]
  },
  {
   "cell_type": "code",
   "execution_count": 72,
   "metadata": {},
   "outputs": [],
   "source": [
    "import torch\n",
    "\n",
    "def compute_fidelity_scores(train_feat, test_feat, gen_feat):\n",
    "    \"\"\"\n",
    "    Computes fidelity scores (Q_j) for generated samples based on likelihood under \n",
    "    a Gaussian mixture model fitted to the test set.\n",
    "    \"\"\"\n",
    "    device = train_feat.device  # Get the device (CPU/GPU) of train_feat\n",
    "    \n",
    "    # # Move all tensors to the same device\n",
    "    # train_feat = train_feat.to(device)\n",
    "    # test_feat = test_feat.to(device)\n",
    "    # gen_feat = gen_feat.to(device)\n",
    "\n",
    "    mog_test = MoG(test_feat)\n",
    "    mog_test.fit(train_feat)\n",
    "\n",
    "    scores = []\n",
    "    for batch in gen_feat.split(10000):\n",
    "        batch = batch.to(device)  # Move batch to the correct device\n",
    "        lls = mog_test.lls(batch)\n",
    "        scores.append(lls)\n",
    "\n",
    "    scores = torch.cat(scores)\n",
    "    return scores.cpu().numpy()  # Convert back to CPU for NumPy compatibility\n",
    "\n",
    "# Compute fidelity scores\n",
    "\n"
   ]
  },
  {
   "cell_type": "code",
   "execution_count": 73,
   "metadata": {},
   "outputs": [
    {
     "name": "stderr",
     "output_type": "stream",
     "text": [
      "                                      \r"
     ]
    },
    {
     "ename": "RuntimeError",
     "evalue": "Expected all tensors to be on the same device, but found at least two devices, cuda:0 and cpu!",
     "output_type": "error",
     "traceback": [
      "\u001b[1;31m---------------------------------------------------------------------------\u001b[0m",
      "\u001b[1;31mRuntimeError\u001b[0m                              Traceback (most recent call last)",
      "Cell \u001b[1;32mIn[73], line 1\u001b[0m\n\u001b[1;32m----> 1\u001b[0m Q_j_scores \u001b[38;5;241m=\u001b[39m \u001b[43mcompute_fidelity_scores\u001b[49m\u001b[43m(\u001b[49m\u001b[43mtrain_feat_D\u001b[49m\u001b[43m,\u001b[49m\u001b[43m \u001b[49m\u001b[43mtest_feat_D\u001b[49m\u001b[43m,\u001b[49m\u001b[43m \u001b[49m\u001b[43mgen_feat_D\u001b[49m\u001b[43m)\u001b[49m\n",
      "Cell \u001b[1;32mIn[72], line 16\u001b[0m, in \u001b[0;36mcompute_fidelity_scores\u001b[1;34m(train_feat, test_feat, gen_feat)\u001b[0m\n\u001b[0;32m     10\u001b[0m \u001b[38;5;66;03m# # Move all tensors to the same device\u001b[39;00m\n\u001b[0;32m     11\u001b[0m \u001b[38;5;66;03m# train_feat = train_feat.to(device)\u001b[39;00m\n\u001b[0;32m     12\u001b[0m \u001b[38;5;66;03m# test_feat = test_feat.to(device)\u001b[39;00m\n\u001b[0;32m     13\u001b[0m \u001b[38;5;66;03m# gen_feat = gen_feat.to(device)\u001b[39;00m\n\u001b[0;32m     15\u001b[0m mog_test \u001b[38;5;241m=\u001b[39m MoG(test_feat)\n\u001b[1;32m---> 16\u001b[0m \u001b[43mmog_test\u001b[49m\u001b[38;5;241;43m.\u001b[39;49m\u001b[43mfit\u001b[49m\u001b[43m(\u001b[49m\u001b[43mtrain_feat\u001b[49m\u001b[43m)\u001b[49m\n\u001b[0;32m     18\u001b[0m scores \u001b[38;5;241m=\u001b[39m []\n\u001b[0;32m     19\u001b[0m \u001b[38;5;28;01mfor\u001b[39;00m batch \u001b[38;5;129;01min\u001b[39;00m gen_feat\u001b[38;5;241m.\u001b[39msplit(\u001b[38;5;241m10000\u001b[39m):\n",
      "File \u001b[1;32mc:\\Users\\oumni\\PycharmProjects\\ift6164\\FLD_MAIN\\fld\\fld\\MoG.py:139\u001b[0m, in \u001b[0;36mMoG.fit\u001b[1;34m(self, x, batch_size)\u001b[0m\n\u001b[0;32m    137\u001b[0m multiplier \u001b[38;5;241m=\u001b[39m (\u001b[38;5;241m1\u001b[39m \u001b[38;5;241m-\u001b[39m ORIGIN_DIST_PROP) \u001b[38;5;241m*\u001b[39m\u001b[38;5;241m*\u001b[39m \u001b[38;5;241m2\u001b[39m\n\u001b[0;32m    138\u001b[0m origin_dists \u001b[38;5;241m=\u001b[39m multiplier \u001b[38;5;241m*\u001b[39m compute_dists(batch, mean_x)\n\u001b[1;32m--> 139\u001b[0m origin_lls \u001b[38;5;241m=\u001b[39m \u001b[38;5;28;43mself\u001b[39;49m\u001b[38;5;241;43m.\u001b[39;49m\u001b[43mpairwise_lls_from_dists\u001b[49m\u001b[43m(\u001b[49m\n\u001b[0;32m    140\u001b[0m \u001b[43m    \u001b[49m\u001b[43morigin_dists\u001b[49m\u001b[43m,\u001b[49m\u001b[43m \u001b[49m\u001b[38;5;28;43mself\u001b[39;49m\u001b[38;5;241;43m.\u001b[39;49m\u001b[43morigin_log_sigma\u001b[49m\n\u001b[0;32m    141\u001b[0m \u001b[43m\u001b[49m\u001b[43m)\u001b[49m\n\u001b[0;32m    143\u001b[0m lls \u001b[38;5;241m=\u001b[39m \u001b[38;5;28mself\u001b[39m\u001b[38;5;241m.\u001b[39mlls_from_pairwise(pairwise_lls, origin_lls)\n\u001b[0;32m    144\u001b[0m loss \u001b[38;5;241m=\u001b[39m \u001b[38;5;241m-\u001b[39mlls\u001b[38;5;241m.\u001b[39mmean()\n",
      "File \u001b[1;32mc:\\Users\\oumni\\PycharmProjects\\ift6164\\FLD_MAIN\\fld\\fld\\MoG.py:83\u001b[0m, in \u001b[0;36mMoG.pairwise_lls_from_dists\u001b[1;34m(self, dists, log_sigmas)\u001b[0m\n\u001b[0;32m     78\u001b[0m \u001b[38;5;28;01mdef\u001b[39;00m\u001b[38;5;250m \u001b[39m\u001b[38;5;21mpairwise_lls_from_dists\u001b[39m(\u001b[38;5;28mself\u001b[39m, dists, log_sigmas):\n\u001b[0;32m     79\u001b[0m \u001b[38;5;250m    \u001b[39m\u001b[38;5;124;03m\"\"\"Returns an n x m matrix (where n is the number of samples and m the number of gaussians)\u001b[39;00m\n\u001b[0;32m     80\u001b[0m \n\u001b[0;32m     81\u001b[0m \u001b[38;5;124;03m    An entry a_ij of this matrix is such that a_ij = log[N(x_i|x_j, sigma_j)]\u001b[39;00m\n\u001b[0;32m     82\u001b[0m \u001b[38;5;124;03m    \"\"\"\u001b[39;00m\n\u001b[1;32m---> 83\u001b[0m     exponent_term \u001b[38;5;241m=\u001b[39m \u001b[43m(\u001b[49m\u001b[38;5;241;43m-\u001b[39;49m\u001b[38;5;241;43m0.5\u001b[39;49m\u001b[43m \u001b[49m\u001b[38;5;241;43m*\u001b[39;49m\u001b[43m \u001b[49m\u001b[43mdists\u001b[49m\u001b[43m)\u001b[49m\u001b[43m \u001b[49m\u001b[38;5;241;43m/\u001b[39;49m\u001b[43m \u001b[49m\u001b[43m(\u001b[49m\u001b[43mtorch\u001b[49m\u001b[38;5;241;43m.\u001b[39;49m\u001b[43mexp\u001b[49m\u001b[43m(\u001b[49m\u001b[43mlog_sigmas\u001b[49m\u001b[43m)\u001b[49m\u001b[43m)\u001b[49m\n\u001b[0;32m     85\u001b[0m     \u001b[38;5;66;03m# Here we use that dividing by x is equivalent to multiplying by e^{-ln(x)}\u001b[39;00m\n\u001b[0;32m     86\u001b[0m     \u001b[38;5;66;03m# allows for use of logsumexp for numerical stability\u001b[39;00m\n\u001b[0;32m     87\u001b[0m     exponent_term \u001b[38;5;241m-\u001b[39m\u001b[38;5;241m=\u001b[39m (\u001b[38;5;28mself\u001b[39m\u001b[38;5;241m.\u001b[39mdim \u001b[38;5;241m/\u001b[39m \u001b[38;5;241m2\u001b[39m) \u001b[38;5;241m*\u001b[39m log_sigmas\n",
      "\u001b[1;31mRuntimeError\u001b[0m: Expected all tensors to be on the same device, but found at least two devices, cuda:0 and cpu!"
     ]
    }
   ],
   "source": [
    "Q_j_scores = compute_fidelity_scores(train_feat_D, test_feat_D, gen_feat_D)"
   ]
  },
  {
   "cell_type": "code",
   "execution_count": null,
   "metadata": {},
   "outputs": [],
   "source": []
  },
  {
   "cell_type": "code",
   "execution_count": null,
   "metadata": {},
   "outputs": [
    {
     "name": "stdout",
     "output_type": "stream",
     "text": [
      "0.0\n",
      "0.0\n",
      "0.0\n",
      "0.0\n",
      "0.0\n",
      "0.0\n",
      "0.0\n",
      "0.0\n",
      "0.0\n",
      "0.0\n",
      "0.0\n",
      "0.0\n",
      "0.0\n",
      "0.0\n",
      "0.0\n",
      "0.0\n",
      "0.0\n",
      "0.0\n",
      "0.0\n",
      "0.0\n",
      "0.0\n",
      "0.0\n",
      "0.0\n",
      "0.0\n",
      "0.0\n",
      "0.0\n",
      "0.0\n",
      "0.0\n",
      "0.0\n",
      "0.0\n",
      "0.0\n",
      "0.0\n",
      "0.0\n",
      "0.0\n",
      "0.0\n",
      "0.0\n",
      "0.0\n",
      "0.0\n",
      "0.0\n",
      "0.0\n",
      "0.0\n",
      "0.0\n",
      "0.0\n",
      "0.0\n",
      "0.0\n",
      "0.0\n",
      "0.0\n",
      "0.0\n",
      "0.0\n",
      "0.0\n",
      "0.0\n",
      "0.0\n",
      "0.0\n",
      "0.0\n",
      "0.0\n",
      "0.0\n",
      "0.0\n",
      "0.0\n",
      "0.0\n",
      "0.0\n",
      "0.0\n",
      "0.0\n",
      "0.0\n",
      "0.0\n",
      "0.0\n",
      "0.0\n",
      "0.0\n",
      "0.0\n",
      "0.0\n",
      "0.0\n",
      "0.0\n",
      "0.0\n",
      "0.0\n",
      "0.0\n",
      "0.0\n",
      "0.0\n",
      "0.0\n",
      "0.0\n",
      "0.0\n",
      "0.0\n",
      "0.0\n",
      "0.0\n",
      "0.0\n",
      "0.0\n",
      "0.0\n",
      "0.0\n",
      "0.0\n",
      "0.0\n",
      "0.0\n",
      "0.0\n",
      "0.0\n",
      "0.0\n",
      "0.0\n",
      "0.0\n",
      "0.0\n",
      "0.0\n",
      "0.0\n",
      "0.0\n",
      "0.0\n",
      "0.0\n",
      "0.0\n",
      "0.0\n",
      "0.0\n",
      "0.0\n",
      "0.0\n",
      "0.0\n",
      "0.0\n",
      "0.0\n",
      "0.0\n",
      "0.0\n",
      "0.0\n",
      "0.0\n",
      "0.0\n",
      "0.0\n",
      "0.0\n",
      "0.0\n",
      "0.0\n",
      "0.0\n",
      "0.0\n",
      "0.0\n",
      "0.0\n",
      "0.0\n",
      "0.0\n",
      "0.0\n",
      "0.0\n",
      "0.0\n",
      "0.0\n",
      "0.0\n",
      "0.0\n",
      "0.0\n",
      "0.0\n",
      "0.0\n",
      "0.0\n",
      "0.0\n",
      "0.0\n",
      "0.0\n",
      "0.0\n",
      "0.0\n",
      "0.0\n",
      "0.0\n",
      "0.0\n",
      "0.0\n",
      "0.0\n",
      "0.0\n",
      "0.0\n",
      "0.0\n",
      "0.0\n",
      "0.0\n",
      "0.0\n",
      "0.0\n",
      "0.0\n",
      "0.0\n",
      "0.0\n",
      "0.0\n",
      "0.0\n",
      "0.0\n",
      "0.0\n",
      "0.0\n",
      "0.0\n",
      "0.0\n",
      "0.0\n",
      "0.0\n",
      "0.0\n",
      "0.0\n",
      "0.0\n",
      "0.0\n",
      "0.0\n",
      "0.0\n",
      "0.0\n",
      "0.0\n",
      "0.0\n",
      "0.0\n",
      "0.0\n",
      "0.0\n",
      "0.0\n",
      "0.0\n",
      "0.0\n",
      "0.0\n",
      "0.0\n",
      "0.0\n",
      "0.0\n",
      "0.0\n",
      "0.0\n",
      "0.0\n",
      "0.0\n",
      "0.0\n",
      "0.0\n",
      "0.0\n",
      "0.0\n",
      "0.0\n",
      "0.0\n",
      "0.0\n",
      "0.0\n",
      "0.0\n",
      "0.0\n",
      "0.0\n",
      "0.0\n",
      "0.0\n",
      "0.0\n",
      "0.0\n",
      "0.0\n",
      "0.0\n",
      "0.0\n",
      "0.0\n",
      "0.0\n",
      "0.0\n",
      "0.0\n",
      "0.0\n",
      "0.0\n",
      "0.0\n",
      "0.0\n",
      "0.0\n",
      "0.0\n",
      "0.0\n",
      "0.0\n",
      "0.0\n",
      "0.0\n",
      "0.0\n",
      "0.0\n",
      "0.0\n",
      "0.0\n",
      "0.0\n",
      "0.0\n",
      "0.0\n",
      "0.0\n",
      "0.0\n",
      "0.0\n",
      "0.0\n",
      "0.0\n",
      "0.0\n",
      "0.0\n",
      "0.0\n",
      "0.0\n",
      "0.0\n",
      "0.0\n",
      "0.0\n",
      "0.0\n",
      "0.0\n",
      "0.0\n",
      "0.0\n",
      "0.0\n",
      "0.0\n",
      "0.0\n",
      "0.0\n",
      "0.0\n",
      "0.0\n",
      "0.0\n",
      "0.0\n",
      "0.0\n",
      "0.0\n",
      "0.0\n",
      "0.0\n",
      "0.0\n",
      "0.0\n",
      "0.0\n",
      "0.0\n",
      "0.0\n",
      "0.0\n",
      "0.0\n",
      "0.0\n",
      "0.0\n",
      "0.0\n",
      "0.0\n",
      "0.0\n",
      "0.0\n",
      "0.0\n",
      "0.0\n",
      "0.0\n",
      "0.0\n",
      "0.0\n",
      "0.0\n",
      "0.0\n",
      "0.0\n",
      "0.0\n",
      "0.0\n",
      "0.0\n",
      "0.0\n",
      "0.0\n",
      "0.0\n",
      "0.0\n",
      "0.0\n",
      "0.0\n",
      "0.0\n",
      "0.0\n",
      "0.0\n",
      "0.0\n",
      "0.0\n",
      "0.0\n",
      "0.0\n",
      "0.0\n",
      "0.0\n",
      "0.0\n",
      "0.0\n",
      "0.0\n",
      "0.0\n",
      "0.0\n",
      "0.0\n",
      "0.0\n",
      "0.0\n",
      "0.0\n",
      "0.0\n",
      "0.0\n",
      "0.0\n",
      "0.0\n",
      "0.0\n",
      "0.0\n",
      "0.0\n",
      "0.0\n",
      "0.0\n",
      "0.0\n",
      "0.0\n",
      "0.0\n",
      "0.0\n",
      "0.0\n",
      "0.0\n",
      "0.0\n",
      "0.0\n",
      "0.0\n",
      "0.0\n",
      "0.0\n",
      "0.0\n",
      "0.0\n",
      "0.0\n",
      "0.0\n",
      "0.0\n",
      "0.0\n",
      "0.0\n",
      "0.0\n",
      "0.0\n",
      "0.0\n",
      "0.0\n",
      "0.0\n",
      "0.0\n",
      "0.0\n",
      "0.0\n",
      "0.0\n",
      "0.0\n",
      "0.0\n",
      "0.0\n",
      "0.0\n",
      "0.0\n",
      "0.0\n",
      "0.0\n",
      "0.0\n",
      "0.0\n",
      "0.0\n",
      "0.0\n",
      "0.0\n",
      "0.0\n",
      "0.0\n",
      "0.0\n",
      "0.0\n",
      "0.0\n",
      "0.0\n",
      "0.0\n",
      "0.0\n",
      "0.0\n",
      "0.0\n",
      "0.0\n",
      "0.0\n",
      "0.0\n",
      "0.0\n",
      "0.0\n",
      "0.0\n"
     ]
    },
    {
     "ename": "KeyboardInterrupt",
     "evalue": "",
     "output_type": "error",
     "traceback": [
      "\u001b[1;31m---------------------------------------------------------------------------\u001b[0m",
      "\u001b[1;31mKeyboardInterrupt\u001b[0m                         Traceback (most recent call last)",
      "Cell \u001b[1;32mIn[54], line 34\u001b[0m\n\u001b[0;32m     31\u001b[0m     \u001b[38;5;28;01mreturn\u001b[39;00m O_j\n\u001b[0;32m     33\u001b[0m \u001b[38;5;66;03m# Compute memorization scores\u001b[39;00m\n\u001b[1;32m---> 34\u001b[0m O_j_scores \u001b[38;5;241m=\u001b[39m \u001b[43mcompute_memorization_score\u001b[49m\u001b[43m(\u001b[49m\u001b[43mtrain_feat_D\u001b[49m\u001b[43m,\u001b[49m\u001b[43m \u001b[49m\u001b[43mgen_feat_D\u001b[49m\u001b[43m)\u001b[49m\n",
      "Cell \u001b[1;32mIn[54], line 28\u001b[0m, in \u001b[0;36mcompute_memorization_score\u001b[1;34m(train_feat_D, gen_feat_D, sigma_sq)\u001b[0m\n\u001b[0;32m     26\u001b[0m \u001b[38;5;66;03m# Compute O_j for each generated sample\u001b[39;00m\n\u001b[0;32m     27\u001b[0m \u001b[38;5;28;01mfor\u001b[39;00m j, gen_sample \u001b[38;5;129;01min\u001b[39;00m \u001b[38;5;28menumerate\u001b[39m(gen_feat_D):\n\u001b[1;32m---> 28\u001b[0m     likelihoods \u001b[38;5;241m=\u001b[39m \u001b[43mmultivariate_normal\u001b[49m\u001b[38;5;241;43m.\u001b[39;49m\u001b[43mpdf\u001b[49m\u001b[43m(\u001b[49m\u001b[43mtrain_feat_D\u001b[49m\u001b[43m,\u001b[49m\u001b[43m \u001b[49m\u001b[43mmean\u001b[49m\u001b[38;5;241;43m=\u001b[39;49m\u001b[43mgen_sample\u001b[49m\u001b[43m,\u001b[49m\u001b[43m \u001b[49m\u001b[43mcov\u001b[49m\u001b[38;5;241;43m=\u001b[39;49m\u001b[43msigma_sq\u001b[49m\u001b[43m \u001b[49m\u001b[38;5;241;43m*\u001b[39;49m\u001b[43m \u001b[49m\u001b[43mnp\u001b[49m\u001b[38;5;241;43m.\u001b[39;49m\u001b[43meye\u001b[49m\u001b[43m(\u001b[49m\u001b[38;5;28;43mlen\u001b[39;49m\u001b[43m(\u001b[49m\u001b[43mgen_sample\u001b[49m\u001b[43m)\u001b[49m\u001b[43m)\u001b[49m\u001b[43m)\u001b[49m\n\u001b[0;32m     29\u001b[0m     O_j[j] \u001b[38;5;241m=\u001b[39m np\u001b[38;5;241m.\u001b[39mmax(likelihoods)  \u001b[38;5;66;03m# Store max likelihood\u001b[39;00m\n\u001b[0;32m     30\u001b[0m     \u001b[38;5;28mprint\u001b[39m(O_j[j])\n",
      "File \u001b[1;32mc:\\Users\\oumni\\PycharmProjects\\ift6164\\FLD_MAIN\\fld\\venv\\Lib\\site-packages\\scipy\\stats\\_multivariate.py:591\u001b[0m, in \u001b[0;36mmultivariate_normal_gen.pdf\u001b[1;34m(self, x, mean, cov, allow_singular)\u001b[0m\n\u001b[0;32m    589\u001b[0m dim, mean, cov_object \u001b[38;5;241m=\u001b[39m params\n\u001b[0;32m    590\u001b[0m x \u001b[38;5;241m=\u001b[39m \u001b[38;5;28mself\u001b[39m\u001b[38;5;241m.\u001b[39m_process_quantiles(x, dim)\n\u001b[1;32m--> 591\u001b[0m out \u001b[38;5;241m=\u001b[39m np\u001b[38;5;241m.\u001b[39mexp(\u001b[38;5;28;43mself\u001b[39;49m\u001b[38;5;241;43m.\u001b[39;49m\u001b[43m_logpdf\u001b[49m\u001b[43m(\u001b[49m\u001b[43mx\u001b[49m\u001b[43m,\u001b[49m\u001b[43m \u001b[49m\u001b[43mmean\u001b[49m\u001b[43m,\u001b[49m\u001b[43m \u001b[49m\u001b[43mcov_object\u001b[49m\u001b[43m)\u001b[49m)\n\u001b[0;32m    592\u001b[0m \u001b[38;5;28;01mif\u001b[39;00m np\u001b[38;5;241m.\u001b[39many(cov_object\u001b[38;5;241m.\u001b[39mrank \u001b[38;5;241m<\u001b[39m dim):\n\u001b[0;32m    593\u001b[0m     out_of_bounds \u001b[38;5;241m=\u001b[39m \u001b[38;5;241m~\u001b[39mcov_object\u001b[38;5;241m.\u001b[39m_support_mask(x\u001b[38;5;241m-\u001b[39mmean)\n",
      "File \u001b[1;32mc:\\Users\\oumni\\PycharmProjects\\ift6164\\FLD_MAIN\\fld\\venv\\Lib\\site-packages\\scipy\\stats\\_multivariate.py:538\u001b[0m, in \u001b[0;36mmultivariate_normal_gen._logpdf\u001b[1;34m(self, x, mean, cov_object)\u001b[0m\n\u001b[0;32m    536\u001b[0m     log_det_cov \u001b[38;5;241m=\u001b[39m log_det_cov[\u001b[38;5;241m.\u001b[39m\u001b[38;5;241m.\u001b[39m\u001b[38;5;241m.\u001b[39m, np\u001b[38;5;241m.\u001b[39mnewaxis]\n\u001b[0;32m    537\u001b[0m     rank \u001b[38;5;241m=\u001b[39m rank[\u001b[38;5;241m.\u001b[39m\u001b[38;5;241m.\u001b[39m\u001b[38;5;241m.\u001b[39m, np\u001b[38;5;241m.\u001b[39mnewaxis]\n\u001b[1;32m--> 538\u001b[0m maha \u001b[38;5;241m=\u001b[39m np\u001b[38;5;241m.\u001b[39msum(\u001b[43mnp\u001b[49m\u001b[38;5;241;43m.\u001b[39;49m\u001b[43msquare\u001b[49m\u001b[43m(\u001b[49m\u001b[43mcov_object\u001b[49m\u001b[38;5;241;43m.\u001b[39;49m\u001b[43mwhiten\u001b[49m\u001b[43m(\u001b[49m\u001b[43mdev\u001b[49m\u001b[43m)\u001b[49m\u001b[43m)\u001b[49m, axis\u001b[38;5;241m=\u001b[39m\u001b[38;5;241m-\u001b[39m\u001b[38;5;241m1\u001b[39m)\n\u001b[0;32m    539\u001b[0m \u001b[38;5;28;01mreturn\u001b[39;00m \u001b[38;5;241m-\u001b[39m\u001b[38;5;241m0.5\u001b[39m \u001b[38;5;241m*\u001b[39m (rank \u001b[38;5;241m*\u001b[39m _LOG_2PI \u001b[38;5;241m+\u001b[39m log_det_cov \u001b[38;5;241m+\u001b[39m maha)\n",
      "\u001b[1;31mKeyboardInterrupt\u001b[0m: "
     ]
    }
   ],
   "source": [
    "import numpy as np\n",
    "import torch\n",
    "from scipy.stats import multivariate_normal\n",
    "\n",
    "def compute_memorization_score(train_feat_D, gen_feat_D, sigma_sq=0.01):\n",
    "    \"\"\"\n",
    "    Computes memorization score O_j for each generated sample.\n",
    "\n",
    "    Parameters:\n",
    "        train_feat_D (numpy.ndarray or torch.Tensor): Training set features.\n",
    "        gen_feat_D (numpy.ndarray or torch.Tensor): Generated set features.\n",
    "        sigma_sq (float): Variance term for Gaussian likelihood computation.\n",
    "\n",
    "    Returns:\n",
    "        numpy.ndarray: Memorization scores (O_j) for each generated sample.\n",
    "    \"\"\"\n",
    "\n",
    "    O_j = np.zeros(len(gen_feat_D))  # Pre-allocate array for scores\n",
    "\n",
    "    # Compute O_j for each generated sample\n",
    "    for j, gen_sample in enumerate(gen_feat_D):\n",
    "        likelihoods = multivariate_normal.pdf(train_feat_D, mean=gen_sample, cov=sigma_sq * np.eye(len(gen_sample)))\n",
    "        O_j[j] = np.max(likelihoods)  # Store max likelihood\n",
    "        print(O_j[j])\n",
    "    return O_j\n",
    "\n",
    "# Compute memorization scores\n",
    "O_j_scores = compute_memorization_score(train_feat_D, gen_feat_D)\n"
   ]
  }
 ],
 "metadata": {
  "kernelspec": {
   "display_name": "venv",
   "language": "python",
   "name": "python3"
  },
  "language_info": {
   "codemirror_mode": {
    "name": "ipython",
    "version": 3
   },
   "file_extension": ".py",
   "mimetype": "text/x-python",
   "name": "python",
   "nbconvert_exporter": "python",
   "pygments_lexer": "ipython3",
   "version": "3.12.3"
  }
 },
 "nbformat": 4,
 "nbformat_minor": 2
}
