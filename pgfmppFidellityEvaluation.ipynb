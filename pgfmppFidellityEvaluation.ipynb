{
 "cells": [
  {
   "cell_type": "code",
   "execution_count": 1,
   "metadata": {},
   "outputs": [],
   "source": [
    "import torch\n",
    "import torch.nn as nn\n",
    "import torchvision\n",
    "from fld.features.InceptionFeatureExtractor import InceptionFeatureExtractor\n",
    "from fld.metrics.FLD import FLD\n",
    "from fld.metrics.FID import FID\n",
    "import torchvision.transforms as transforms\n",
    "from torchvision.datasets import ImageFolder\n",
    "import matplotlib.pyplot as plt\n",
    "import seaborn as sns\n",
    "import pandas as pd\n",
    "from PIL import Image\n",
    "from torch.utils.data import Dataset\n",
    "\n",
    "from fld.features.DINOv2FeatureExtractor import DINOv2FeatureExtractor\n",
    "from fld.features.InceptionFeatureExtractor import InceptionFeatureExtractor\n",
    "from fld.features.CLIPFeatureExtractor import CLIPFeatureExtractor\n",
    "from fld.metrics.FLD import FLD\n",
    "from fld.metrics.FID import FID"
   ]
  },
  {
   "cell_type": "code",
   "execution_count": 2,
   "metadata": {},
   "outputs": [
    {
     "name": "stdout",
     "output_type": "stream",
     "text": [
      "True\n",
      "12.1\n",
      "1\n",
      "NVIDIA GeForce RTX 3060 Laptop GPU\n"
     ]
    }
   ],
   "source": [
    "import torch\n",
    "print(torch.cuda.is_available())  #  return True if CUDA is enabled\n",
    "print(torch.version.cuda)  #  show the CUDA version PyTorch was compiled with\n",
    "print(torch.cuda.device_count())  # Number of available GPUs\n",
    "print(torch.cuda.get_device_name(0))  # Name of your GPU (if available)\n"
   ]
  },
  {
   "cell_type": "code",
   "execution_count": 3,
   "metadata": {},
   "outputs": [
    {
     "name": "stdout",
     "output_type": "stream",
     "text": [
      "Files already downloaded and verified\n",
      "Files already downloaded and verified\n"
     ]
    }
   ],
   "source": [
    "# ----------------------\n",
    "# Step 4: Load Datasets (CIFAR-10)\n",
    "# ----------------------\n",
    "\n",
    "train_dataset = torchvision.datasets.CIFAR10(root=r\"D:\\ift6164\\data\", train=True, download=True)\n",
    "train_dataset.name = \"CIFAR10_train\"  # Dataset needs a name to cache features\n",
    "\n",
    "test_dataset = torchvision.datasets.CIFAR10(root=r\"D:\\ift6164\\data\", train=False, download=True)\n",
    "test_dataset.name = \"CIFAR10_test\"\n"
   ]
  },
  {
   "cell_type": "code",
   "execution_count": null,
   "metadata": {},
   "outputs": [],
   "source": [
    "# ----------------------\n",
    "# Step 4: Load GENERATED Datasets (CIFAR)\n",
    "# ----------------------\n",
    "\n",
    "# Path to generated CIFAR-10 images\n",
    "generated_images_path = \"D:/ift6164/gen_data/ckpt_pgfmpp\"\n",
    "# Load generated CIFAR-10 dataset \n",
    "generated_dataset = ImageFolder(root=generated_images_path)\n",
    "generated_dataset.name = \"Generated_pgfmpp_CIFAR10\""
   ]
  },
  {
   "cell_type": "code",
   "execution_count": 5,
   "metadata": {},
   "outputs": [
    {
     "data": {
      "text/plain": [
       "10089"
      ]
     },
     "execution_count": 5,
     "metadata": {},
     "output_type": "execute_result"
    }
   ],
   "source": [
    "len(generated_dataset)"
   ]
  },
  {
   "cell_type": "code",
   "execution_count": 6,
   "metadata": {},
   "outputs": [
    {
     "name": "stderr",
     "output_type": "stream",
     "text": [
      "Using cache found in C:\\Users\\oumni/.cache\\torch\\hub\\facebookresearch_dinov2_main\n",
      "C:\\Users\\oumni/.cache\\torch\\hub\\facebookresearch_dinov2_main\\dinov2\\layers\\swiglu_ffn.py:51: UserWarning: xFormers is not available (SwiGLU)\n",
      "  warnings.warn(\"xFormers is not available (SwiGLU)\")\n",
      "C:\\Users\\oumni/.cache\\torch\\hub\\facebookresearch_dinov2_main\\dinov2\\layers\\attention.py:33: UserWarning: xFormers is not available (Attention)\n",
      "  warnings.warn(\"xFormers is not available (Attention)\")\n",
      "C:\\Users\\oumni/.cache\\torch\\hub\\facebookresearch_dinov2_main\\dinov2\\layers\\block.py:40: UserWarning: xFormers is not available (Block)\n",
      "  warnings.warn(\"xFormers is not available (Block)\")\n"
     ]
    }
   ],
   "source": [
    "feature_extractor_D = DINOv2FeatureExtractor()"
   ]
  },
  {
   "cell_type": "code",
   "execution_count": 54,
   "metadata": {},
   "outputs": [],
   "source": [
    "## define minor transformations\n",
    "def apply_gaussian_blur(img):\n",
    "    \"\"\"Apply a minor Gaussian Blur\"\"\"\n",
    "    return transforms.GaussianBlur(kernel_size=1, sigma=(0.01, 0.02))(img)\n",
    "\n",
    "def apply_posterize(img):\n",
    "    \"\"\"Reduce color depth to simulate posterization\"\"\"\n",
    "    return transforms.functional.posterize(img, bits=7)\n",
    "\n",
    "def apply_jpeg_compression(img, quality=98):\n",
    "    \"\"\"Save and reload image with JPEG compression\"\"\"\n",
    "    img_pil = img.convert(\"RGB\")  # Convert to RGB mode if needed\n",
    "    img_pil.save(\"temp.jpg\", \"JPEG\", quality=quality, optimize=True)\n",
    "    return Image.open(\"temp.jpg\").convert(\"RGB\")\n",
    "\n",
    "\n",
    "## define  major transformations\n",
    "def apply_color_distortion(img):\n",
    "    \"\"\"Randomly adjust brightness, contrast, saturation, and hue\"\"\"\n",
    "    return transforms.ColorJitter(brightness=0.25, contrast=0.25, saturation=0.25, hue=0.1)(img)\n",
    "\n",
    "def apply_center_crop(img):\n",
    "    \"\"\"Crop the center region of the image\"\"\"\n",
    "    #return transforms.CenterCrop(size=(img.size[0] // 2, img.size[1] // 2))(img)\n",
    "    return transforms.CenterCrop(size=(img.size[0] * 3 // 4, img.size[1] * 3 // 4))(img)\n",
    "\n",
    "def apply_elastic_transform(img):\n",
    "    \"\"\"Apply elastic deformation (requires torchvision >= 0.11.0)\"\"\"\n",
    "    return transforms.ElasticTransform(alpha=25.0)(img)\n",
    "\n",
    "def apply_heavy_blur(img):\n",
    "    \"\"\"Apply a strong Gaussian blur\"\"\"\n",
    "    return transforms.GaussianBlur(kernel_size=7, sigma=(2.5, 5.0))(img)\n",
    "\n",
    "# Define the transformation dictionary\n",
    "minor_transforms = {\n",
    "    \"Gaussian Blur\": apply_gaussian_blur,\n",
    "    \"Posterize\": apply_posterize,\n",
    "    \"JPG Compression\": apply_jpeg_compression\n",
    "}\n",
    "\n",
    "major_transforms = {\n",
    "    \"Color Distortion\": apply_color_distortion,\n",
    "    \"Center Crop\": apply_center_crop,\n",
    "    \"Elastic Transform\": apply_elastic_transform,\n",
    "    \"Heavy Blur\": apply_heavy_blur\n",
    "}\n",
    "\n",
    "\n",
    "# Function to apply transformations to a dataset\n",
    "def apply_transformations(dataset, transform_dict):\n",
    "    transformed_datasets = {}\n",
    "    for name, transform in transform_dict.items():\n",
    "        #transformed_datasets[name] = [transform(img) for img in dataset]\n",
    "        transformed_datasets[name] = [transform(img[0] if isinstance(img, tuple) else img) for img in dataset]\n",
    "    return transformed_datasets\n",
    "\n"
   ]
  },
  {
   "cell_type": "code",
   "execution_count": null,
   "metadata": {},
   "outputs": [],
   "source": [
    "# Apply transformations to CIFAR-10 test dataset\n",
    "minor_transformed_images = apply_transformations(generated_dataset, minor_transforms)"
   ]
  },
  {
   "cell_type": "code",
   "execution_count": 55,
   "metadata": {},
   "outputs": [],
   "source": [
    "major_transformed_images = apply_transformations(generated_dataset, major_transforms)"
   ]
  },
  {
   "cell_type": "code",
   "execution_count": 9,
   "metadata": {},
   "outputs": [
    {
     "name": "stderr",
     "output_type": "stream",
     "text": [
      "                                                 \r"
     ]
    }
   ],
   "source": [
    "train_feat_D = feature_extractor_D.get_dataset_features(train_dataset)"
   ]
  },
  {
   "cell_type": "code",
   "execution_count": 10,
   "metadata": {},
   "outputs": [
    {
     "name": "stderr",
     "output_type": "stream",
     "text": [
      "                                               \r"
     ]
    }
   ],
   "source": [
    "test_feat_D = feature_extractor_D.get_dataset_features(test_dataset)"
   ]
  },
  {
   "cell_type": "code",
   "execution_count": 11,
   "metadata": {},
   "outputs": [
    {
     "name": "stderr",
     "output_type": "stream",
     "text": [
      "                                               \r"
     ]
    }
   ],
   "source": [
    "gen_feat_D1 = feature_extractor_D.get_dataset_features(generated_dataset) "
   ]
  },
  {
   "cell_type": "code",
   "execution_count": 12,
   "metadata": {},
   "outputs": [
    {
     "name": "stderr",
     "output_type": "stream",
     "text": [
      "                                               \r"
     ]
    }
   ],
   "source": [
    "gen_feat_D2 = feature_extractor_D.get_dir_features(generated_images_path,extension=\"png\") "
   ]
  },
  {
   "cell_type": "code",
   "execution_count": 13,
   "metadata": {},
   "outputs": [],
   "source": [
    "fld_metric = FLD()\n",
    "fid_metric = FID()"
   ]
  },
  {
   "cell_type": "code",
   "execution_count": 14,
   "metadata": {},
   "outputs": [],
   "source": [
    "fid_original_D1 = fid_metric.compute_metric(train_feat_D, None, gen_feat_D1)"
   ]
  },
  {
   "cell_type": "code",
   "execution_count": 15,
   "metadata": {},
   "outputs": [
    {
     "name": "stderr",
     "output_type": "stream",
     "text": [
      "                                               \r"
     ]
    }
   ],
   "source": [
    "fld_original_D1 = fld_metric.compute_metric(train_feat_D, test_feat_D, gen_feat_D1)"
   ]
  },
  {
   "cell_type": "code",
   "execution_count": 16,
   "metadata": {},
   "outputs": [],
   "source": [
    "fid_original_D2 = fid_metric.compute_metric(train_feat_D, None, gen_feat_D2)"
   ]
  },
  {
   "cell_type": "code",
   "execution_count": 17,
   "metadata": {},
   "outputs": [
    {
     "name": "stderr",
     "output_type": "stream",
     "text": [
      "                                               \r"
     ]
    }
   ],
   "source": [
    "fld_original_D2 = fld_metric.compute_metric(train_feat_D, test_feat_D, gen_feat_D2)"
   ]
  },
  {
   "cell_type": "code",
   "execution_count": 19,
   "metadata": {},
   "outputs": [
    {
     "name": "stdout",
     "output_type": "stream",
     "text": [
      "113.96717453247811\n",
      "113.96722990819808\n",
      "----\n",
      "4.7077178955078125\n",
      "4.766225814819336\n"
     ]
    }
   ],
   "source": [
    "print(fid_original_D1)\n",
    "print(fid_original_D2)\n",
    "\n",
    "print(\"----\")\n",
    "\n",
    "print(fld_original_D1)\n",
    "print(fld_original_D2)"
   ]
  },
  {
   "cell_type": "code",
   "execution_count": 32,
   "metadata": {},
   "outputs": [],
   "source": [
    "fid_original_D1 = 113.96717453247811\n",
    "fid_original_D2 = 113.96722990819808\n",
    "\n",
    "fld_original_D1 = 4.7077178955078125\n",
    "fld_original_D2 = 4.766225814819336"
   ]
  },
  {
   "cell_type": "code",
   "execution_count": 56,
   "metadata": {},
   "outputs": [],
   "source": [
    "# Minimal dataset wrapper for transformed images\n",
    "class TransformedDataset(Dataset):\n",
    "    def __init__(self, images):\n",
    "        self.images = images  # List of images\n",
    "\n",
    "    def __len__(self):\n",
    "        return len(self.images)\n",
    "\n",
    "    def __getitem__(self, idx):\n",
    "        return self.images[idx], 0  # Dummy label\n",
    "\n",
    "# Extract features for each transformed dataset\n",
    "def extract_features(transformed_datasets):\n",
    "    return {name: feature_extractor_D.get_dataset_features(TransformedDataset(images))\n",
    "            for name, images in transformed_datasets.items()}\n",
    "from torch.utils.data import Dataset, DataLoader\n",
    "from tqdm import tqdm\n",
    "import torch\n",
    "import numpy as np\n",
    "import torchvision.transforms as transforms\n",
    "\n",
    "\n",
    "DINO_INPUT_SIZE = 224\n",
    "\n",
    "# Minimal dataset wrapper for transformed images\n",
    "class TransformedDataset(Dataset):\n",
    "    def __init__(self, images):\n",
    "        self.transform = transforms.Compose([\n",
    "            transforms.Resize((DINO_INPUT_SIZE, DINO_INPUT_SIZE)),  # Resize to match model\n",
    "            transforms.ToTensor()  # Convert to tensor\n",
    "        ])\n",
    "        self.images = [self.transform(img) for img in images]  # Apply transformations\n",
    "\n",
    "    def __len__(self):\n",
    "        return len(self.images)\n",
    "\n",
    "    def __getitem__(self, idx):\n",
    "        return self.images[idx], 0  # Return (image, dummy label) tuple\n",
    "\n",
    "# Function to extract features with batch processing and resizing\n",
    "def extract_features(transformed_datasets, feature_extractor, batch_size=32):\n",
    "    transformed_features = {}\n",
    "\n",
    "    for name, images in transformed_datasets.items():\n",
    "        print(f\"\\n[INFO] Extracting features for: {name} ({len(images)} images)\")\n",
    "\n",
    "        dataset = TransformedDataset(images)  # Convert image list to dataset\n",
    "        dataloader = DataLoader(dataset, batch_size=batch_size, shuffle=False)\n",
    "\n",
    "        features_list = []\n",
    "        \n",
    "        for batch_idx, (img_batch, _) in enumerate(tqdm(dataloader, desc=f\"Processing {name}\", leave=True)):\n",
    "            img_batch = img_batch.to(\"cuda\" if torch.cuda.is_available() else \"cpu\")  # Move to GPU if available\n",
    "            \n",
    "            # Extract features for the batch\n",
    "            batch_features = feature_extractor.get_feature_batch(img_batch)\n",
    "            features_list.append(batch_features.cpu().numpy())\n",
    "\n",
    "            # Print progress every 10 batches\n",
    "            if batch_idx % 10 == 0:\n",
    "                print(f\" - Processed {batch_idx * batch_size}/{len(images)} images for {name}\")\n",
    "\n",
    "        # Combine all batches into a single feature matrix\n",
    "        transformed_features[name] = np.vstack(features_list)\n",
    "\n",
    "    return transformed_features\n",
    "\n"
   ]
  },
  {
   "cell_type": "code",
   "execution_count": 41,
   "metadata": {},
   "outputs": [
    {
     "name": "stdout",
     "output_type": "stream",
     "text": [
      "\n",
      "[INFO] Extracting features for: Gaussian Blur (10089 images)\n"
     ]
    },
    {
     "name": "stderr",
     "output_type": "stream",
     "text": [
      "Processing Gaussian Blur:   0%|          | 1/316 [00:01<06:49,  1.30s/it]"
     ]
    },
    {
     "name": "stdout",
     "output_type": "stream",
     "text": [
      " - Processed 0/10089 images for Gaussian Blur\n"
     ]
    },
    {
     "name": "stderr",
     "output_type": "stream",
     "text": [
      "Processing Gaussian Blur:   3%|▎         | 11/316 [00:07<02:58,  1.71it/s]"
     ]
    },
    {
     "name": "stdout",
     "output_type": "stream",
     "text": [
      " - Processed 320/10089 images for Gaussian Blur\n"
     ]
    },
    {
     "name": "stderr",
     "output_type": "stream",
     "text": [
      "Processing Gaussian Blur:   7%|▋         | 21/316 [00:13<02:56,  1.68it/s]"
     ]
    },
    {
     "name": "stdout",
     "output_type": "stream",
     "text": [
      " - Processed 640/10089 images for Gaussian Blur\n"
     ]
    },
    {
     "name": "stderr",
     "output_type": "stream",
     "text": [
      "Processing Gaussian Blur:  10%|▉         | 31/316 [00:18<02:48,  1.69it/s]"
     ]
    },
    {
     "name": "stdout",
     "output_type": "stream",
     "text": [
      " - Processed 960/10089 images for Gaussian Blur\n"
     ]
    },
    {
     "name": "stderr",
     "output_type": "stream",
     "text": [
      "Processing Gaussian Blur:  13%|█▎        | 41/316 [00:24<02:41,  1.70it/s]"
     ]
    },
    {
     "name": "stdout",
     "output_type": "stream",
     "text": [
      " - Processed 1280/10089 images for Gaussian Blur\n"
     ]
    },
    {
     "name": "stderr",
     "output_type": "stream",
     "text": [
      "Processing Gaussian Blur:  16%|█▌        | 51/316 [00:30<02:44,  1.61it/s]"
     ]
    },
    {
     "name": "stdout",
     "output_type": "stream",
     "text": [
      " - Processed 1600/10089 images for Gaussian Blur\n"
     ]
    },
    {
     "name": "stderr",
     "output_type": "stream",
     "text": [
      "Processing Gaussian Blur:  19%|█▉        | 61/316 [00:37<03:18,  1.28it/s]"
     ]
    },
    {
     "name": "stdout",
     "output_type": "stream",
     "text": [
      " - Processed 1920/10089 images for Gaussian Blur\n"
     ]
    },
    {
     "name": "stderr",
     "output_type": "stream",
     "text": [
      "Processing Gaussian Blur:  22%|██▏       | 71/316 [00:43<02:22,  1.71it/s]"
     ]
    },
    {
     "name": "stdout",
     "output_type": "stream",
     "text": [
      " - Processed 2240/10089 images for Gaussian Blur\n"
     ]
    },
    {
     "name": "stderr",
     "output_type": "stream",
     "text": [
      "Processing Gaussian Blur:  26%|██▌       | 81/316 [00:49<02:25,  1.62it/s]"
     ]
    },
    {
     "name": "stdout",
     "output_type": "stream",
     "text": [
      " - Processed 2560/10089 images for Gaussian Blur\n"
     ]
    },
    {
     "name": "stderr",
     "output_type": "stream",
     "text": [
      "Processing Gaussian Blur:  29%|██▉       | 91/316 [00:56<02:16,  1.65it/s]"
     ]
    },
    {
     "name": "stdout",
     "output_type": "stream",
     "text": [
      " - Processed 2880/10089 images for Gaussian Blur\n"
     ]
    },
    {
     "name": "stderr",
     "output_type": "stream",
     "text": [
      "Processing Gaussian Blur:  32%|███▏      | 101/316 [01:02<02:22,  1.51it/s]"
     ]
    },
    {
     "name": "stdout",
     "output_type": "stream",
     "text": [
      " - Processed 3200/10089 images for Gaussian Blur\n"
     ]
    },
    {
     "name": "stderr",
     "output_type": "stream",
     "text": [
      "Processing Gaussian Blur:  35%|███▌      | 111/316 [01:08<02:12,  1.55it/s]"
     ]
    },
    {
     "name": "stdout",
     "output_type": "stream",
     "text": [
      " - Processed 3520/10089 images for Gaussian Blur\n"
     ]
    },
    {
     "name": "stderr",
     "output_type": "stream",
     "text": [
      "Processing Gaussian Blur:  38%|███▊      | 121/316 [01:14<02:00,  1.62it/s]"
     ]
    },
    {
     "name": "stdout",
     "output_type": "stream",
     "text": [
      " - Processed 3840/10089 images for Gaussian Blur\n"
     ]
    },
    {
     "name": "stderr",
     "output_type": "stream",
     "text": [
      "Processing Gaussian Blur:  41%|████▏     | 131/316 [01:21<01:57,  1.58it/s]"
     ]
    },
    {
     "name": "stdout",
     "output_type": "stream",
     "text": [
      " - Processed 4160/10089 images for Gaussian Blur\n"
     ]
    },
    {
     "name": "stderr",
     "output_type": "stream",
     "text": [
      "Processing Gaussian Blur:  45%|████▍     | 141/316 [01:27<01:49,  1.60it/s]"
     ]
    },
    {
     "name": "stdout",
     "output_type": "stream",
     "text": [
      " - Processed 4480/10089 images for Gaussian Blur\n"
     ]
    },
    {
     "name": "stderr",
     "output_type": "stream",
     "text": [
      "Processing Gaussian Blur:  48%|████▊     | 151/316 [01:33<01:45,  1.57it/s]"
     ]
    },
    {
     "name": "stdout",
     "output_type": "stream",
     "text": [
      " - Processed 4800/10089 images for Gaussian Blur\n"
     ]
    },
    {
     "name": "stderr",
     "output_type": "stream",
     "text": [
      "Processing Gaussian Blur:  51%|█████     | 161/316 [01:39<01:32,  1.68it/s]"
     ]
    },
    {
     "name": "stdout",
     "output_type": "stream",
     "text": [
      " - Processed 5120/10089 images for Gaussian Blur\n"
     ]
    },
    {
     "name": "stderr",
     "output_type": "stream",
     "text": [
      "Processing Gaussian Blur:  54%|█████▍    | 171/316 [01:45<01:28,  1.64it/s]"
     ]
    },
    {
     "name": "stdout",
     "output_type": "stream",
     "text": [
      " - Processed 5440/10089 images for Gaussian Blur\n"
     ]
    },
    {
     "name": "stderr",
     "output_type": "stream",
     "text": [
      "Processing Gaussian Blur:  57%|█████▋    | 181/316 [01:51<01:24,  1.60it/s]"
     ]
    },
    {
     "name": "stdout",
     "output_type": "stream",
     "text": [
      " - Processed 5760/10089 images for Gaussian Blur\n"
     ]
    },
    {
     "name": "stderr",
     "output_type": "stream",
     "text": [
      "Processing Gaussian Blur:  60%|██████    | 191/316 [01:58<01:18,  1.59it/s]"
     ]
    },
    {
     "name": "stdout",
     "output_type": "stream",
     "text": [
      " - Processed 6080/10089 images for Gaussian Blur\n"
     ]
    },
    {
     "name": "stderr",
     "output_type": "stream",
     "text": [
      "Processing Gaussian Blur:  64%|██████▎   | 201/316 [02:04<01:07,  1.70it/s]"
     ]
    },
    {
     "name": "stdout",
     "output_type": "stream",
     "text": [
      " - Processed 6400/10089 images for Gaussian Blur\n"
     ]
    },
    {
     "name": "stderr",
     "output_type": "stream",
     "text": [
      "Processing Gaussian Blur:  67%|██████▋   | 211/316 [02:10<01:02,  1.67it/s]"
     ]
    },
    {
     "name": "stdout",
     "output_type": "stream",
     "text": [
      " - Processed 6720/10089 images for Gaussian Blur\n"
     ]
    },
    {
     "name": "stderr",
     "output_type": "stream",
     "text": [
      "Processing Gaussian Blur:  70%|██████▉   | 221/316 [02:15<00:55,  1.71it/s]"
     ]
    },
    {
     "name": "stdout",
     "output_type": "stream",
     "text": [
      " - Processed 7040/10089 images for Gaussian Blur\n"
     ]
    },
    {
     "name": "stderr",
     "output_type": "stream",
     "text": [
      "Processing Gaussian Blur:  73%|███████▎  | 231/316 [02:21<00:48,  1.74it/s]"
     ]
    },
    {
     "name": "stdout",
     "output_type": "stream",
     "text": [
      " - Processed 7360/10089 images for Gaussian Blur\n"
     ]
    },
    {
     "name": "stderr",
     "output_type": "stream",
     "text": [
      "Processing Gaussian Blur:  76%|███████▋  | 241/316 [02:27<00:44,  1.70it/s]"
     ]
    },
    {
     "name": "stdout",
     "output_type": "stream",
     "text": [
      " - Processed 7680/10089 images for Gaussian Blur\n"
     ]
    },
    {
     "name": "stderr",
     "output_type": "stream",
     "text": [
      "Processing Gaussian Blur:  79%|███████▉  | 251/316 [02:33<00:40,  1.61it/s]"
     ]
    },
    {
     "name": "stdout",
     "output_type": "stream",
     "text": [
      " - Processed 8000/10089 images for Gaussian Blur\n"
     ]
    },
    {
     "name": "stderr",
     "output_type": "stream",
     "text": [
      "Processing Gaussian Blur:  83%|████████▎ | 261/316 [02:39<00:28,  1.95it/s]"
     ]
    },
    {
     "name": "stdout",
     "output_type": "stream",
     "text": [
      " - Processed 8320/10089 images for Gaussian Blur\n"
     ]
    },
    {
     "name": "stderr",
     "output_type": "stream",
     "text": [
      "Processing Gaussian Blur:  86%|████████▌ | 271/316 [02:44<00:22,  1.98it/s]"
     ]
    },
    {
     "name": "stdout",
     "output_type": "stream",
     "text": [
      " - Processed 8640/10089 images for Gaussian Blur\n"
     ]
    },
    {
     "name": "stderr",
     "output_type": "stream",
     "text": [
      "Processing Gaussian Blur:  89%|████████▉ | 281/316 [02:50<00:20,  1.75it/s]"
     ]
    },
    {
     "name": "stdout",
     "output_type": "stream",
     "text": [
      " - Processed 8960/10089 images for Gaussian Blur\n"
     ]
    },
    {
     "name": "stderr",
     "output_type": "stream",
     "text": [
      "Processing Gaussian Blur:  92%|█████████▏| 291/316 [02:56<00:13,  1.85it/s]"
     ]
    },
    {
     "name": "stdout",
     "output_type": "stream",
     "text": [
      " - Processed 9280/10089 images for Gaussian Blur\n"
     ]
    },
    {
     "name": "stderr",
     "output_type": "stream",
     "text": [
      "Processing Gaussian Blur:  95%|█████████▌| 301/316 [03:01<00:07,  2.05it/s]"
     ]
    },
    {
     "name": "stdout",
     "output_type": "stream",
     "text": [
      " - Processed 9600/10089 images for Gaussian Blur\n"
     ]
    },
    {
     "name": "stderr",
     "output_type": "stream",
     "text": [
      "Processing Gaussian Blur:  98%|█████████▊| 311/316 [03:05<00:02,  2.11it/s]"
     ]
    },
    {
     "name": "stdout",
     "output_type": "stream",
     "text": [
      " - Processed 9920/10089 images for Gaussian Blur\n"
     ]
    },
    {
     "name": "stderr",
     "output_type": "stream",
     "text": [
      "Processing Gaussian Blur: 100%|██████████| 316/316 [03:07<00:00,  1.68it/s]\n"
     ]
    },
    {
     "name": "stdout",
     "output_type": "stream",
     "text": [
      "\n",
      "[INFO] Extracting features for: Posterize (10089 images)\n"
     ]
    },
    {
     "name": "stderr",
     "output_type": "stream",
     "text": [
      "Processing Posterize:   0%|          | 1/316 [00:00<04:26,  1.18it/s]"
     ]
    },
    {
     "name": "stdout",
     "output_type": "stream",
     "text": [
      " - Processed 0/10089 images for Posterize\n"
     ]
    },
    {
     "name": "stderr",
     "output_type": "stream",
     "text": [
      "Processing Posterize:   3%|▎         | 11/316 [00:05<02:18,  2.20it/s]"
     ]
    },
    {
     "name": "stdout",
     "output_type": "stream",
     "text": [
      " - Processed 320/10089 images for Posterize\n"
     ]
    },
    {
     "name": "stderr",
     "output_type": "stream",
     "text": [
      "Processing Posterize:   7%|▋         | 21/316 [00:09<01:44,  2.81it/s]"
     ]
    },
    {
     "name": "stdout",
     "output_type": "stream",
     "text": [
      " - Processed 640/10089 images for Posterize\n"
     ]
    },
    {
     "name": "stderr",
     "output_type": "stream",
     "text": [
      "Processing Posterize:  10%|▉         | 31/316 [00:12<01:35,  3.00it/s]"
     ]
    },
    {
     "name": "stdout",
     "output_type": "stream",
     "text": [
      " - Processed 960/10089 images for Posterize\n"
     ]
    },
    {
     "name": "stderr",
     "output_type": "stream",
     "text": [
      "Processing Posterize:  13%|█▎        | 41/316 [00:16<01:28,  3.10it/s]"
     ]
    },
    {
     "name": "stdout",
     "output_type": "stream",
     "text": [
      " - Processed 1280/10089 images for Posterize\n"
     ]
    },
    {
     "name": "stderr",
     "output_type": "stream",
     "text": [
      "Processing Posterize:  16%|█▌        | 51/316 [00:21<02:18,  1.91it/s]"
     ]
    },
    {
     "name": "stdout",
     "output_type": "stream",
     "text": [
      " - Processed 1600/10089 images for Posterize\n"
     ]
    },
    {
     "name": "stderr",
     "output_type": "stream",
     "text": [
      "Processing Posterize:  19%|█▉        | 61/316 [00:26<02:27,  1.72it/s]"
     ]
    },
    {
     "name": "stdout",
     "output_type": "stream",
     "text": [
      " - Processed 1920/10089 images for Posterize\n"
     ]
    },
    {
     "name": "stderr",
     "output_type": "stream",
     "text": [
      "Processing Posterize:  22%|██▏       | 71/316 [00:32<02:13,  1.83it/s]"
     ]
    },
    {
     "name": "stdout",
     "output_type": "stream",
     "text": [
      " - Processed 2240/10089 images for Posterize\n"
     ]
    },
    {
     "name": "stderr",
     "output_type": "stream",
     "text": [
      "Processing Posterize:  26%|██▌       | 81/316 [00:37<02:11,  1.79it/s]"
     ]
    },
    {
     "name": "stdout",
     "output_type": "stream",
     "text": [
      " - Processed 2560/10089 images for Posterize\n"
     ]
    },
    {
     "name": "stderr",
     "output_type": "stream",
     "text": [
      "Processing Posterize:  29%|██▉       | 91/316 [00:49<04:30,  1.20s/it]"
     ]
    },
    {
     "name": "stdout",
     "output_type": "stream",
     "text": [
      " - Processed 2880/10089 images for Posterize\n"
     ]
    },
    {
     "name": "stderr",
     "output_type": "stream",
     "text": [
      "Processing Posterize:  32%|███▏      | 101/316 [00:58<02:35,  1.38it/s]"
     ]
    },
    {
     "name": "stdout",
     "output_type": "stream",
     "text": [
      " - Processed 3200/10089 images for Posterize\n"
     ]
    },
    {
     "name": "stderr",
     "output_type": "stream",
     "text": [
      "Processing Posterize:  35%|███▌      | 111/316 [01:03<01:52,  1.83it/s]"
     ]
    },
    {
     "name": "stdout",
     "output_type": "stream",
     "text": [
      " - Processed 3520/10089 images for Posterize\n"
     ]
    },
    {
     "name": "stderr",
     "output_type": "stream",
     "text": [
      "Processing Posterize:  38%|███▊      | 121/316 [01:08<01:36,  2.03it/s]"
     ]
    },
    {
     "name": "stdout",
     "output_type": "stream",
     "text": [
      " - Processed 3840/10089 images for Posterize\n"
     ]
    },
    {
     "name": "stderr",
     "output_type": "stream",
     "text": [
      "Processing Posterize:  41%|████▏     | 131/316 [01:15<03:15,  1.06s/it]"
     ]
    },
    {
     "name": "stdout",
     "output_type": "stream",
     "text": [
      " - Processed 4160/10089 images for Posterize\n"
     ]
    },
    {
     "name": "stderr",
     "output_type": "stream",
     "text": [
      "Processing Posterize:  45%|████▍     | 141/316 [01:22<01:48,  1.61it/s]"
     ]
    },
    {
     "name": "stdout",
     "output_type": "stream",
     "text": [
      " - Processed 4480/10089 images for Posterize\n"
     ]
    },
    {
     "name": "stderr",
     "output_type": "stream",
     "text": [
      "Processing Posterize:  48%|████▊     | 151/316 [01:28<02:03,  1.34it/s]"
     ]
    },
    {
     "name": "stdout",
     "output_type": "stream",
     "text": [
      " - Processed 4800/10089 images for Posterize\n"
     ]
    },
    {
     "name": "stderr",
     "output_type": "stream",
     "text": [
      "Processing Posterize:  51%|█████     | 161/316 [01:34<01:24,  1.83it/s]"
     ]
    },
    {
     "name": "stdout",
     "output_type": "stream",
     "text": [
      " - Processed 5120/10089 images for Posterize\n"
     ]
    },
    {
     "name": "stderr",
     "output_type": "stream",
     "text": [
      "Processing Posterize:  54%|█████▍    | 171/316 [01:40<01:19,  1.83it/s]"
     ]
    },
    {
     "name": "stdout",
     "output_type": "stream",
     "text": [
      " - Processed 5440/10089 images for Posterize\n"
     ]
    },
    {
     "name": "stderr",
     "output_type": "stream",
     "text": [
      "Processing Posterize:  57%|█████▋    | 181/316 [01:47<01:45,  1.28it/s]"
     ]
    },
    {
     "name": "stdout",
     "output_type": "stream",
     "text": [
      " - Processed 5760/10089 images for Posterize\n"
     ]
    },
    {
     "name": "stderr",
     "output_type": "stream",
     "text": [
      "Processing Posterize:  60%|██████    | 191/316 [01:53<01:08,  1.82it/s]"
     ]
    },
    {
     "name": "stdout",
     "output_type": "stream",
     "text": [
      " - Processed 6080/10089 images for Posterize\n"
     ]
    },
    {
     "name": "stderr",
     "output_type": "stream",
     "text": [
      "Processing Posterize:  64%|██████▎   | 201/316 [02:00<01:38,  1.17it/s]"
     ]
    },
    {
     "name": "stdout",
     "output_type": "stream",
     "text": [
      " - Processed 6400/10089 images for Posterize\n"
     ]
    },
    {
     "name": "stderr",
     "output_type": "stream",
     "text": [
      "Processing Posterize:  67%|██████▋   | 211/316 [02:19<02:52,  1.64s/it]"
     ]
    },
    {
     "name": "stdout",
     "output_type": "stream",
     "text": [
      " - Processed 6720/10089 images for Posterize\n"
     ]
    },
    {
     "name": "stderr",
     "output_type": "stream",
     "text": [
      "Processing Posterize:  70%|██████▉   | 221/316 [02:24<00:53,  1.76it/s]"
     ]
    },
    {
     "name": "stdout",
     "output_type": "stream",
     "text": [
      " - Processed 7040/10089 images for Posterize\n"
     ]
    },
    {
     "name": "stderr",
     "output_type": "stream",
     "text": [
      "Processing Posterize:  73%|███████▎  | 231/316 [02:29<00:44,  1.89it/s]"
     ]
    },
    {
     "name": "stdout",
     "output_type": "stream",
     "text": [
      " - Processed 7360/10089 images for Posterize\n"
     ]
    },
    {
     "name": "stderr",
     "output_type": "stream",
     "text": [
      "Processing Posterize:  76%|███████▋  | 241/316 [02:35<00:39,  1.92it/s]"
     ]
    },
    {
     "name": "stdout",
     "output_type": "stream",
     "text": [
      " - Processed 7680/10089 images for Posterize\n"
     ]
    },
    {
     "name": "stderr",
     "output_type": "stream",
     "text": [
      "Processing Posterize:  79%|███████▉  | 251/316 [02:40<00:35,  1.83it/s]"
     ]
    },
    {
     "name": "stdout",
     "output_type": "stream",
     "text": [
      " - Processed 8000/10089 images for Posterize\n"
     ]
    },
    {
     "name": "stderr",
     "output_type": "stream",
     "text": [
      "Processing Posterize:  83%|████████▎ | 261/316 [02:45<00:30,  1.80it/s]"
     ]
    },
    {
     "name": "stdout",
     "output_type": "stream",
     "text": [
      " - Processed 8320/10089 images for Posterize\n"
     ]
    },
    {
     "name": "stderr",
     "output_type": "stream",
     "text": [
      "Processing Posterize:  86%|████████▌ | 271/316 [02:51<00:25,  1.80it/s]"
     ]
    },
    {
     "name": "stdout",
     "output_type": "stream",
     "text": [
      " - Processed 8640/10089 images for Posterize\n"
     ]
    },
    {
     "name": "stderr",
     "output_type": "stream",
     "text": [
      "Processing Posterize:  89%|████████▉ | 281/316 [02:57<00:19,  1.80it/s]"
     ]
    },
    {
     "name": "stdout",
     "output_type": "stream",
     "text": [
      " - Processed 8960/10089 images for Posterize\n"
     ]
    },
    {
     "name": "stderr",
     "output_type": "stream",
     "text": [
      "Processing Posterize:  92%|█████████▏| 291/316 [03:02<00:13,  1.81it/s]"
     ]
    },
    {
     "name": "stdout",
     "output_type": "stream",
     "text": [
      " - Processed 9280/10089 images for Posterize\n"
     ]
    },
    {
     "name": "stderr",
     "output_type": "stream",
     "text": [
      "Processing Posterize:  95%|█████████▌| 301/316 [03:08<00:08,  1.79it/s]"
     ]
    },
    {
     "name": "stdout",
     "output_type": "stream",
     "text": [
      " - Processed 9600/10089 images for Posterize\n"
     ]
    },
    {
     "name": "stderr",
     "output_type": "stream",
     "text": [
      "Processing Posterize:  98%|█████████▊| 311/316 [03:13<00:02,  1.80it/s]"
     ]
    },
    {
     "name": "stdout",
     "output_type": "stream",
     "text": [
      " - Processed 9920/10089 images for Posterize\n"
     ]
    },
    {
     "name": "stderr",
     "output_type": "stream",
     "text": [
      "Processing Posterize: 100%|██████████| 316/316 [03:16<00:00,  1.61it/s]\n"
     ]
    },
    {
     "name": "stdout",
     "output_type": "stream",
     "text": [
      "\n",
      "[INFO] Extracting features for: JPG Compression (10089 images)\n"
     ]
    },
    {
     "name": "stderr",
     "output_type": "stream",
     "text": [
      "Processing JPG Compression:   0%|          | 1/316 [00:01<06:00,  1.15s/it]"
     ]
    },
    {
     "name": "stdout",
     "output_type": "stream",
     "text": [
      " - Processed 0/10089 images for JPG Compression\n"
     ]
    },
    {
     "name": "stderr",
     "output_type": "stream",
     "text": [
      "Processing JPG Compression:   3%|▎         | 11/316 [00:10<03:21,  1.52it/s]"
     ]
    },
    {
     "name": "stdout",
     "output_type": "stream",
     "text": [
      " - Processed 320/10089 images for JPG Compression\n"
     ]
    },
    {
     "name": "stderr",
     "output_type": "stream",
     "text": [
      "Processing JPG Compression:   7%|▋         | 21/316 [00:15<02:23,  2.05it/s]"
     ]
    },
    {
     "name": "stdout",
     "output_type": "stream",
     "text": [
      " - Processed 640/10089 images for JPG Compression\n"
     ]
    },
    {
     "name": "stderr",
     "output_type": "stream",
     "text": [
      "Processing JPG Compression:  10%|▉         | 31/316 [00:20<01:59,  2.38it/s]"
     ]
    },
    {
     "name": "stdout",
     "output_type": "stream",
     "text": [
      " - Processed 960/10089 images for JPG Compression\n"
     ]
    },
    {
     "name": "stderr",
     "output_type": "stream",
     "text": [
      "Processing JPG Compression:  13%|█▎        | 41/316 [00:23<01:40,  2.73it/s]"
     ]
    },
    {
     "name": "stdout",
     "output_type": "stream",
     "text": [
      " - Processed 1280/10089 images for JPG Compression\n"
     ]
    },
    {
     "name": "stderr",
     "output_type": "stream",
     "text": [
      "Processing JPG Compression:  16%|█▌        | 51/316 [00:28<02:26,  1.81it/s]"
     ]
    },
    {
     "name": "stdout",
     "output_type": "stream",
     "text": [
      " - Processed 1600/10089 images for JPG Compression\n"
     ]
    },
    {
     "name": "stderr",
     "output_type": "stream",
     "text": [
      "Processing JPG Compression:  19%|█▉        | 61/316 [00:34<02:00,  2.12it/s]"
     ]
    },
    {
     "name": "stdout",
     "output_type": "stream",
     "text": [
      " - Processed 1920/10089 images for JPG Compression\n"
     ]
    },
    {
     "name": "stderr",
     "output_type": "stream",
     "text": [
      "Processing JPG Compression:  22%|██▏       | 71/316 [00:38<01:40,  2.44it/s]"
     ]
    },
    {
     "name": "stdout",
     "output_type": "stream",
     "text": [
      " - Processed 2240/10089 images for JPG Compression\n"
     ]
    },
    {
     "name": "stderr",
     "output_type": "stream",
     "text": [
      "Processing JPG Compression:  26%|██▌       | 81/316 [00:42<02:01,  1.94it/s]"
     ]
    },
    {
     "name": "stdout",
     "output_type": "stream",
     "text": [
      " - Processed 2560/10089 images for JPG Compression\n"
     ]
    },
    {
     "name": "stderr",
     "output_type": "stream",
     "text": [
      "Processing JPG Compression:  29%|██▉       | 91/316 [00:48<01:57,  1.92it/s]"
     ]
    },
    {
     "name": "stdout",
     "output_type": "stream",
     "text": [
      " - Processed 2880/10089 images for JPG Compression\n"
     ]
    },
    {
     "name": "stderr",
     "output_type": "stream",
     "text": [
      "Processing JPG Compression:  32%|███▏      | 101/316 [00:53<01:55,  1.86it/s]"
     ]
    },
    {
     "name": "stdout",
     "output_type": "stream",
     "text": [
      " - Processed 3200/10089 images for JPG Compression\n"
     ]
    },
    {
     "name": "stderr",
     "output_type": "stream",
     "text": [
      "Processing JPG Compression:  35%|███▌      | 111/316 [00:59<01:46,  1.92it/s]"
     ]
    },
    {
     "name": "stdout",
     "output_type": "stream",
     "text": [
      " - Processed 3520/10089 images for JPG Compression\n"
     ]
    },
    {
     "name": "stderr",
     "output_type": "stream",
     "text": [
      "Processing JPG Compression:  38%|███▊      | 121/316 [01:04<01:39,  1.96it/s]"
     ]
    },
    {
     "name": "stdout",
     "output_type": "stream",
     "text": [
      " - Processed 3840/10089 images for JPG Compression\n"
     ]
    },
    {
     "name": "stderr",
     "output_type": "stream",
     "text": [
      "Processing JPG Compression:  41%|████▏     | 131/316 [01:09<01:32,  2.00it/s]"
     ]
    },
    {
     "name": "stdout",
     "output_type": "stream",
     "text": [
      " - Processed 4160/10089 images for JPG Compression\n"
     ]
    },
    {
     "name": "stderr",
     "output_type": "stream",
     "text": [
      "Processing JPG Compression:  45%|████▍     | 141/316 [01:13<01:02,  2.80it/s]"
     ]
    },
    {
     "name": "stdout",
     "output_type": "stream",
     "text": [
      " - Processed 4480/10089 images for JPG Compression\n"
     ]
    },
    {
     "name": "stderr",
     "output_type": "stream",
     "text": [
      "Processing JPG Compression:  48%|████▊     | 151/316 [01:16<01:08,  2.41it/s]"
     ]
    },
    {
     "name": "stdout",
     "output_type": "stream",
     "text": [
      " - Processed 4800/10089 images for JPG Compression\n"
     ]
    },
    {
     "name": "stderr",
     "output_type": "stream",
     "text": [
      "Processing JPG Compression:  51%|█████     | 161/316 [01:21<01:07,  2.28it/s]"
     ]
    },
    {
     "name": "stdout",
     "output_type": "stream",
     "text": [
      " - Processed 5120/10089 images for JPG Compression\n"
     ]
    },
    {
     "name": "stderr",
     "output_type": "stream",
     "text": [
      "Processing JPG Compression:  54%|█████▍    | 171/316 [01:25<00:56,  2.59it/s]"
     ]
    },
    {
     "name": "stdout",
     "output_type": "stream",
     "text": [
      " - Processed 5440/10089 images for JPG Compression\n"
     ]
    },
    {
     "name": "stderr",
     "output_type": "stream",
     "text": [
      "Processing JPG Compression:  57%|█████▋    | 181/316 [01:29<00:51,  2.62it/s]"
     ]
    },
    {
     "name": "stdout",
     "output_type": "stream",
     "text": [
      " - Processed 5760/10089 images for JPG Compression\n"
     ]
    },
    {
     "name": "stderr",
     "output_type": "stream",
     "text": [
      "Processing JPG Compression:  60%|██████    | 191/316 [01:34<01:04,  1.92it/s]"
     ]
    },
    {
     "name": "stdout",
     "output_type": "stream",
     "text": [
      " - Processed 6080/10089 images for JPG Compression\n"
     ]
    },
    {
     "name": "stderr",
     "output_type": "stream",
     "text": [
      "Processing JPG Compression:  64%|██████▎   | 201/316 [01:39<00:59,  1.94it/s]"
     ]
    },
    {
     "name": "stdout",
     "output_type": "stream",
     "text": [
      " - Processed 6400/10089 images for JPG Compression\n"
     ]
    },
    {
     "name": "stderr",
     "output_type": "stream",
     "text": [
      "Processing JPG Compression:  67%|██████▋   | 211/316 [01:44<00:54,  1.92it/s]"
     ]
    },
    {
     "name": "stdout",
     "output_type": "stream",
     "text": [
      " - Processed 6720/10089 images for JPG Compression\n"
     ]
    },
    {
     "name": "stderr",
     "output_type": "stream",
     "text": [
      "Processing JPG Compression:  70%|██████▉   | 221/316 [01:49<00:38,  2.45it/s]"
     ]
    },
    {
     "name": "stdout",
     "output_type": "stream",
     "text": [
      " - Processed 7040/10089 images for JPG Compression\n"
     ]
    },
    {
     "name": "stderr",
     "output_type": "stream",
     "text": [
      "Processing JPG Compression:  73%|███████▎  | 231/316 [01:53<00:33,  2.52it/s]"
     ]
    },
    {
     "name": "stdout",
     "output_type": "stream",
     "text": [
      " - Processed 7360/10089 images for JPG Compression\n"
     ]
    },
    {
     "name": "stderr",
     "output_type": "stream",
     "text": [
      "Processing JPG Compression:  76%|███████▋  | 241/316 [01:56<00:29,  2.54it/s]"
     ]
    },
    {
     "name": "stdout",
     "output_type": "stream",
     "text": [
      " - Processed 7680/10089 images for JPG Compression\n"
     ]
    },
    {
     "name": "stderr",
     "output_type": "stream",
     "text": [
      "Processing JPG Compression:  79%|███████▉  | 251/316 [02:01<00:26,  2.49it/s]"
     ]
    },
    {
     "name": "stdout",
     "output_type": "stream",
     "text": [
      " - Processed 8000/10089 images for JPG Compression\n"
     ]
    },
    {
     "name": "stderr",
     "output_type": "stream",
     "text": [
      "Processing JPG Compression:  83%|████████▎ | 261/316 [02:05<00:28,  1.96it/s]"
     ]
    },
    {
     "name": "stdout",
     "output_type": "stream",
     "text": [
      " - Processed 8320/10089 images for JPG Compression\n"
     ]
    },
    {
     "name": "stderr",
     "output_type": "stream",
     "text": [
      "Processing JPG Compression:  86%|████████▌ | 271/316 [02:09<00:18,  2.49it/s]"
     ]
    },
    {
     "name": "stdout",
     "output_type": "stream",
     "text": [
      " - Processed 8640/10089 images for JPG Compression\n"
     ]
    },
    {
     "name": "stderr",
     "output_type": "stream",
     "text": [
      "Processing JPG Compression:  89%|████████▉ | 281/316 [02:13<00:14,  2.49it/s]"
     ]
    },
    {
     "name": "stdout",
     "output_type": "stream",
     "text": [
      " - Processed 8960/10089 images for JPG Compression\n"
     ]
    },
    {
     "name": "stderr",
     "output_type": "stream",
     "text": [
      "Processing JPG Compression:  92%|█████████▏| 291/316 [02:18<00:10,  2.48it/s]"
     ]
    },
    {
     "name": "stdout",
     "output_type": "stream",
     "text": [
      " - Processed 9280/10089 images for JPG Compression\n"
     ]
    },
    {
     "name": "stderr",
     "output_type": "stream",
     "text": [
      "Processing JPG Compression:  95%|█████████▌| 301/316 [02:22<00:06,  2.47it/s]"
     ]
    },
    {
     "name": "stdout",
     "output_type": "stream",
     "text": [
      " - Processed 9600/10089 images for JPG Compression\n"
     ]
    },
    {
     "name": "stderr",
     "output_type": "stream",
     "text": [
      "Processing JPG Compression:  98%|█████████▊| 311/316 [02:26<00:02,  2.34it/s]"
     ]
    },
    {
     "name": "stdout",
     "output_type": "stream",
     "text": [
      " - Processed 9920/10089 images for JPG Compression\n"
     ]
    },
    {
     "name": "stderr",
     "output_type": "stream",
     "text": [
      "Processing JPG Compression: 100%|██████████| 316/316 [02:28<00:00,  2.13it/s]\n"
     ]
    }
   ],
   "source": [
    "# Extract features for minor and major transformations with tracking\n",
    "minor_feats_D = extract_features(minor_transformed_images, feature_extractor_D, batch_size=32)"
   ]
  },
  {
   "cell_type": "code",
   "execution_count": 57,
   "metadata": {},
   "outputs": [
    {
     "name": "stdout",
     "output_type": "stream",
     "text": [
      "\n",
      "[INFO] Extracting features for: Color Distortion (10089 images)\n"
     ]
    },
    {
     "name": "stderr",
     "output_type": "stream",
     "text": [
      "Processing Color Distortion:   0%|          | 1/316 [00:00<05:13,  1.00it/s]"
     ]
    },
    {
     "name": "stdout",
     "output_type": "stream",
     "text": [
      " - Processed 0/10089 images for Color Distortion\n"
     ]
    },
    {
     "name": "stderr",
     "output_type": "stream",
     "text": [
      "Processing Color Distortion:   3%|▎         | 11/316 [00:06<02:35,  1.96it/s]"
     ]
    },
    {
     "name": "stdout",
     "output_type": "stream",
     "text": [
      " - Processed 320/10089 images for Color Distortion\n"
     ]
    },
    {
     "name": "stderr",
     "output_type": "stream",
     "text": [
      "Processing Color Distortion:   7%|▋         | 21/316 [00:10<01:47,  2.75it/s]"
     ]
    },
    {
     "name": "stdout",
     "output_type": "stream",
     "text": [
      " - Processed 640/10089 images for Color Distortion\n"
     ]
    },
    {
     "name": "stderr",
     "output_type": "stream",
     "text": [
      "Processing Color Distortion:  10%|▉         | 31/316 [00:13<01:36,  2.96it/s]"
     ]
    },
    {
     "name": "stdout",
     "output_type": "stream",
     "text": [
      " - Processed 960/10089 images for Color Distortion\n"
     ]
    },
    {
     "name": "stderr",
     "output_type": "stream",
     "text": [
      "Processing Color Distortion:  13%|█▎        | 41/316 [00:16<01:30,  3.05it/s]"
     ]
    },
    {
     "name": "stdout",
     "output_type": "stream",
     "text": [
      " - Processed 1280/10089 images for Color Distortion\n"
     ]
    },
    {
     "name": "stderr",
     "output_type": "stream",
     "text": [
      "Processing Color Distortion:  16%|█▌        | 51/316 [00:20<01:28,  3.00it/s]"
     ]
    },
    {
     "name": "stdout",
     "output_type": "stream",
     "text": [
      " - Processed 1600/10089 images for Color Distortion\n"
     ]
    },
    {
     "name": "stderr",
     "output_type": "stream",
     "text": [
      "Processing Color Distortion:  19%|█▉        | 61/316 [00:23<01:23,  3.04it/s]"
     ]
    },
    {
     "name": "stdout",
     "output_type": "stream",
     "text": [
      " - Processed 1920/10089 images for Color Distortion\n"
     ]
    },
    {
     "name": "stderr",
     "output_type": "stream",
     "text": [
      "Processing Color Distortion:  22%|██▏       | 71/316 [00:26<01:22,  2.98it/s]"
     ]
    },
    {
     "name": "stdout",
     "output_type": "stream",
     "text": [
      " - Processed 2240/10089 images for Color Distortion\n"
     ]
    },
    {
     "name": "stderr",
     "output_type": "stream",
     "text": [
      "Processing Color Distortion:  26%|██▌       | 81/316 [00:30<01:16,  3.07it/s]"
     ]
    },
    {
     "name": "stdout",
     "output_type": "stream",
     "text": [
      " - Processed 2560/10089 images for Color Distortion\n"
     ]
    },
    {
     "name": "stderr",
     "output_type": "stream",
     "text": [
      "Processing Color Distortion:  29%|██▉       | 91/316 [00:33<01:13,  3.07it/s]"
     ]
    },
    {
     "name": "stdout",
     "output_type": "stream",
     "text": [
      " - Processed 2880/10089 images for Color Distortion\n"
     ]
    },
    {
     "name": "stderr",
     "output_type": "stream",
     "text": [
      "Processing Color Distortion:  32%|███▏      | 101/316 [00:36<01:10,  3.05it/s]"
     ]
    },
    {
     "name": "stdout",
     "output_type": "stream",
     "text": [
      " - Processed 3200/10089 images for Color Distortion\n"
     ]
    },
    {
     "name": "stderr",
     "output_type": "stream",
     "text": [
      "Processing Color Distortion:  35%|███▌      | 111/316 [00:40<01:07,  3.02it/s]"
     ]
    },
    {
     "name": "stdout",
     "output_type": "stream",
     "text": [
      " - Processed 3520/10089 images for Color Distortion\n"
     ]
    },
    {
     "name": "stderr",
     "output_type": "stream",
     "text": [
      "Processing Color Distortion:  38%|███▊      | 121/316 [00:43<01:04,  3.02it/s]"
     ]
    },
    {
     "name": "stdout",
     "output_type": "stream",
     "text": [
      " - Processed 3840/10089 images for Color Distortion\n"
     ]
    },
    {
     "name": "stderr",
     "output_type": "stream",
     "text": [
      "Processing Color Distortion:  41%|████▏     | 131/316 [00:46<01:01,  3.02it/s]"
     ]
    },
    {
     "name": "stdout",
     "output_type": "stream",
     "text": [
      " - Processed 4160/10089 images for Color Distortion\n"
     ]
    },
    {
     "name": "stderr",
     "output_type": "stream",
     "text": [
      "Processing Color Distortion:  45%|████▍     | 141/316 [00:50<00:58,  3.00it/s]"
     ]
    },
    {
     "name": "stdout",
     "output_type": "stream",
     "text": [
      " - Processed 4480/10089 images for Color Distortion\n"
     ]
    },
    {
     "name": "stderr",
     "output_type": "stream",
     "text": [
      "Processing Color Distortion:  48%|████▊     | 151/316 [00:53<00:55,  2.95it/s]"
     ]
    },
    {
     "name": "stdout",
     "output_type": "stream",
     "text": [
      " - Processed 4800/10089 images for Color Distortion\n"
     ]
    },
    {
     "name": "stderr",
     "output_type": "stream",
     "text": [
      "Processing Color Distortion:  51%|█████     | 161/316 [00:56<00:56,  2.74it/s]"
     ]
    },
    {
     "name": "stdout",
     "output_type": "stream",
     "text": [
      " - Processed 5120/10089 images for Color Distortion\n"
     ]
    },
    {
     "name": "stderr",
     "output_type": "stream",
     "text": [
      "Processing Color Distortion:  54%|█████▍    | 171/316 [01:00<00:50,  2.88it/s]"
     ]
    },
    {
     "name": "stdout",
     "output_type": "stream",
     "text": [
      " - Processed 5440/10089 images for Color Distortion\n"
     ]
    },
    {
     "name": "stderr",
     "output_type": "stream",
     "text": [
      "Processing Color Distortion:  57%|█████▋    | 181/316 [01:03<00:46,  2.91it/s]"
     ]
    },
    {
     "name": "stdout",
     "output_type": "stream",
     "text": [
      " - Processed 5760/10089 images for Color Distortion\n"
     ]
    },
    {
     "name": "stderr",
     "output_type": "stream",
     "text": [
      "Processing Color Distortion:  60%|██████    | 191/316 [01:07<00:44,  2.84it/s]"
     ]
    },
    {
     "name": "stdout",
     "output_type": "stream",
     "text": [
      " - Processed 6080/10089 images for Color Distortion\n"
     ]
    },
    {
     "name": "stderr",
     "output_type": "stream",
     "text": [
      "Processing Color Distortion:  64%|██████▎   | 201/316 [01:11<00:40,  2.82it/s]"
     ]
    },
    {
     "name": "stdout",
     "output_type": "stream",
     "text": [
      " - Processed 6400/10089 images for Color Distortion\n"
     ]
    },
    {
     "name": "stderr",
     "output_type": "stream",
     "text": [
      "Processing Color Distortion:  67%|██████▋   | 211/316 [01:14<00:37,  2.80it/s]"
     ]
    },
    {
     "name": "stdout",
     "output_type": "stream",
     "text": [
      " - Processed 6720/10089 images for Color Distortion\n"
     ]
    },
    {
     "name": "stderr",
     "output_type": "stream",
     "text": [
      "Processing Color Distortion:  70%|██████▉   | 221/316 [01:18<00:34,  2.75it/s]"
     ]
    },
    {
     "name": "stdout",
     "output_type": "stream",
     "text": [
      " - Processed 7040/10089 images for Color Distortion\n"
     ]
    },
    {
     "name": "stderr",
     "output_type": "stream",
     "text": [
      "Processing Color Distortion:  73%|███████▎  | 231/316 [01:21<00:30,  2.79it/s]"
     ]
    },
    {
     "name": "stdout",
     "output_type": "stream",
     "text": [
      " - Processed 7360/10089 images for Color Distortion\n"
     ]
    },
    {
     "name": "stderr",
     "output_type": "stream",
     "text": [
      "Processing Color Distortion:  76%|███████▋  | 241/316 [01:25<00:27,  2.73it/s]"
     ]
    },
    {
     "name": "stdout",
     "output_type": "stream",
     "text": [
      " - Processed 7680/10089 images for Color Distortion\n"
     ]
    },
    {
     "name": "stderr",
     "output_type": "stream",
     "text": [
      "Processing Color Distortion:  79%|███████▉  | 251/316 [01:29<00:24,  2.70it/s]"
     ]
    },
    {
     "name": "stdout",
     "output_type": "stream",
     "text": [
      " - Processed 8000/10089 images for Color Distortion\n"
     ]
    },
    {
     "name": "stderr",
     "output_type": "stream",
     "text": [
      "Processing Color Distortion:  83%|████████▎ | 261/316 [01:32<00:19,  2.79it/s]"
     ]
    },
    {
     "name": "stdout",
     "output_type": "stream",
     "text": [
      " - Processed 8320/10089 images for Color Distortion\n"
     ]
    },
    {
     "name": "stderr",
     "output_type": "stream",
     "text": [
      "Processing Color Distortion:  86%|████████▌ | 271/316 [01:36<00:16,  2.75it/s]"
     ]
    },
    {
     "name": "stdout",
     "output_type": "stream",
     "text": [
      " - Processed 8640/10089 images for Color Distortion\n"
     ]
    },
    {
     "name": "stderr",
     "output_type": "stream",
     "text": [
      "Processing Color Distortion:  89%|████████▉ | 281/316 [01:40<00:13,  2.67it/s]"
     ]
    },
    {
     "name": "stdout",
     "output_type": "stream",
     "text": [
      " - Processed 8960/10089 images for Color Distortion\n"
     ]
    },
    {
     "name": "stderr",
     "output_type": "stream",
     "text": [
      "Processing Color Distortion:  92%|█████████▏| 291/316 [01:43<00:09,  2.68it/s]"
     ]
    },
    {
     "name": "stdout",
     "output_type": "stream",
     "text": [
      " - Processed 9280/10089 images for Color Distortion\n"
     ]
    },
    {
     "name": "stderr",
     "output_type": "stream",
     "text": [
      "Processing Color Distortion:  95%|█████████▌| 301/316 [01:48<00:06,  2.27it/s]"
     ]
    },
    {
     "name": "stdout",
     "output_type": "stream",
     "text": [
      " - Processed 9600/10089 images for Color Distortion\n"
     ]
    },
    {
     "name": "stderr",
     "output_type": "stream",
     "text": [
      "Processing Color Distortion:  98%|█████████▊| 311/316 [01:51<00:01,  2.56it/s]"
     ]
    },
    {
     "name": "stdout",
     "output_type": "stream",
     "text": [
      " - Processed 9920/10089 images for Color Distortion\n"
     ]
    },
    {
     "name": "stderr",
     "output_type": "stream",
     "text": [
      "Processing Color Distortion: 100%|██████████| 316/316 [01:53<00:00,  2.78it/s]\n"
     ]
    },
    {
     "name": "stdout",
     "output_type": "stream",
     "text": [
      "\n",
      "[INFO] Extracting features for: Center Crop (10089 images)\n"
     ]
    },
    {
     "name": "stderr",
     "output_type": "stream",
     "text": [
      "Processing Center Crop:   0%|          | 1/316 [00:00<04:56,  1.06it/s]"
     ]
    },
    {
     "name": "stdout",
     "output_type": "stream",
     "text": [
      " - Processed 0/10089 images for Center Crop\n"
     ]
    },
    {
     "name": "stderr",
     "output_type": "stream",
     "text": [
      "Processing Center Crop:   3%|▎         | 11/316 [00:06<02:22,  2.14it/s]"
     ]
    },
    {
     "name": "stdout",
     "output_type": "stream",
     "text": [
      " - Processed 320/10089 images for Center Crop\n"
     ]
    },
    {
     "name": "stderr",
     "output_type": "stream",
     "text": [
      "Processing Center Crop:   7%|▋         | 21/316 [00:09<01:39,  2.95it/s]"
     ]
    },
    {
     "name": "stdout",
     "output_type": "stream",
     "text": [
      " - Processed 640/10089 images for Center Crop\n"
     ]
    },
    {
     "name": "stderr",
     "output_type": "stream",
     "text": [
      "Processing Center Crop:  10%|▉         | 31/316 [00:12<01:33,  3.05it/s]"
     ]
    },
    {
     "name": "stdout",
     "output_type": "stream",
     "text": [
      " - Processed 960/10089 images for Center Crop\n"
     ]
    },
    {
     "name": "stderr",
     "output_type": "stream",
     "text": [
      "Processing Center Crop:  13%|█▎        | 41/316 [00:16<01:53,  2.43it/s]"
     ]
    },
    {
     "name": "stdout",
     "output_type": "stream",
     "text": [
      " - Processed 1280/10089 images for Center Crop\n"
     ]
    },
    {
     "name": "stderr",
     "output_type": "stream",
     "text": [
      "Processing Center Crop:  16%|█▌        | 51/316 [00:20<01:34,  2.82it/s]"
     ]
    },
    {
     "name": "stdout",
     "output_type": "stream",
     "text": [
      " - Processed 1600/10089 images for Center Crop\n"
     ]
    },
    {
     "name": "stderr",
     "output_type": "stream",
     "text": [
      "Processing Center Crop:  19%|█▉        | 61/316 [00:24<01:32,  2.75it/s]"
     ]
    },
    {
     "name": "stdout",
     "output_type": "stream",
     "text": [
      " - Processed 1920/10089 images for Center Crop\n"
     ]
    },
    {
     "name": "stderr",
     "output_type": "stream",
     "text": [
      "Processing Center Crop:  22%|██▏       | 71/316 [00:27<01:33,  2.61it/s]"
     ]
    },
    {
     "name": "stdout",
     "output_type": "stream",
     "text": [
      " - Processed 2240/10089 images for Center Crop\n"
     ]
    },
    {
     "name": "stderr",
     "output_type": "stream",
     "text": [
      "Processing Center Crop:  26%|██▌       | 81/316 [00:31<01:27,  2.69it/s]"
     ]
    },
    {
     "name": "stdout",
     "output_type": "stream",
     "text": [
      " - Processed 2560/10089 images for Center Crop\n"
     ]
    },
    {
     "name": "stderr",
     "output_type": "stream",
     "text": [
      "Processing Center Crop:  29%|██▉       | 91/316 [00:35<01:24,  2.65it/s]"
     ]
    },
    {
     "name": "stdout",
     "output_type": "stream",
     "text": [
      " - Processed 2880/10089 images for Center Crop\n"
     ]
    },
    {
     "name": "stderr",
     "output_type": "stream",
     "text": [
      "Processing Center Crop:  32%|███▏      | 101/316 [00:39<01:20,  2.67it/s]"
     ]
    },
    {
     "name": "stdout",
     "output_type": "stream",
     "text": [
      " - Processed 3200/10089 images for Center Crop\n"
     ]
    },
    {
     "name": "stderr",
     "output_type": "stream",
     "text": [
      "Processing Center Crop:  35%|███▌      | 111/316 [00:42<01:17,  2.63it/s]"
     ]
    },
    {
     "name": "stdout",
     "output_type": "stream",
     "text": [
      " - Processed 3520/10089 images for Center Crop\n"
     ]
    },
    {
     "name": "stderr",
     "output_type": "stream",
     "text": [
      "Processing Center Crop:  38%|███▊      | 121/316 [00:46<01:13,  2.64it/s]"
     ]
    },
    {
     "name": "stdout",
     "output_type": "stream",
     "text": [
      " - Processed 3840/10089 images for Center Crop\n"
     ]
    },
    {
     "name": "stderr",
     "output_type": "stream",
     "text": [
      "Processing Center Crop:  41%|████▏     | 131/316 [00:50<01:11,  2.60it/s]"
     ]
    },
    {
     "name": "stdout",
     "output_type": "stream",
     "text": [
      " - Processed 4160/10089 images for Center Crop\n"
     ]
    },
    {
     "name": "stderr",
     "output_type": "stream",
     "text": [
      "Processing Center Crop:  45%|████▍     | 141/316 [00:54<01:07,  2.57it/s]"
     ]
    },
    {
     "name": "stdout",
     "output_type": "stream",
     "text": [
      " - Processed 4480/10089 images for Center Crop\n"
     ]
    },
    {
     "name": "stderr",
     "output_type": "stream",
     "text": [
      "Processing Center Crop:  48%|████▊     | 151/316 [00:58<01:06,  2.50it/s]"
     ]
    },
    {
     "name": "stdout",
     "output_type": "stream",
     "text": [
      " - Processed 4800/10089 images for Center Crop\n"
     ]
    },
    {
     "name": "stderr",
     "output_type": "stream",
     "text": [
      "Processing Center Crop:  51%|█████     | 161/316 [01:02<01:00,  2.55it/s]"
     ]
    },
    {
     "name": "stdout",
     "output_type": "stream",
     "text": [
      " - Processed 5120/10089 images for Center Crop\n"
     ]
    },
    {
     "name": "stderr",
     "output_type": "stream",
     "text": [
      "Processing Center Crop:  54%|█████▍    | 171/316 [01:06<00:56,  2.55it/s]"
     ]
    },
    {
     "name": "stdout",
     "output_type": "stream",
     "text": [
      " - Processed 5440/10089 images for Center Crop\n"
     ]
    },
    {
     "name": "stderr",
     "output_type": "stream",
     "text": [
      "Processing Center Crop:  57%|█████▋    | 181/316 [01:10<00:54,  2.47it/s]"
     ]
    },
    {
     "name": "stdout",
     "output_type": "stream",
     "text": [
      " - Processed 5760/10089 images for Center Crop\n"
     ]
    },
    {
     "name": "stderr",
     "output_type": "stream",
     "text": [
      "Processing Center Crop:  60%|██████    | 191/316 [01:14<00:48,  2.55it/s]"
     ]
    },
    {
     "name": "stdout",
     "output_type": "stream",
     "text": [
      " - Processed 6080/10089 images for Center Crop\n"
     ]
    },
    {
     "name": "stderr",
     "output_type": "stream",
     "text": [
      "Processing Center Crop:  64%|██████▎   | 201/316 [01:17<00:45,  2.55it/s]"
     ]
    },
    {
     "name": "stdout",
     "output_type": "stream",
     "text": [
      " - Processed 6400/10089 images for Center Crop\n"
     ]
    },
    {
     "name": "stderr",
     "output_type": "stream",
     "text": [
      "Processing Center Crop:  67%|██████▋   | 211/316 [01:21<00:41,  2.53it/s]"
     ]
    },
    {
     "name": "stdout",
     "output_type": "stream",
     "text": [
      " - Processed 6720/10089 images for Center Crop\n"
     ]
    },
    {
     "name": "stderr",
     "output_type": "stream",
     "text": [
      "Processing Center Crop:  70%|██████▉   | 221/316 [01:25<00:36,  2.58it/s]"
     ]
    },
    {
     "name": "stdout",
     "output_type": "stream",
     "text": [
      " - Processed 7040/10089 images for Center Crop\n"
     ]
    },
    {
     "name": "stderr",
     "output_type": "stream",
     "text": [
      "Processing Center Crop:  73%|███████▎  | 231/316 [01:29<00:33,  2.57it/s]"
     ]
    },
    {
     "name": "stdout",
     "output_type": "stream",
     "text": [
      " - Processed 7360/10089 images for Center Crop\n"
     ]
    },
    {
     "name": "stderr",
     "output_type": "stream",
     "text": [
      "Processing Center Crop:  76%|███████▋  | 241/316 [01:33<00:29,  2.54it/s]"
     ]
    },
    {
     "name": "stdout",
     "output_type": "stream",
     "text": [
      " - Processed 7680/10089 images for Center Crop\n"
     ]
    },
    {
     "name": "stderr",
     "output_type": "stream",
     "text": [
      "Processing Center Crop:  79%|███████▉  | 251/316 [01:37<00:25,  2.52it/s]"
     ]
    },
    {
     "name": "stdout",
     "output_type": "stream",
     "text": [
      " - Processed 8000/10089 images for Center Crop\n"
     ]
    },
    {
     "name": "stderr",
     "output_type": "stream",
     "text": [
      "Processing Center Crop:  83%|████████▎ | 261/316 [01:41<00:22,  2.48it/s]"
     ]
    },
    {
     "name": "stdout",
     "output_type": "stream",
     "text": [
      " - Processed 8320/10089 images for Center Crop\n"
     ]
    },
    {
     "name": "stderr",
     "output_type": "stream",
     "text": [
      "Processing Center Crop:  86%|████████▌ | 271/316 [01:45<00:17,  2.53it/s]"
     ]
    },
    {
     "name": "stdout",
     "output_type": "stream",
     "text": [
      " - Processed 8640/10089 images for Center Crop\n"
     ]
    },
    {
     "name": "stderr",
     "output_type": "stream",
     "text": [
      "Processing Center Crop:  89%|████████▉ | 281/316 [01:49<00:13,  2.53it/s]"
     ]
    },
    {
     "name": "stdout",
     "output_type": "stream",
     "text": [
      " - Processed 8960/10089 images for Center Crop\n"
     ]
    },
    {
     "name": "stderr",
     "output_type": "stream",
     "text": [
      "Processing Center Crop:  92%|█████████▏| 291/316 [01:53<00:09,  2.53it/s]"
     ]
    },
    {
     "name": "stdout",
     "output_type": "stream",
     "text": [
      " - Processed 9280/10089 images for Center Crop\n"
     ]
    },
    {
     "name": "stderr",
     "output_type": "stream",
     "text": [
      "Processing Center Crop:  95%|█████████▌| 301/316 [01:57<00:05,  2.53it/s]"
     ]
    },
    {
     "name": "stdout",
     "output_type": "stream",
     "text": [
      " - Processed 9600/10089 images for Center Crop\n"
     ]
    },
    {
     "name": "stderr",
     "output_type": "stream",
     "text": [
      "Processing Center Crop:  98%|█████████▊| 311/316 [02:01<00:01,  2.54it/s]"
     ]
    },
    {
     "name": "stdout",
     "output_type": "stream",
     "text": [
      " - Processed 9920/10089 images for Center Crop\n"
     ]
    },
    {
     "name": "stderr",
     "output_type": "stream",
     "text": [
      "Processing Center Crop: 100%|██████████| 316/316 [02:03<00:00,  2.57it/s]\n"
     ]
    },
    {
     "name": "stdout",
     "output_type": "stream",
     "text": [
      "\n",
      "[INFO] Extracting features for: Elastic Transform (10089 images)\n"
     ]
    },
    {
     "name": "stderr",
     "output_type": "stream",
     "text": [
      "Processing Elastic Transform:   0%|          | 1/316 [00:00<04:58,  1.06it/s]"
     ]
    },
    {
     "name": "stdout",
     "output_type": "stream",
     "text": [
      " - Processed 0/10089 images for Elastic Transform\n"
     ]
    },
    {
     "name": "stderr",
     "output_type": "stream",
     "text": [
      "Processing Elastic Transform:   3%|▎         | 11/316 [00:06<02:26,  2.08it/s]"
     ]
    },
    {
     "name": "stdout",
     "output_type": "stream",
     "text": [
      " - Processed 320/10089 images for Elastic Transform\n"
     ]
    },
    {
     "name": "stderr",
     "output_type": "stream",
     "text": [
      "Processing Elastic Transform:   7%|▋         | 21/316 [00:09<01:44,  2.83it/s]"
     ]
    },
    {
     "name": "stdout",
     "output_type": "stream",
     "text": [
      " - Processed 640/10089 images for Elastic Transform\n"
     ]
    },
    {
     "name": "stderr",
     "output_type": "stream",
     "text": [
      "Processing Elastic Transform:  10%|▉         | 31/316 [00:13<01:42,  2.79it/s]"
     ]
    },
    {
     "name": "stdout",
     "output_type": "stream",
     "text": [
      " - Processed 960/10089 images for Elastic Transform\n"
     ]
    },
    {
     "name": "stderr",
     "output_type": "stream",
     "text": [
      "Processing Elastic Transform:  13%|█▎        | 41/316 [00:16<01:41,  2.70it/s]"
     ]
    },
    {
     "name": "stdout",
     "output_type": "stream",
     "text": [
      " - Processed 1280/10089 images for Elastic Transform\n"
     ]
    },
    {
     "name": "stderr",
     "output_type": "stream",
     "text": [
      "Processing Elastic Transform:  16%|█▌        | 51/316 [00:20<01:45,  2.50it/s]"
     ]
    },
    {
     "name": "stdout",
     "output_type": "stream",
     "text": [
      " - Processed 1600/10089 images for Elastic Transform\n"
     ]
    },
    {
     "name": "stderr",
     "output_type": "stream",
     "text": [
      "Processing Elastic Transform:  19%|█▉        | 61/316 [00:24<01:42,  2.48it/s]"
     ]
    },
    {
     "name": "stdout",
     "output_type": "stream",
     "text": [
      " - Processed 1920/10089 images for Elastic Transform\n"
     ]
    },
    {
     "name": "stderr",
     "output_type": "stream",
     "text": [
      "Processing Elastic Transform:  22%|██▏       | 71/316 [00:28<01:39,  2.45it/s]"
     ]
    },
    {
     "name": "stdout",
     "output_type": "stream",
     "text": [
      " - Processed 2240/10089 images for Elastic Transform\n"
     ]
    },
    {
     "name": "stderr",
     "output_type": "stream",
     "text": [
      "Processing Elastic Transform:  26%|██▌       | 81/316 [00:33<01:36,  2.43it/s]"
     ]
    },
    {
     "name": "stdout",
     "output_type": "stream",
     "text": [
      " - Processed 2560/10089 images for Elastic Transform\n"
     ]
    },
    {
     "name": "stderr",
     "output_type": "stream",
     "text": [
      "Processing Elastic Transform:  29%|██▉       | 91/316 [00:37<01:32,  2.43it/s]"
     ]
    },
    {
     "name": "stdout",
     "output_type": "stream",
     "text": [
      " - Processed 2880/10089 images for Elastic Transform\n"
     ]
    },
    {
     "name": "stderr",
     "output_type": "stream",
     "text": [
      "Processing Elastic Transform:  32%|███▏      | 101/316 [00:41<01:27,  2.45it/s]"
     ]
    },
    {
     "name": "stdout",
     "output_type": "stream",
     "text": [
      " - Processed 3200/10089 images for Elastic Transform\n"
     ]
    },
    {
     "name": "stderr",
     "output_type": "stream",
     "text": [
      "Processing Elastic Transform:  35%|███▌      | 111/316 [00:45<01:24,  2.42it/s]"
     ]
    },
    {
     "name": "stdout",
     "output_type": "stream",
     "text": [
      " - Processed 3520/10089 images for Elastic Transform\n"
     ]
    },
    {
     "name": "stderr",
     "output_type": "stream",
     "text": [
      "Processing Elastic Transform:  38%|███▊      | 121/316 [00:49<01:18,  2.47it/s]"
     ]
    },
    {
     "name": "stdout",
     "output_type": "stream",
     "text": [
      " - Processed 3840/10089 images for Elastic Transform\n"
     ]
    },
    {
     "name": "stderr",
     "output_type": "stream",
     "text": [
      "Processing Elastic Transform:  41%|████▏     | 131/316 [00:53<01:15,  2.43it/s]"
     ]
    },
    {
     "name": "stdout",
     "output_type": "stream",
     "text": [
      " - Processed 4160/10089 images for Elastic Transform\n"
     ]
    },
    {
     "name": "stderr",
     "output_type": "stream",
     "text": [
      "Processing Elastic Transform:  45%|████▍     | 141/316 [00:58<01:26,  2.03it/s]"
     ]
    },
    {
     "name": "stdout",
     "output_type": "stream",
     "text": [
      " - Processed 4480/10089 images for Elastic Transform\n"
     ]
    },
    {
     "name": "stderr",
     "output_type": "stream",
     "text": [
      "Processing Elastic Transform:  48%|████▊     | 151/316 [01:03<01:26,  1.90it/s]"
     ]
    },
    {
     "name": "stdout",
     "output_type": "stream",
     "text": [
      " - Processed 4800/10089 images for Elastic Transform\n"
     ]
    },
    {
     "name": "stderr",
     "output_type": "stream",
     "text": [
      "Processing Elastic Transform:  51%|█████     | 161/316 [01:08<01:22,  1.87it/s]"
     ]
    },
    {
     "name": "stdout",
     "output_type": "stream",
     "text": [
      " - Processed 5120/10089 images for Elastic Transform\n"
     ]
    },
    {
     "name": "stderr",
     "output_type": "stream",
     "text": [
      "Processing Elastic Transform:  54%|█████▍    | 171/316 [01:13<01:16,  1.89it/s]"
     ]
    },
    {
     "name": "stdout",
     "output_type": "stream",
     "text": [
      " - Processed 5440/10089 images for Elastic Transform\n"
     ]
    },
    {
     "name": "stderr",
     "output_type": "stream",
     "text": [
      "Processing Elastic Transform:  57%|█████▋    | 181/316 [01:19<01:11,  1.89it/s]"
     ]
    },
    {
     "name": "stdout",
     "output_type": "stream",
     "text": [
      " - Processed 5760/10089 images for Elastic Transform\n"
     ]
    },
    {
     "name": "stderr",
     "output_type": "stream",
     "text": [
      "Processing Elastic Transform:  60%|██████    | 191/316 [01:24<01:06,  1.89it/s]"
     ]
    },
    {
     "name": "stdout",
     "output_type": "stream",
     "text": [
      " - Processed 6080/10089 images for Elastic Transform\n"
     ]
    },
    {
     "name": "stderr",
     "output_type": "stream",
     "text": [
      "Processing Elastic Transform:  64%|██████▎   | 201/316 [01:29<01:01,  1.87it/s]"
     ]
    },
    {
     "name": "stdout",
     "output_type": "stream",
     "text": [
      " - Processed 6400/10089 images for Elastic Transform\n"
     ]
    },
    {
     "name": "stderr",
     "output_type": "stream",
     "text": [
      "Processing Elastic Transform:  67%|██████▋   | 211/316 [01:35<00:57,  1.83it/s]"
     ]
    },
    {
     "name": "stdout",
     "output_type": "stream",
     "text": [
      " - Processed 6720/10089 images for Elastic Transform\n"
     ]
    },
    {
     "name": "stderr",
     "output_type": "stream",
     "text": [
      "Processing Elastic Transform:  70%|██████▉   | 221/316 [01:40<00:51,  1.83it/s]"
     ]
    },
    {
     "name": "stdout",
     "output_type": "stream",
     "text": [
      " - Processed 7040/10089 images for Elastic Transform\n"
     ]
    },
    {
     "name": "stderr",
     "output_type": "stream",
     "text": [
      "Processing Elastic Transform:  73%|███████▎  | 231/316 [01:45<00:45,  1.86it/s]"
     ]
    },
    {
     "name": "stdout",
     "output_type": "stream",
     "text": [
      " - Processed 7360/10089 images for Elastic Transform\n"
     ]
    },
    {
     "name": "stderr",
     "output_type": "stream",
     "text": [
      "Processing Elastic Transform:  76%|███████▋  | 241/316 [01:51<00:40,  1.86it/s]"
     ]
    },
    {
     "name": "stdout",
     "output_type": "stream",
     "text": [
      " - Processed 7680/10089 images for Elastic Transform\n"
     ]
    },
    {
     "name": "stderr",
     "output_type": "stream",
     "text": [
      "Processing Elastic Transform:  79%|███████▉  | 251/316 [01:56<00:34,  1.89it/s]"
     ]
    },
    {
     "name": "stdout",
     "output_type": "stream",
     "text": [
      " - Processed 8000/10089 images for Elastic Transform\n"
     ]
    },
    {
     "name": "stderr",
     "output_type": "stream",
     "text": [
      "Processing Elastic Transform:  83%|████████▎ | 261/316 [02:02<00:29,  1.86it/s]"
     ]
    },
    {
     "name": "stdout",
     "output_type": "stream",
     "text": [
      " - Processed 8320/10089 images for Elastic Transform\n"
     ]
    },
    {
     "name": "stderr",
     "output_type": "stream",
     "text": [
      "Processing Elastic Transform:  86%|████████▌ | 271/316 [02:07<00:23,  1.88it/s]"
     ]
    },
    {
     "name": "stdout",
     "output_type": "stream",
     "text": [
      " - Processed 8640/10089 images for Elastic Transform\n"
     ]
    },
    {
     "name": "stderr",
     "output_type": "stream",
     "text": [
      "Processing Elastic Transform:  89%|████████▉ | 281/316 [02:12<00:18,  1.88it/s]"
     ]
    },
    {
     "name": "stdout",
     "output_type": "stream",
     "text": [
      " - Processed 8960/10089 images for Elastic Transform\n"
     ]
    },
    {
     "name": "stderr",
     "output_type": "stream",
     "text": [
      "Processing Elastic Transform:  92%|█████████▏| 291/316 [02:18<00:13,  1.87it/s]"
     ]
    },
    {
     "name": "stdout",
     "output_type": "stream",
     "text": [
      " - Processed 9280/10089 images for Elastic Transform\n"
     ]
    },
    {
     "name": "stderr",
     "output_type": "stream",
     "text": [
      "Processing Elastic Transform:  95%|█████████▌| 301/316 [02:23<00:08,  1.87it/s]"
     ]
    },
    {
     "name": "stdout",
     "output_type": "stream",
     "text": [
      " - Processed 9600/10089 images for Elastic Transform\n"
     ]
    },
    {
     "name": "stderr",
     "output_type": "stream",
     "text": [
      "Processing Elastic Transform:  98%|█████████▊| 311/316 [02:28<00:02,  1.85it/s]"
     ]
    },
    {
     "name": "stdout",
     "output_type": "stream",
     "text": [
      " - Processed 9920/10089 images for Elastic Transform\n"
     ]
    },
    {
     "name": "stderr",
     "output_type": "stream",
     "text": [
      "Processing Elastic Transform: 100%|██████████| 316/316 [02:31<00:00,  2.09it/s]\n"
     ]
    },
    {
     "name": "stdout",
     "output_type": "stream",
     "text": [
      "\n",
      "[INFO] Extracting features for: Heavy Blur (10089 images)\n"
     ]
    },
    {
     "name": "stderr",
     "output_type": "stream",
     "text": [
      "Processing Heavy Blur:   0%|          | 1/316 [00:00<04:28,  1.17it/s]"
     ]
    },
    {
     "name": "stdout",
     "output_type": "stream",
     "text": [
      " - Processed 0/10089 images for Heavy Blur\n"
     ]
    },
    {
     "name": "stderr",
     "output_type": "stream",
     "text": [
      "Processing Heavy Blur:   3%|▎         | 11/316 [00:05<02:14,  2.26it/s]"
     ]
    },
    {
     "name": "stdout",
     "output_type": "stream",
     "text": [
      " - Processed 320/10089 images for Heavy Blur\n"
     ]
    },
    {
     "name": "stderr",
     "output_type": "stream",
     "text": [
      "Processing Heavy Blur:   7%|▋         | 21/316 [00:09<01:39,  2.96it/s]"
     ]
    },
    {
     "name": "stdout",
     "output_type": "stream",
     "text": [
      " - Processed 640/10089 images for Heavy Blur\n"
     ]
    },
    {
     "name": "stderr",
     "output_type": "stream",
     "text": [
      "Processing Heavy Blur:  10%|▉         | 31/316 [00:12<01:34,  3.02it/s]"
     ]
    },
    {
     "name": "stdout",
     "output_type": "stream",
     "text": [
      " - Processed 960/10089 images for Heavy Blur\n"
     ]
    },
    {
     "name": "stderr",
     "output_type": "stream",
     "text": [
      "Processing Heavy Blur:  13%|█▎        | 41/316 [00:15<01:34,  2.90it/s]"
     ]
    },
    {
     "name": "stdout",
     "output_type": "stream",
     "text": [
      " - Processed 1280/10089 images for Heavy Blur\n"
     ]
    },
    {
     "name": "stderr",
     "output_type": "stream",
     "text": [
      "Processing Heavy Blur:  16%|█▌        | 51/316 [00:19<01:34,  2.81it/s]"
     ]
    },
    {
     "name": "stdout",
     "output_type": "stream",
     "text": [
      " - Processed 1600/10089 images for Heavy Blur\n"
     ]
    },
    {
     "name": "stderr",
     "output_type": "stream",
     "text": [
      "Processing Heavy Blur:  19%|█▉        | 61/316 [00:23<01:38,  2.59it/s]"
     ]
    },
    {
     "name": "stdout",
     "output_type": "stream",
     "text": [
      " - Processed 1920/10089 images for Heavy Blur\n"
     ]
    },
    {
     "name": "stderr",
     "output_type": "stream",
     "text": [
      "Processing Heavy Blur:  22%|██▏       | 71/316 [00:27<01:36,  2.53it/s]"
     ]
    },
    {
     "name": "stdout",
     "output_type": "stream",
     "text": [
      " - Processed 2240/10089 images for Heavy Blur\n"
     ]
    },
    {
     "name": "stderr",
     "output_type": "stream",
     "text": [
      "Processing Heavy Blur:  26%|██▌       | 81/316 [00:31<01:39,  2.35it/s]"
     ]
    },
    {
     "name": "stdout",
     "output_type": "stream",
     "text": [
      " - Processed 2560/10089 images for Heavy Blur\n"
     ]
    },
    {
     "name": "stderr",
     "output_type": "stream",
     "text": [
      "Processing Heavy Blur:  29%|██▉       | 91/316 [00:36<01:59,  1.89it/s]"
     ]
    },
    {
     "name": "stdout",
     "output_type": "stream",
     "text": [
      " - Processed 2880/10089 images for Heavy Blur\n"
     ]
    },
    {
     "name": "stderr",
     "output_type": "stream",
     "text": [
      "Processing Heavy Blur:  32%|███▏      | 101/316 [00:41<01:55,  1.86it/s]"
     ]
    },
    {
     "name": "stdout",
     "output_type": "stream",
     "text": [
      " - Processed 3200/10089 images for Heavy Blur\n"
     ]
    },
    {
     "name": "stderr",
     "output_type": "stream",
     "text": [
      "Processing Heavy Blur:  35%|███▌      | 111/316 [00:46<01:46,  1.92it/s]"
     ]
    },
    {
     "name": "stdout",
     "output_type": "stream",
     "text": [
      " - Processed 3520/10089 images for Heavy Blur\n"
     ]
    },
    {
     "name": "stderr",
     "output_type": "stream",
     "text": [
      "Processing Heavy Blur:  38%|███▊      | 121/316 [00:52<01:42,  1.89it/s]"
     ]
    },
    {
     "name": "stdout",
     "output_type": "stream",
     "text": [
      " - Processed 3840/10089 images for Heavy Blur\n"
     ]
    },
    {
     "name": "stderr",
     "output_type": "stream",
     "text": [
      "Processing Heavy Blur:  41%|████▏     | 131/316 [00:57<01:35,  1.93it/s]"
     ]
    },
    {
     "name": "stdout",
     "output_type": "stream",
     "text": [
      " - Processed 4160/10089 images for Heavy Blur\n"
     ]
    },
    {
     "name": "stderr",
     "output_type": "stream",
     "text": [
      "Processing Heavy Blur:  45%|████▍     | 141/316 [01:02<01:32,  1.89it/s]"
     ]
    },
    {
     "name": "stdout",
     "output_type": "stream",
     "text": [
      " - Processed 4480/10089 images for Heavy Blur\n"
     ]
    },
    {
     "name": "stderr",
     "output_type": "stream",
     "text": [
      "Processing Heavy Blur:  48%|████▊     | 151/316 [01:07<01:27,  1.88it/s]"
     ]
    },
    {
     "name": "stdout",
     "output_type": "stream",
     "text": [
      " - Processed 4800/10089 images for Heavy Blur\n"
     ]
    },
    {
     "name": "stderr",
     "output_type": "stream",
     "text": [
      "Processing Heavy Blur:  51%|█████     | 161/316 [01:13<01:22,  1.87it/s]"
     ]
    },
    {
     "name": "stdout",
     "output_type": "stream",
     "text": [
      " - Processed 5120/10089 images for Heavy Blur\n"
     ]
    },
    {
     "name": "stderr",
     "output_type": "stream",
     "text": [
      "Processing Heavy Blur:  54%|█████▍    | 171/316 [01:18<01:15,  1.91it/s]"
     ]
    },
    {
     "name": "stdout",
     "output_type": "stream",
     "text": [
      " - Processed 5440/10089 images for Heavy Blur\n"
     ]
    },
    {
     "name": "stderr",
     "output_type": "stream",
     "text": [
      "Processing Heavy Blur:  57%|█████▋    | 181/316 [01:23<01:11,  1.88it/s]"
     ]
    },
    {
     "name": "stdout",
     "output_type": "stream",
     "text": [
      " - Processed 5760/10089 images for Heavy Blur\n"
     ]
    },
    {
     "name": "stderr",
     "output_type": "stream",
     "text": [
      "Processing Heavy Blur:  60%|██████    | 191/316 [01:29<01:06,  1.88it/s]"
     ]
    },
    {
     "name": "stdout",
     "output_type": "stream",
     "text": [
      " - Processed 6080/10089 images for Heavy Blur\n"
     ]
    },
    {
     "name": "stderr",
     "output_type": "stream",
     "text": [
      "Processing Heavy Blur:  64%|██████▎   | 201/316 [01:34<01:01,  1.88it/s]"
     ]
    },
    {
     "name": "stdout",
     "output_type": "stream",
     "text": [
      " - Processed 6400/10089 images for Heavy Blur\n"
     ]
    },
    {
     "name": "stderr",
     "output_type": "stream",
     "text": [
      "Processing Heavy Blur:  67%|██████▋   | 211/316 [01:39<00:55,  1.90it/s]"
     ]
    },
    {
     "name": "stdout",
     "output_type": "stream",
     "text": [
      " - Processed 6720/10089 images for Heavy Blur\n"
     ]
    },
    {
     "name": "stderr",
     "output_type": "stream",
     "text": [
      "Processing Heavy Blur:  70%|██████▉   | 221/316 [01:44<00:50,  1.88it/s]"
     ]
    },
    {
     "name": "stdout",
     "output_type": "stream",
     "text": [
      " - Processed 7040/10089 images for Heavy Blur\n"
     ]
    },
    {
     "name": "stderr",
     "output_type": "stream",
     "text": [
      "Processing Heavy Blur:  73%|███████▎  | 231/316 [01:50<00:46,  1.82it/s]"
     ]
    },
    {
     "name": "stdout",
     "output_type": "stream",
     "text": [
      " - Processed 7360/10089 images for Heavy Blur\n"
     ]
    },
    {
     "name": "stderr",
     "output_type": "stream",
     "text": [
      "Processing Heavy Blur:  76%|███████▋  | 241/316 [01:55<00:39,  1.90it/s]"
     ]
    },
    {
     "name": "stdout",
     "output_type": "stream",
     "text": [
      " - Processed 7680/10089 images for Heavy Blur\n"
     ]
    },
    {
     "name": "stderr",
     "output_type": "stream",
     "text": [
      "Processing Heavy Blur:  79%|███████▉  | 251/316 [02:00<00:35,  1.85it/s]"
     ]
    },
    {
     "name": "stdout",
     "output_type": "stream",
     "text": [
      " - Processed 8000/10089 images for Heavy Blur\n"
     ]
    },
    {
     "name": "stderr",
     "output_type": "stream",
     "text": [
      "Processing Heavy Blur:  83%|████████▎ | 261/316 [02:06<00:29,  1.85it/s]"
     ]
    },
    {
     "name": "stdout",
     "output_type": "stream",
     "text": [
      " - Processed 8320/10089 images for Heavy Blur\n"
     ]
    },
    {
     "name": "stderr",
     "output_type": "stream",
     "text": [
      "Processing Heavy Blur:  86%|████████▌ | 271/316 [02:11<00:23,  1.88it/s]"
     ]
    },
    {
     "name": "stdout",
     "output_type": "stream",
     "text": [
      " - Processed 8640/10089 images for Heavy Blur\n"
     ]
    },
    {
     "name": "stderr",
     "output_type": "stream",
     "text": [
      "Processing Heavy Blur:  89%|████████▉ | 281/316 [02:16<00:18,  1.87it/s]"
     ]
    },
    {
     "name": "stdout",
     "output_type": "stream",
     "text": [
      " - Processed 8960/10089 images for Heavy Blur\n"
     ]
    },
    {
     "name": "stderr",
     "output_type": "stream",
     "text": [
      "Processing Heavy Blur:  92%|█████████▏| 291/316 [02:22<00:13,  1.88it/s]"
     ]
    },
    {
     "name": "stdout",
     "output_type": "stream",
     "text": [
      " - Processed 9280/10089 images for Heavy Blur\n"
     ]
    },
    {
     "name": "stderr",
     "output_type": "stream",
     "text": [
      "Processing Heavy Blur:  95%|█████████▌| 301/316 [02:27<00:08,  1.86it/s]"
     ]
    },
    {
     "name": "stdout",
     "output_type": "stream",
     "text": [
      " - Processed 9600/10089 images for Heavy Blur\n"
     ]
    },
    {
     "name": "stderr",
     "output_type": "stream",
     "text": [
      "Processing Heavy Blur:  98%|█████████▊| 311/316 [02:32<00:02,  1.90it/s]"
     ]
    },
    {
     "name": "stdout",
     "output_type": "stream",
     "text": [
      " - Processed 9920/10089 images for Heavy Blur\n"
     ]
    },
    {
     "name": "stderr",
     "output_type": "stream",
     "text": [
      "Processing Heavy Blur: 100%|██████████| 316/316 [02:35<00:00,  2.04it/s]\n"
     ]
    }
   ],
   "source": [
    "major_feats_D = extract_features(major_transformed_images, feature_extractor_D, batch_size=32)"
   ]
  },
  {
   "cell_type": "code",
   "execution_count": 58,
   "metadata": {},
   "outputs": [
    {
     "name": "stderr",
     "output_type": "stream",
     "text": [
      "                                               \r"
     ]
    }
   ],
   "source": [
    "fid_scores = {}  # Dictionary to store all FID scores\n",
    "fld_scores = {}  # Dictionary to store all FLD scores\n",
    "\n",
    "\n",
    "# Ensure all feature inputs are PyTorch tensors\n",
    "def ensure_tensor(features):\n",
    "    \"\"\"Convert NumPy array to PyTorch tensor if needed.\"\"\"\n",
    "    if isinstance(features, np.ndarray):\n",
    "        return torch.tensor(features, dtype=torch.float32)\n",
    "    return features  # If it's already a tensor, return as-is\n",
    "\n",
    "# Compute metrics for minor transformations\n",
    "for name, features in minor_feats_D.items():\n",
    "    fid_scores[name] = fid_metric.compute_metric(ensure_tensor(train_feat_D), None, ensure_tensor(features))\n",
    "    fld_scores[name] = fld_metric.compute_metric(ensure_tensor(train_feat_D), test_feat_D, ensure_tensor(features))\n",
    "\n",
    "# Compute FID & FLD for major transformations\n",
    "for name, features in major_feats_D.items():\n",
    "    fid_scores[name] = fid_metric.compute_metric(ensure_tensor(train_feat_D), None, ensure_tensor(features))\n",
    "    fld_scores[name] = fld_metric.compute_metric(ensure_tensor(train_feat_D), test_feat_D, ensure_tensor(features))\n",
    "\n"
   ]
  },
  {
   "cell_type": "code",
   "execution_count": 59,
   "metadata": {},
   "outputs": [
    {
     "name": "stdout",
     "output_type": "stream",
     "text": [
      "FID Scores:\n",
      "Gaussian Blur: 564.09\n",
      "Posterize: 558.69\n",
      "JPG Compression: 645.40\n",
      "Color Distortion: 608.39\n",
      "Center Crop: 865.46\n",
      "Elastic Transform: 919.72\n",
      "Heavy Blur: 2131.38\n",
      "\n",
      "FLD Scores:\n",
      "Gaussian Blur: 10.89\n",
      "Posterize: 10.92\n",
      "JPG Compression: 12.31\n",
      "Color Distortion: 11.70\n",
      "Center Crop: 15.74\n",
      "Elastic Transform: 16.53\n",
      "Heavy Blur: 36.22\n"
     ]
    }
   ],
   "source": [
    "# Display computed FID and FLD scores\n",
    "print(\"FID Scores:\")\n",
    "for name, score in fid_scores.items():\n",
    "    print(f\"{name}: {score:.2f}\")\n",
    "\n",
    "print(\"\\nFLD Scores:\")\n",
    "for name, score in fld_scores.items():\n",
    "    print(f\"{name}: {score:.2f}\")"
   ]
  },
  {
   "cell_type": "code",
   "execution_count": 60,
   "metadata": {},
   "outputs": [],
   "source": [
    "fid_original_D1 = 113.96717453247811\n",
    "fid_original_D2 = 113.96722990819808\n",
    "\n",
    "fld_original_D1 = 4.7077178955078125\n",
    "fld_original_D2 = 4.766225814819336"
   ]
  },
  {
   "cell_type": "code",
   "execution_count": 61,
   "metadata": {},
   "outputs": [
    {
     "name": "stdout",
     "output_type": "stream",
     "text": [
      "FID Scores:\n",
      "Gaussian Blur: 564.09\n",
      "Posterize: 558.69\n",
      "JPG Compression: 645.40\n",
      "Color Distortion: 608.39\n",
      "Center Crop: 865.46\n",
      "Elastic Transform: 919.72\n",
      "Heavy Blur: 2131.38\n",
      "\n",
      "FLD Scores:\n",
      "Gaussian Blur: 10.89\n",
      "Posterize: 10.92\n",
      "JPG Compression: 12.31\n",
      "Color Distortion: 11.70\n",
      "Center Crop: 15.74\n",
      "Elastic Transform: 16.53\n",
      "Heavy Blur: 36.22\n"
     ]
    }
   ],
   "source": [
    "# Display computed FID and FLD scores\n",
    "print(\"FID Scores:\")\n",
    "for name, score in fid_scores.items():\n",
    "    print(f\"{name}: {score:.2f}\")\n",
    "\n",
    "print(\"\\nFLD Scores:\")\n",
    "for name, score in fld_scores.items():\n",
    "    print(f\"{name}: {score:.2f}\")"
   ]
  },
  {
   "cell_type": "code",
   "execution_count": null,
   "metadata": {},
   "outputs": [],
   "source": []
  },
  {
   "cell_type": "code",
   "execution_count": 64,
   "metadata": {},
   "outputs": [
    {
     "data": {
      "image/png": "[encoded data removed]",
      "text/plain": [
       "<Figure size 1800x400 with 4 Axes>"
      ]
     },
     "metadata": {},
     "output_type": "display_data"
    }
   ],
   "source": [
    "# Include the original results in the dictionaries\n",
    "fid_scores[\"Original\"] = fid_original_D1\n",
    "fld_scores[\"Original\"] = fld_original_D1\n",
    "\n",
    "# Function to plot FID & FLD following the structure of the reference figure\n",
    "def plot_fid_fld_results(fid_scores, fld_scores, minor_feats, major_feats):\n",
    "    fig, axes = plt.subplots(1, 4, figsize=(18, 4))\n",
    "\n",
    "    width = 0.4  # Width of bars\n",
    "\n",
    "    # Separate minor and major transformation scores including the original\n",
    "    minor_fid_scores = {\"Original\": fid_scores[\"Original\"]}\n",
    "    minor_fld_scores = {\"Original\": fld_scores[\"Original\"]}\n",
    "    major_fid_scores = {\"Original\": fid_scores[\"Original\"]}\n",
    "    major_fld_scores = {\"Original\": fld_scores[\"Original\"]}\n",
    "\n",
    "    for name, value in fid_scores.items():\n",
    "        if name in minor_feats.keys():\n",
    "            minor_fid_scores[name] = value\n",
    "        elif name in major_feats.keys():\n",
    "            major_fid_scores[name] = value\n",
    "\n",
    "    for name, value in fld_scores.items():\n",
    "        if name in minor_feats.keys():\n",
    "            minor_fld_scores[name] = value\n",
    "        elif name in major_feats.keys():\n",
    "            major_fld_scores[name] = value\n",
    "\n",
    "    # Ensure categories are correctly structured\n",
    "    minor_categories = list(minor_fld_scores.keys())\n",
    "    x_minor = np.arange(len(minor_categories))  # X locations for bars\n",
    "\n",
    "    major_categories = list(major_fld_scores.keys())\n",
    "    x_major = np.arange(len(major_categories))  # X locations for bars\n",
    "\n",
    "    # Plot Minor FLD (1st Subplot)\n",
    "    axes[0].bar(x_minor, minor_fld_scores.values(), width, color=['blue', 'orange', 'green', 'purple'])\n",
    "    axes[0].set_title(\"FLD - Minor Transformations\")\n",
    "    axes[0].set_ylabel(\"FLD\")\n",
    "    axes[0].set_xticks(x_minor)\n",
    "    axes[0].set_xticklabels(minor_categories, rotation=30)\n",
    "\n",
    "    # Plot Minor FID (2nd Subplot)\n",
    "    axes[1].bar(x_minor, minor_fid_scores.values(), width, color=['blue', 'orange', 'green', 'purple'])\n",
    "    axes[1].set_title(\"FID - Minor Transformations\")\n",
    "    axes[1].set_ylabel(\"FID\")\n",
    "    axes[1].set_xticks(x_minor)\n",
    "    axes[1].set_xticklabels(minor_categories, rotation=30)\n",
    "\n",
    "    # Plot Major FLD (3rd Subplot)\n",
    "    axes[2].bar(x_major, major_fld_scores.values(), width, color=['gray', 'yellow', 'pink', 'red'])\n",
    "    axes[2].set_title(\"FLD - Major Transformations\")\n",
    "    axes[2].set_ylabel(\"FLD\")\n",
    "    axes[2].set_xticks(x_major)\n",
    "    axes[2].set_xticklabels(major_categories, rotation=30)\n",
    "\n",
    "    # Plot Major FID (4th Subplot)\n",
    "    axes[3].bar(x_major, major_fid_scores.values(), width, color=['gray', 'yellow', 'pink', 'red'])\n",
    "    axes[3].set_title(\"FID - Major Transformations\")\n",
    "    axes[3].set_ylabel(\"FID\")\n",
    "    axes[3].set_xticks(x_major)\n",
    "    axes[3].set_xticklabels(major_categories, rotation=30)\n",
    "\n",
    "    plt.tight_layout()\n",
    "    plt.show()\n",
    "\n",
    "# Call the function using user-defined variables\n",
    "plot_fid_fld_results(fid_scores, fld_scores, minor_feats_D, major_feats_D)\n"
   ]
  }
 ],
 "metadata": {
  "kernelspec": {
   "display_name": "venv",
   "language": "python",
   "name": "python3"
  },
  "language_info": {
   "codemirror_mode": {
    "name": "ipython",
    "version": 3
   },
   "file_extension": ".py",
   "mimetype": "text/x-python",
   "name": "python",
   "nbconvert_exporter": "python",
   "pygments_lexer": "ipython3",
   "version": "3.12.3"
  }
 },
 "nbformat": 4,
 "nbformat_minor": 2
}
