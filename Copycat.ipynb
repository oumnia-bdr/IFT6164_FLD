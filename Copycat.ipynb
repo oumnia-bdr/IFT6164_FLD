{
 "cells": [
  {
   "cell_type": "code",
   "execution_count": 9,
   "metadata": {},
   "outputs": [],
   "source": [
    "import torch\n",
    "import torch.nn as nn\n",
    "import torchvision\n",
    "from fld.features.InceptionFeatureExtractor import InceptionFeatureExtractor\n",
    "from fld.metrics.FLD import FLD\n",
    "from fld.metrics.FID import FID\n",
    "import torchvision.transforms as transforms"
   ]
  },
  {
   "cell_type": "code",
   "execution_count": 2,
   "metadata": {},
   "outputs": [
    {
     "name": "stdout",
     "output_type": "stream",
     "text": [
      "True\n",
      "12.1\n",
      "1\n",
      "NVIDIA GeForce RTX 3060 Laptop GPU\n"
     ]
    }
   ],
   "source": [
    "import torch\n",
    "print(torch.cuda.is_available())  # Should return True if CUDA is enabled\n",
    "print(torch.version.cuda)  # Should show the CUDA version PyTorch was compiled with\n",
    "print(torch.cuda.device_count())  # Number of available GPUs\n",
    "print(torch.cuda.get_device_name(0))  # Name of your GPU (if available)\n"
   ]
  },
  {
   "cell_type": "code",
   "execution_count": 11,
   "metadata": {},
   "outputs": [],
   "source": [
    "# ----------------------\n",
    "# Step 2: Random GAN Model\n",
    "# ----------------------\n",
    "class RandomGAN(nn.Module):\n",
    "    def __init__(self):\n",
    "        super(RandomGAN, self).__init__()\n",
    "\n",
    "    def forward(self, x):\n",
    "        return torch.randn((128, 3, 32, 32)).clip(0, 1)\n",
    "\n",
    "GAN = RandomGAN()\n",
    "\n",
    "# Function to generate images from RandomGAN\n",
    "def generate_imgs():\n",
    "    x = torch.randn((128, 100))\n",
    "    return GAN(x).cuda()\n",
    "\n",
    "\n",
    "\n",
    "# ----------------------\n",
    "# Step 3: Copycat Model\n",
    "# ----------------------\n",
    "class CopycatModel:\n",
    "    \"\"\"A model that outputs training samples as its generated samples.\"\"\"\n",
    "    def __init__(self, train_dataset):\n",
    "        self.transform = transforms.Compose([transforms.ToTensor()])  # Ensure all images are converted to tensors\n",
    "        self.train_images = torch.stack([self.transform(train_dataset[i][0]) for i in range(len(train_dataset))])\n",
    "        self.index = 0\n",
    "\n",
    "    def generate_samples(self, batch_size=128):\n",
    "        \"\"\"Return a batch of training images, simulating overfitting.\"\"\"\n",
    "        batch = self.train_images[self.index : self.index + batch_size]\n",
    "        self.index = (self.index + batch_size) % len(self.train_images)\n",
    "        return batch"
   ]
  },
  {
   "cell_type": "code",
   "execution_count": 5,
   "metadata": {},
   "outputs": [
    {
     "name": "stdout",
     "output_type": "stream",
     "text": [
      "Files already downloaded and verified\n",
      "Files already downloaded and verified\n"
     ]
    }
   ],
   "source": [
    "# ----------------------\n",
    "# Step 4: Load Datasets\n",
    "# ----------------------\n",
    "train_dataset = torchvision.datasets.CIFAR10(root=r\"D:\\ift6164\\data\", train=True, download=True)\n",
    "train_dataset.name = \"CIFAR10_train\"  # Dataset needs a name to cache features\n",
    "\n",
    "test_dataset = torchvision.datasets.CIFAR10(root=r\"D:\\ift6164\\data\", train=False, download=True)\n",
    "test_dataset.name = \"CIFAR10_test\""
   ]
  },
  {
   "cell_type": "code",
   "execution_count": 7,
   "metadata": {},
   "outputs": [
    {
     "name": "stdout",
     "output_type": "stream",
     "text": [
      "Extracting features for datasets...\n"
     ]
    },
    {
     "name": "stderr",
     "output_type": "stream",
     "text": [
      "                                                 \r"
     ]
    }
   ],
   "source": [
    "# ----------------------\n",
    "# Step 5: Feature Extraction\n",
    "# ----------------------\n",
    "feature_extractor = InceptionFeatureExtractor()\n",
    "\n",
    "# Compute features for train and test datasets\n",
    "print(\"Extracting features for datasets...\")\n",
    "train_feat = feature_extractor.get_dataset_features(train_dataset)\n",
    "test_feat = feature_extractor.get_dataset_features(test_dataset)\n"
   ]
  },
  {
   "cell_type": "code",
   "execution_count": 8,
   "metadata": {},
   "outputs": [
    {
     "name": "stdout",
     "output_type": "stream",
     "text": [
      "Extracting features for RandomGAN...\n"
     ]
    },
    {
     "name": "stderr",
     "output_type": "stream",
     "text": [
      "100%|██████████| 79/79 [05:43<00:00,  4.35s/it]\n"
     ]
    }
   ],
   "source": [
    "# ----------------------\n",
    "# Step 6: Random GAN Features\n",
    "# ----------------------\n",
    "print(\"Extracting features for RandomGAN...\")\n",
    "random_gan_feat = feature_extractor.get_model_features(generate_imgs, num_samples=10_000)"
   ]
  },
  {
   "cell_type": "code",
   "execution_count": 12,
   "metadata": {},
   "outputs": [
    {
     "name": "stdout",
     "output_type": "stream",
     "text": [
      "Extracting features for Copycat model...\n"
     ]
    },
    {
     "name": "stderr",
     "output_type": "stream",
     "text": [
      "100%|██████████| 79/79 [05:33<00:00,  4.22s/it]\n"
     ]
    }
   ],
   "source": [
    "# ----------------------\n",
    "# Step 7: Copycat Model Features\n",
    "# ----------------------\n",
    "print(\"Extracting features for Copycat model...\")\n",
    "copycat_model = CopycatModel(train_dataset)\n",
    "\n",
    "def copycat_generate():\n",
    "    return copycat_model.generate_samples(batch_size=128)\n",
    "\n",
    "copycat_feat = feature_extractor.get_model_features(copycat_generate, num_samples=10_000)"
   ]
  },
  {
   "cell_type": "code",
   "execution_count": null,
   "metadata": {},
   "outputs": [
    {
     "name": "stderr",
     "output_type": "stream",
     "text": [
      "c:\\Users\\oumni\\PycharmProjects\\ift6164\\FLD_MAIN\\fld\\fld\\metrics\\FLD.py:78: UserWarning: Very high FLD value, your generated data is likely completely memorized.\n",
      "  warnings.warn(\n",
      "                                               \r"
     ]
    },
    {
     "name": "stdout",
     "output_type": "stream",
     "text": [
      "\n",
      "--- Evaluation Results ---\n",
      "RandomGAN Metrics:\n",
      "  FLD: 55.97\n",
      "  FID (Train): 440.21\n",
      "  FID (Test): 440.48\n",
      "  Generalization Gap: 0.06\n",
      "\n",
      "Copycat Metrics:\n",
      "  FLD: 814240.33\n",
      "  FID (Train): 2.12\n",
      "  FID (Test): 5.20\n",
      "  Generalization Gap: -163051.56\n"
     ]
    },
    {
     "name": "stderr",
     "output_type": "stream",
     "text": [
      "c:\\Users\\oumni\\PycharmProjects\\ift6164\\FLD_MAIN\\fld\\fld\\metrics\\FLD.py:59: UserWarning: Very high FLD gen gap value: your generated data is likely completely memorized.\n",
      "  warnings.warn(\n"
     ]
    }
   ],
   "source": [
    "\n",
    "# ----------------------\n",
    "# Step 8: Compute Metrics\n",
    "# ----------------------\n",
    "fld = FLD()\n",
    "fid = FID()\n",
    "\n",
    "train_feat_cpu = train_feat.cpu()\n",
    "test_feat_cpu = test_feat.cpu()\n",
    "random_gan_feat_cpu = random_gan_feat.cpu()\n",
    "copycat_feat_cpu = copycat_feat.cpu()\n",
    "\n",
    "# Compute FLD & FID with CPU features\n",
    "random_gan_fld = fld.compute_metric(train_feat_cpu, test_feat_cpu, random_gan_feat_cpu)\n",
    "\n",
    "\n",
    "random_gan_fid_train = fid.compute_metric(train_feat_cpu, None, random_gan_feat_cpu)\n",
    "random_gan_fid_test = fid.compute_metric(test_feat_cpu, None, random_gan_feat_cpu)\n",
    "random_gan_gen_gap = FLD(\"gap\").compute_metric(train_feat_cpu, test_feat_cpu, random_gan_feat_cpu)\n",
    "\n",
    "\n",
    "copycat_fld = fld.compute_metric(train_feat_cpu, test_feat_cpu, copycat_feat_cpu)\n",
    "copycat_fid_train = fid.compute_metric(train_feat_cpu, None, copycat_feat_cpu)\n",
    "copycat_fid_test = fid.compute_metric(test_feat_cpu, None, copycat_feat_cpu)\n",
    "copycat_gen_gap = FLD(\"gap\").compute_metric(train_feat_cpu, test_feat_cpu, copycat_feat_cpu)\n",
    "\n",
    "\n",
    "# ----------------------\n",
    "# Step 9: Display Results\n",
    "# ----------------------\n",
    "print(\"\\n--- Evaluation Results ---\")\n",
    "print(\"RandomGAN Metrics:\")\n",
    "print(f\"  FLD: {random_gan_fld:.2f}\")\n",
    "print(f\"  FID (Train): {random_gan_fid_train:.2f}\")\n",
    "print(f\"  FID (Test): {random_gan_fid_test:.2f}\")\n",
    "print(f\"  Generalization Gap: {random_gan_gen_gap:.2f}\")\n",
    "\n",
    "print(\"\\nCopycat Metrics:\")\n",
    "print(f\"  FLD: {copycat_fld:.2f}\")\n",
    "print(f\"  FID (Train): {copycat_fid_train:.2f}\")\n",
    "print(f\"  FID (Test): {copycat_fid_test:.2f}\")\n",
    "print(f\"  Generalization Gap: {copycat_gen_gap:.2f}\")"
   ]
  },
  {
   "cell_type": "code",
   "execution_count": 24,
   "metadata": {},
   "outputs": [
    {
     "data": {
      "image/png": "[encoded data removed]",
      "text/plain": [
       "<Figure size 1000x600 with 1 Axes>"
      ]
     },
     "metadata": {},
     "output_type": "display_data"
    }
   ],
   "source": [
    "import matplotlib.pyplot as plt\n",
    "import numpy as np\n",
    "\n",
    "# Data for plotting\n",
    "models = [\"RandomGAN\", \"CopycatModel\"]\n",
    "\n",
    "fld_scores = [random_gan_fld, copycat_fld]\n",
    "fid_train_scores = [random_gan_fid_train, copycat_fid_train]\n",
    "fid_test_scores = [random_gan_fid_test, copycat_fid_test]\n",
    "\n",
    "# ----------------------\n",
    "# Plot Comparison of FLD and FID Scores\n",
    "# ----------------------\n",
    "x = np.arange(len(models))  # Label positions\n",
    "width = 0.25  # Bar width\n",
    "\n",
    "fig, ax = plt.subplots(figsize=(10, 6))\n",
    "rects1 = ax.bar(x - width, fld_scores, width, label=\"FLD\", alpha = 0.9, color='orange')\n",
    "rects2 = ax.bar(x, fid_train_scores, width, label=\"FID (Train)\",alpha = 0.9, color='green')\n",
    "rects3 = ax.bar(x + width, fid_test_scores, width, label=\"FID (Test)\", alpha = 0.9, color='#823299')\n",
    "\n",
    "ax.set_ylabel(\"Score Value (Log Scale)\")\n",
    "ax.set_title(\"Comparison of FLD and FID Scores\")\n",
    "ax.set_xticks(x)\n",
    "ax.set_xticklabels(models)\n",
    "ax.legend()\n",
    "ax.set_yscale(\"log\")  # Use log scale due to large differences in FLD\n",
    "\n",
    "plt.show()\n"
   ]
  },
  {
   "cell_type": "code",
   "execution_count": null,
   "metadata": {},
   "outputs": [],
   "source": []
  }
 ],
 "metadata": {
  "kernelspec": {
   "display_name": "venv",
   "language": "python",
   "name": "python3"
  },
  "language_info": {
   "codemirror_mode": {
    "name": "ipython",
    "version": 3
   },
   "file_extension": ".py",
   "mimetype": "text/x-python",
   "name": "python",
   "nbconvert_exporter": "python",
   "pygments_lexer": "ipython3",
   "version": "3.12.3"
  }
 },
 "nbformat": 4,
 "nbformat_minor": 2
}
